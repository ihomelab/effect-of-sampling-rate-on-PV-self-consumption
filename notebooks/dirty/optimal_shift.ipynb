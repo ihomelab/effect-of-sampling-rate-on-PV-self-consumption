{
 "cells": [
  {
   "cell_type": "code",
   "execution_count": 1,
   "metadata": {},
   "outputs": [],
   "source": [
    "import pandas as pd\n",
    "import numpy as np\n",
    "from matplotlib import pyplot as plt"
   ]
  },
  {
   "cell_type": "code",
   "execution_count": 15,
   "metadata": {},
   "outputs": [
    {
     "data": {
      "image/png": "[encoded data removed]",
      "text/plain": [
       "<Figure size 432x288 with 2 Axes>"
      ]
     },
     "metadata": {
      "needs_background": "light"
     },
     "output_type": "display_data"
    }
   ],
   "source": [
    "unused_power = np.array([2, 5, 4, 8, 2, 3, 0, 0, 0, 4, 9, 5])\n",
    "shiftable_power = np.array([3, 5, 1])\n",
    "\n",
    "fig, ax = plt.subplots(2, 1, sharex=True, sharey=True)\n",
    "for i, power in enumerate([unused_power, shiftable_power]):\n",
    "    ax[i].bar(np.arange(len(power)), power)"
   ]
  },
  {
   "cell_type": "code",
   "execution_count": 25,
   "metadata": {},
   "outputs": [
    {
     "data": {
      "text/plain": [
       "2"
      ]
     },
     "execution_count": 25,
     "metadata": {},
     "output_type": "execute_result"
    }
   ],
   "source": [
    "def shift_for_max_self_consumption(unused_power, shiftable_power):\n",
    "    if len(unused_power) < len(shiftable_power):\n",
    "        raise ValueError('unused_power must be at least as long as shiftable_power')\n",
    "    return np.argmax([\n",
    "        np.minimum(unused_power[i:i + len(shiftable_power)], shiftable_power).sum()\n",
    "        for i in range(len(unused_power) - len(shiftable_power))\n",
    "    ])\n",
    "\n",
    "shift_for_max_self_consumption(unused_power, shiftable_power)"
   ]
  },
  {
   "cell_type": "code",
   "execution_count": null,
   "metadata": {},
   "outputs": [],
   "source": []
  }
 ],
 "metadata": {
  "kernelspec": {
   "display_name": "Python 3",
   "language": "python",
   "name": "python3"
  },
  "language_info": {
   "codemirror_mode": {
    "name": "ipython",
    "version": 3
   },
   "file_extension": ".py",
   "mimetype": "text/x-python",
   "name": "python",
   "nbconvert_exporter": "python",
   "pygments_lexer": "ipython3",
   "version": "3.6.9"
  }
 },
 "nbformat": 4,
 "nbformat_minor": 4
}
