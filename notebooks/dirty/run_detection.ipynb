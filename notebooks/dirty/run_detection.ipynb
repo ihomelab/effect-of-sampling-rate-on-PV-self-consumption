{
 "cells": [
  {
   "cell_type": "code",
   "execution_count": 1,
   "metadata": {},
   "outputs": [
    {
     "name": "stderr",
     "output_type": "stream",
     "text": [
      "Using TensorFlow backend.\n",
      "/home/philippe/src/temp/load-shifting-potential/.venv/lib/python3.6/site-packages/tensorflow/python/framework/dtypes.py:516: FutureWarning: Passing (type, 1) or '1type' as a synonym of type is deprecated; in a future version of numpy, it will be understood as (type, (1,)) / '(1,)type'.\n",
      "  _np_qint8 = np.dtype([(\"qint8\", np.int8, 1)])\n",
      "/home/philippe/src/temp/load-shifting-potential/.venv/lib/python3.6/site-packages/tensorflow/python/framework/dtypes.py:517: FutureWarning: Passing (type, 1) or '1type' as a synonym of type is deprecated; in a future version of numpy, it will be understood as (type, (1,)) / '(1,)type'.\n",
      "  _np_quint8 = np.dtype([(\"quint8\", np.uint8, 1)])\n",
      "/home/philippe/src/temp/load-shifting-potential/.venv/lib/python3.6/site-packages/tensorflow/python/framework/dtypes.py:518: FutureWarning: Passing (type, 1) or '1type' as a synonym of type is deprecated; in a future version of numpy, it will be understood as (type, (1,)) / '(1,)type'.\n",
      "  _np_qint16 = np.dtype([(\"qint16\", np.int16, 1)])\n",
      "/home/philippe/src/temp/load-shifting-potential/.venv/lib/python3.6/site-packages/tensorflow/python/framework/dtypes.py:519: FutureWarning: Passing (type, 1) or '1type' as a synonym of type is deprecated; in a future version of numpy, it will be understood as (type, (1,)) / '(1,)type'.\n",
      "  _np_quint16 = np.dtype([(\"quint16\", np.uint16, 1)])\n",
      "/home/philippe/src/temp/load-shifting-potential/.venv/lib/python3.6/site-packages/tensorflow/python/framework/dtypes.py:520: FutureWarning: Passing (type, 1) or '1type' as a synonym of type is deprecated; in a future version of numpy, it will be understood as (type, (1,)) / '(1,)type'.\n",
      "  _np_qint32 = np.dtype([(\"qint32\", np.int32, 1)])\n",
      "/home/philippe/src/temp/load-shifting-potential/.venv/lib/python3.6/site-packages/tensorflow/python/framework/dtypes.py:525: FutureWarning: Passing (type, 1) or '1type' as a synonym of type is deprecated; in a future version of numpy, it will be understood as (type, (1,)) / '(1,)type'.\n",
      "  np_resource = np.dtype([(\"resource\", np.ubyte, 1)])\n",
      "/home/philippe/src/temp/load-shifting-potential/.venv/lib/python3.6/site-packages/tensorboard/compat/tensorflow_stub/dtypes.py:541: FutureWarning: Passing (type, 1) or '1type' as a synonym of type is deprecated; in a future version of numpy, it will be understood as (type, (1,)) / '(1,)type'.\n",
      "  _np_qint8 = np.dtype([(\"qint8\", np.int8, 1)])\n",
      "/home/philippe/src/temp/load-shifting-potential/.venv/lib/python3.6/site-packages/tensorboard/compat/tensorflow_stub/dtypes.py:542: FutureWarning: Passing (type, 1) or '1type' as a synonym of type is deprecated; in a future version of numpy, it will be understood as (type, (1,)) / '(1,)type'.\n",
      "  _np_quint8 = np.dtype([(\"quint8\", np.uint8, 1)])\n",
      "/home/philippe/src/temp/load-shifting-potential/.venv/lib/python3.6/site-packages/tensorboard/compat/tensorflow_stub/dtypes.py:543: FutureWarning: Passing (type, 1) or '1type' as a synonym of type is deprecated; in a future version of numpy, it will be understood as (type, (1,)) / '(1,)type'.\n",
      "  _np_qint16 = np.dtype([(\"qint16\", np.int16, 1)])\n",
      "/home/philippe/src/temp/load-shifting-potential/.venv/lib/python3.6/site-packages/tensorboard/compat/tensorflow_stub/dtypes.py:544: FutureWarning: Passing (type, 1) or '1type' as a synonym of type is deprecated; in a future version of numpy, it will be understood as (type, (1,)) / '(1,)type'.\n",
      "  _np_quint16 = np.dtype([(\"quint16\", np.uint16, 1)])\n",
      "/home/philippe/src/temp/load-shifting-potential/.venv/lib/python3.6/site-packages/tensorboard/compat/tensorflow_stub/dtypes.py:545: FutureWarning: Passing (type, 1) or '1type' as a synonym of type is deprecated; in a future version of numpy, it will be understood as (type, (1,)) / '(1,)type'.\n",
      "  _np_qint32 = np.dtype([(\"qint32\", np.int32, 1)])\n",
      "/home/philippe/src/temp/load-shifting-potential/.venv/lib/python3.6/site-packages/tensorboard/compat/tensorflow_stub/dtypes.py:550: FutureWarning: Passing (type, 1) or '1type' as a synonym of type is deprecated; in a future version of numpy, it will be understood as (type, (1,)) / '(1,)type'.\n",
      "  np_resource = np.dtype([(\"resource\", np.ubyte, 1)])\n"
     ]
    }
   ],
   "source": [
    "import pandas as pd\n",
    "import numpy as np\n",
    "import os\n",
    "import matplotlib.pyplot as plt\n",
    "import itertools\n",
    "import random\n",
    "import re\n",
    "import math\n",
    "from sklearn.neighbors import LocalOutlierFactor\n",
    "from sklearn.model_selection import train_test_split\n",
    "from sklearn.manifold import TSNE\n",
    "from sklearn.cluster import AffinityPropagation\n",
    "import scipy\n",
    "from scipy import optimize\n",
    "import scipy.stats\n",
    "import datashader as ds\n",
    "import colorcet\n",
    "import keras\n",
    "from keras_tqdm import TQDMNotebookCallback"
   ]
  },
  {
   "cell_type": "code",
   "execution_count": 2,
   "metadata": {},
   "outputs": [],
   "source": [
    "def centered_moving_sum(a, n) :\n",
    "    return np.convolve(a, np.ones(n, dtype=int), 'full')[(n // 2):]"
   ]
  },
  {
   "cell_type": "code",
   "execution_count": 3,
   "metadata": {},
   "outputs": [],
   "source": [
    "def grouper(iterable, n, fillvalue=None):\n",
    "    \"Collect data into fixed-length chunks or blocks\"\n",
    "    # grouper('ABCDEFG', 3, 'x') --> ABC DEF Gxx\"\n",
    "    args = [iter(iterable)] * n\n",
    "    return itertools.zip_longest(*args, fillvalue=fillvalue)"
   ]
  },
  {
   "cell_type": "markdown",
   "metadata": {},
   "source": [
    "# Load the data"
   ]
  },
  {
   "cell_type": "code",
   "execution_count": 4,
   "metadata": {},
   "outputs": [],
   "source": [
    "data_dir = os.path.abspath('../../data/published_data_vs01/data')\n",
    "data_filenames = ['dfA_300s.hdf', 'dfD_300s.hdf', 'dfE_300s.hdf']"
   ]
  },
  {
   "cell_type": "code",
   "execution_count": 5,
   "metadata": {},
   "outputs": [],
   "source": [
    "input_arrays = []\n",
    "for filename in data_filenames:\n",
    "    df = pd.read_hdf(os.path.join(data_dir, filename))\n",
    "    \n",
    "    column_mapping = {}\n",
    "    for c in df.columns:\n",
    "        if c in column_mapping:\n",
    "            continue\n",
    "        m = re.match(r'^[A-Z]_(\\w+)$', c)\n",
    "        if m is None:\n",
    "            raise RuntimeError('Unsupported column name format {}. You will have to map the column manually.'.format(c))\n",
    "        column_mapping[c] = m[1]\n",
    "    df.rename(columns=column_mapping, inplace=True)\n",
    "    \n",
    "    all_appliance_columns = sorted({'dishwasher_power', 'washing_machine_power', 'tumble_dryer_power'} & set(df.columns))\n",
    "    for c in all_appliance_columns:\n",
    "        input_arrays.append(df[c].to_numpy())"
   ]
  },
  {
   "cell_type": "code",
   "execution_count": 6,
   "metadata": {},
   "outputs": [],
   "source": [
    "input_arrays = [a[~np.isnan(a)] for a in input_arrays]"
   ]
  },
  {
   "cell_type": "code",
   "execution_count": 7,
   "metadata": {},
   "outputs": [
    {
     "data": {
      "text/plain": [
       "[166147, 166147, 296666, 286900, 273043, 273815, 273814, 273713]"
      ]
     },
     "execution_count": 7,
     "metadata": {},
     "output_type": "execute_result"
    }
   ],
   "source": [
    "[len(a) for a in input_arrays]"
   ]
  },
  {
   "cell_type": "code",
   "execution_count": 8,
   "metadata": {},
   "outputs": [
    {
     "data": {
      "image/png": "[encoded data removed]",
      "text/plain": [
       "<Figure size 432x288 with 1 Axes>"
      ]
     },
     "metadata": {
      "needs_background": "light"
     },
     "output_type": "display_data"
    }
   ],
   "source": [
    "plt.hist(input_arrays, log=True, bins=10)\n",
    "plt.show()"
   ]
  },
  {
   "cell_type": "markdown",
   "metadata": {},
   "source": [
    "# Experiment with one appliance"
   ]
  },
  {
   "cell_type": "markdown",
   "metadata": {},
   "source": [
    "## Find very rough active areas\n",
    "These areas are detected very convervatively. In these areas the appliance may be on. Outside of these areas it is very unlikely to be on."
   ]
  },
  {
   "cell_type": "code",
   "execution_count": 9,
   "metadata": {},
   "outputs": [],
   "source": [
    "# If no significant power is drawn for this many periods, the appliance is assumed to be off\n",
    "safe_pause = 24\n",
    "\n",
    "# The appliance is assumed to be on less than this ratio of the time\n",
    "safe_covered_ratio = 0.5"
   ]
  },
  {
   "cell_type": "code",
   "execution_count": 10,
   "metadata": {},
   "outputs": [
    {
     "data": {
      "text/plain": [
       "296666"
      ]
     },
     "execution_count": 10,
     "metadata": {},
     "output_type": "execute_result"
    }
   ],
   "source": [
    "chosen_input_array = random.choice(input_arrays)\n",
    "len(chosen_input_array)"
   ]
  },
  {
   "cell_type": "code",
   "execution_count": 11,
   "metadata": {},
   "outputs": [],
   "source": [
    "def detect_activity(input_array, window_size = safe_pause, greater_than=0):\n",
    "    return centered_moving_sum(input_array > greater_than, window_size) > 0"
   ]
  },
  {
   "cell_type": "code",
   "execution_count": 12,
   "metadata": {},
   "outputs": [
    {
     "name": "stdout",
     "output_type": "stream",
     "text": [
      "Mask covers 14.79% of samples\n"
     ]
    }
   ],
   "source": [
    "detected_mask = detect_activity(chosen_input_array)\n",
    "print(\"Mask covers {:.2f}% of samples\".format(100 * np.sum(detected_mask) / len(detected_mask)))"
   ]
  },
  {
   "cell_type": "code",
   "execution_count": 13,
   "metadata": {},
   "outputs": [
    {
     "data": {
      "image/png": "[encoded data removed]",
      "text/plain": [
       "<Figure size 432x288 with 1 Axes>"
      ]
     },
     "metadata": {
      "needs_background": "light"
     },
     "output_type": "display_data"
    }
   ],
   "source": [
    "thresholds = np.logspace(0, math.log10(chosen_input_array.max()), num=10)\n",
    "covered_ratio = np.array(list(\n",
    "    detect_activity(chosen_input_array, greater_than=x).sum() / len(chosen_input_array)\n",
    "    for x in thresholds\n",
    "))\n",
    "plt.yscale('log')\n",
    "plt.gca().set_ylim([0.00001, 1])\n",
    "plt.xscale('log')\n",
    "plt.plot(thresholds, covered_ratio);"
   ]
  },
  {
   "cell_type": "code",
   "execution_count": 14,
   "metadata": {},
   "outputs": [
    {
     "data": {
      "text/plain": [
       "array([0.13469356, 0.13367221, 0.12850141, 0.11350812, 0.10783844,\n",
       "       0.09218448, 0.09105189, 0.08890469, 0.07882939, 0.        ])"
      ]
     },
     "execution_count": 14,
     "metadata": {},
     "output_type": "execute_result"
    }
   ],
   "source": [
    "covered_ratio"
   ]
  },
  {
   "cell_type": "code",
   "execution_count": 15,
   "metadata": {},
   "outputs": [
    {
     "name": "stdout",
     "output_type": "stream",
     "text": [
      "very_low_noise_threshold is 1 (at index 0; covering 13.47%)\n"
     ]
    }
   ],
   "source": [
    "i = np.argmax(covered_ratio < safe_covered_ratio)\n",
    "very_low_noise_threshold = thresholds[i]\n",
    "print(\"very_low_noise_threshold is {:.2g} (at index {}; covering {:.2f}%)\".format(\n",
    "    very_low_noise_threshold, i, 100 * covered_ratio[i],\n",
    "))"
   ]
  },
  {
   "cell_type": "code",
   "execution_count": 16,
   "metadata": {},
   "outputs": [
    {
     "name": "stdout",
     "output_type": "stream",
     "text": [
      "Mask covers 13.47% of samples\n"
     ]
    }
   ],
   "source": [
    "detected_mask = detect_activity(chosen_input_array, greater_than=very_low_noise_threshold)\n",
    "print(\"Mask covers {:.2f}% of samples\".format(100 * np.sum(detected_mask) / len(detected_mask)))"
   ]
  },
  {
   "cell_type": "code",
   "execution_count": 17,
   "metadata": {},
   "outputs": [],
   "source": [
    "def active_areas_from_detected(detected_mask):\n",
    "    detected_mask = np.append(np.insert(detected_mask, 0, False), False)\n",
    "    temp = np.diff(detected_mask.astype('int8'))\n",
    "    starts = np.argwhere(temp == 1)\n",
    "    ends = np.argwhere(temp == -1)\n",
    "    l = min(len(starts), len(ends))\n",
    "    return np.hstack((starts[:l], ends[:l]))"
   ]
  },
  {
   "cell_type": "code",
   "execution_count": 18,
   "metadata": {},
   "outputs": [
    {
     "name": "stdout",
     "output_type": "stream",
     "text": [
      "699\n"
     ]
    },
    {
     "data": {
      "text/plain": [
       "array([[146783, 146839],\n",
       "       [235046, 235102],\n",
       "       [231295, 231351]])"
      ]
     },
     "execution_count": 18,
     "metadata": {},
     "output_type": "execute_result"
    }
   ],
   "source": [
    "active_areas = active_areas_from_detected(detected_mask)\n",
    "print(len(active_areas))\n",
    "active_areas[np.random.choice(active_areas.shape[0], 3, replace=False)]"
   ]
  },
  {
   "cell_type": "code",
   "execution_count": 19,
   "metadata": {},
   "outputs": [],
   "source": [
    "active_area_data = [chosen_input_array[a[0]:a[1]] for a in active_areas]"
   ]
  },
  {
   "cell_type": "markdown",
   "metadata": {},
   "source": [
    "## Detect outliers"
   ]
  },
  {
   "cell_type": "code",
   "execution_count": 20,
   "metadata": {},
   "outputs": [],
   "source": [
    "# The max power used by the appliance in the initial active areas, filtered by this percentile,\n",
    "# is assumed to be roughly the max power used by the appliance\n",
    "rough_max_power_percentile = 95\n",
    "\n",
    "# Any initial active area where the max power used is less than\n",
    "# this ratio of the rough max power of the appliance is ignored\n",
    "too_low_power_ratio = 0.02"
   ]
  },
  {
   "cell_type": "code",
   "execution_count": 21,
   "metadata": {},
   "outputs": [],
   "source": [
    "len_max_coords = np.column_stack(([len(a) for a in active_area_data], [a.max() for a in active_area_data]))\n",
    "lof_labels = LocalOutlierFactor().fit_predict(len_max_coords)"
   ]
  },
  {
   "cell_type": "code",
   "execution_count": 22,
   "metadata": {},
   "outputs": [
    {
     "data": {
      "image/png": "[encoded data removed]",
      "text/plain": [
       "<Figure size 432x288 with 1 Axes>"
      ]
     },
     "metadata": {
      "needs_background": "light"
     },
     "output_type": "display_data"
    }
   ],
   "source": [
    "colors = np.array(['r.', 'g.', 'b.'])\n",
    "plt.scatter(len_max_coords[:, 0], len_max_coords[:, 1], c=lof_labels);"
   ]
  },
  {
   "cell_type": "code",
   "execution_count": 23,
   "metadata": {},
   "outputs": [
    {
     "data": {
      "image/png": "[encoded data removed]",
      "text/plain": [
       "<Figure size 432x288 with 1 Axes>"
      ]
     },
     "metadata": {
      "needs_background": "light"
     },
     "output_type": "display_data"
    }
   ],
   "source": [
    "plt.hist([len_max_coords[lof_labels == l][:, 1] for l in [1, -1]], stacked=True);"
   ]
  },
  {
   "cell_type": "code",
   "execution_count": 24,
   "metadata": {},
   "outputs": [
    {
     "name": "stdout",
     "output_type": "stream",
     "text": [
      "1874.0951999999997 37.48190399999999\n"
     ]
    }
   ],
   "source": [
    "rough_max_power = np.percentile(len_max_coords[:, 1], 95)\n",
    "too_low_power = rough_max_power * too_low_power_ratio\n",
    "print(rough_max_power, too_low_power)"
   ]
  },
  {
   "cell_type": "code",
   "execution_count": 25,
   "metadata": {},
   "outputs": [
    {
     "data": {
      "image/png": "[encoded data removed]",
      "text/plain": [
       "<Figure size 432x288 with 1 Axes>"
      ]
     },
     "metadata": {
      "needs_background": "light"
     },
     "output_type": "display_data"
    }
   ],
   "source": [
    "too_low_power_mask = len_max_coords[:, 1] < too_low_power\n",
    "plt.hist([len_max_coords[too_low_power_mask == l][:, 1] for l in [False, True]], stacked=True);"
   ]
  },
  {
   "cell_type": "code",
   "execution_count": 26,
   "metadata": {},
   "outputs": [
    {
     "name": "stdout",
     "output_type": "stream",
     "text": [
      "Using 91.70% of initial active areas\n"
     ]
    },
    {
     "data": {
      "image/png": "[encoded data removed]",
      "text/plain": [
       "<Figure size 432x288 with 1 Axes>"
      ]
     },
     "metadata": {
      "needs_background": "light"
     },
     "output_type": "display_data"
    }
   ],
   "source": [
    "initial_active_area_mask = ~too_low_power_mask & (lof_labels == 1)\n",
    "print(\"Using {:.2f}% of initial active areas\".format(\n",
    "    100 * initial_active_area_mask.sum() / len(active_areas)))\n",
    "plt.scatter(len_max_coords[:, 0], len_max_coords[:, 1], c=initial_active_area_mask);"
   ]
  },
  {
   "cell_type": "markdown",
   "metadata": {},
   "source": [
    "## Filter outliers"
   ]
  },
  {
   "cell_type": "code",
   "execution_count": 27,
   "metadata": {},
   "outputs": [
    {
     "name": "stdout",
     "output_type": "stream",
     "text": [
      "Using 641 active areas (58 ignored)\n"
     ]
    }
   ],
   "source": [
    "filtered_active_area_data, ignored_active_area_data = ([a for a, mask in zip(active_area_data, initial_active_area_mask) if mask == use] for use in [True, False])\n",
    "print(\"Using {} active areas ({} ignored)\".format(len(filtered_active_area_data), len(ignored_active_area_data)))"
   ]
  },
  {
   "cell_type": "code",
   "execution_count": 28,
   "metadata": {},
   "outputs": [
    {
     "data": {
      "image/png": "[encoded data removed]",
      "text/plain": [
       "<Figure size 720x216 with 2 Axes>"
      ]
     },
     "metadata": {
      "needs_background": "light"
     },
     "output_type": "display_data"
    }
   ],
   "source": [
    "_, axes = plt.subplots(1, 2, figsize=(10, 3))\n",
    "axes[0].plot(random.choice(filtered_active_area_data))\n",
    "axes[1].plot(random.choice(ignored_active_area_data));"
   ]
  },
  {
   "cell_type": "markdown",
   "metadata": {},
   "source": [
    "## Align active areas"
   ]
  },
  {
   "cell_type": "code",
   "execution_count": 29,
   "metadata": {},
   "outputs": [],
   "source": [
    "# Active areas will be aligned so that their first samples where\n",
    "# power is above this level line up.\n",
    "# The level is specified as a ratio of the peak power of each active area.\n",
    "alignment_min_energy_ratio = 0.5"
   ]
  },
  {
   "cell_type": "code",
   "execution_count": 30,
   "metadata": {},
   "outputs": [
    {
     "name": "stdout",
     "output_type": "stream",
     "text": [
      "Aligning to index 30 for padded length of 165\n"
     ]
    }
   ],
   "source": [
    "alignment_offsets = np.array([\n",
    "    np.argwhere(samples >= alignment_min_energy_ratio * samples.max())[0][0]\n",
    "    for samples in filtered_active_area_data\n",
    "])\n",
    "alignment_target = alignment_offsets.max()\n",
    "alignment_offsets = alignment_target - alignment_offsets\n",
    "aligned_length = max(\n",
    "    alignment_offsets[i] + len(samples)\n",
    "    for i, samples in enumerate(filtered_active_area_data)\n",
    ")\n",
    "\n",
    "print(\"Aligning to index {} for padded length of {}\".format(alignment_target, aligned_length))"
   ]
  },
  {
   "cell_type": "code",
   "execution_count": 31,
   "metadata": {},
   "outputs": [
    {
     "data": {
      "text/plain": [
       "(641, 165)"
      ]
     },
     "execution_count": 31,
     "metadata": {},
     "output_type": "execute_result"
    }
   ],
   "source": [
    "aligned_active_area_data = np.stack([\n",
    "    np.pad(samples, ((offset, aligned_length - len(samples) - offset)))\n",
    "    for offset, samples in zip(alignment_offsets, filtered_active_area_data)\n",
    "])\n",
    "aligned_active_area_data.shape"
   ]
  },
  {
   "cell_type": "code",
   "execution_count": 32,
   "metadata": {},
   "outputs": [
    {
     "data": {
      "image/png": "[encoded data removed]",
      "text/plain": [
       "<Figure size 432x288 with 1 Axes>"
      ]
     },
     "metadata": {
      "needs_background": "light"
     },
     "output_type": "display_data"
    }
   ],
   "source": [
    "i = random.randrange(len(aligned_active_area_data))\n",
    "plt.subplot()\n",
    "plt.plot(aligned_active_area_data[i])\n",
    "plt.plot(filtered_active_area_data[i]);"
   ]
  },
  {
   "cell_type": "markdown",
   "metadata": {},
   "source": [
    "## Vizualize curves"
   ]
  },
  {
   "cell_type": "code",
   "execution_count": 33,
   "metadata": {},
   "outputs": [
    {
     "data": {
      "image/png": "[encoded data removed]",
      "text/html": [
       "<img style=\"margin: auto; border:1px solid\" src='data:image/png;base64,iVBORw0KGgoAAAANSUhEUgAAArwAAADICAYAAAAKljK9AAA79ElEQVR4nO3dbYxk2Xkf9v8559567Z7pnu1dDptuLy2qldEIWSVMAmoTJrIc2ggirIN47AQIEii0ITuI4mQR2PyUhCESBHBiBCOJUAIZBj8ksWzQLYHYxImMhS3ZssejyIQ8FCetbZHiqMne4W7vdE9319u95yUfzj23qvq1qrve7/9HDmZ6prvepmfrX08953kAonNsbe+5ad8GIiIiolGQ074BNJt2dw6H/hqGZCIiIppFDLw0MtcJycOa51B9+rbP830hIiKaJwy8NFcmEarH5fRtn+f7QkRENE8YeGkitrb3XPgx7NcNe10P33k69PWMw1W34WC/PambQkREVGjRtG8ALa6H7zx1G5srAIAH99YFMHyAvU4VdO/ZMd5+674I17W7c4i337ovhr6gG7rqth+9YOAlIiKaBAZeOmNU1dEQPEdxWcNIOwZAN2R/8Stfn3q19zxa22nfBCIiokJgSwONTQiedD5rZjKHExERLRwGXpori9T3ysBLREQ0GQy8NDIbmyt97RDjeMu+1UhHfplERES02Bh4aWx0wh5VIiIimj4GXhqJre09Fw6JBe2WnsptmZfDYGZObicREdG8Y+Clc910KcLW9p6bZo/qdWb+Tpq5xuMz6/eJiIhoFnEsGZ1r3g+H9c79ffzu7rRvzshwOxsREdHwWOGlsZiVYHa6zWKSTh/iIyIioulg4KWxGEeFeJDwyIBJREREpzHw0tiMo4f3qmUWTx49RxTx25qIiIi6mAxobJxjsZWIiIimj4GX+pw3XmyWxGV1adtCq5EiLqtJ3qSJ2drecxubK9O+GUQ3wrYjIpoGBl461xtv3sXDd55e+4mp1UghxHRyc7Ue80mVBsLvk8mblQOtRFQsDLx0xiiqvI2jBKXKzSutpycdVOvxwjxhWsusNW2L8r1ERESXY+ClsRl1oNvdOcTqWmWklzkug7xomOZiDiIioiJh4KWxuWqiwqSwxYGIiKjYGHhpLKxx0KmdiaC5ulbhW9dEREQFxsBLI/Xg3rrY2t5zRlu0m3raN2emSSVm4gUBERHRomPgpbFJOgZPHj0f2eUd7LexSGO52MNL48QXU0REXQy8NHK7O4dQkYSzDq1G2vdnoQI8yOXM+kzgYZ2eOAFwSgCND7+3iIi6GHhpLNotDRXJqRxcm8We3dPh/eE7T51UC5PliYiIZhoDL42FTiyMthO/3rRj5qbtQSeTf3yIiIiKiIGXbuy81gOjLYQU0FMIvb1mfR3vwX572jeBiIho4THwUm5UPbMH+21Y66CU4MGsCxzstxGV5Jke54ssWj8zERHRJDHw0ljo1EJFkoH3Aq1GCimZX4mIiCaBgZcudN5UgUH0Vi0nOWt2a3vPxWV15vcf3FsXbB0gIiIqLgZeGgtjxtPSMM/h9XTwt5bVbyIioklg4KWxMNq3NExyUsPuziGq9Xhi1zeI3rnDp5dwWOOGHts2zBxjIiIi8hh4aeRajXTiYXce9LZ6TGM+MRERUVEx8FKfUUwD6DQ1VLZUwfDQGhEREU0ZAy+NXAi554Vdvh1PVGzXPQxLRHQTDLw0cq2TFJVaBMAfzOrtO53Eyt95Odh2uuWDIYCIiGg8GHhpbIQU7FW9hE77A+8kXgwQEREVEQMvjdTW9p6z1uXjyHrHko17ze/es2O88ebdsV3+qHEpBxER0WQw8NLItZsa1aUYzaPkTBXzura299zqWmUklzUrOMVi+thPOllckU1E08LASwBG+0QUglynrZGOKPD2Wl2rLERIGXTvBEPCeCzy4zrud1OIiOYNAy+N1JNHz+GyIGetg058D++De+uCPapdWlsoJaBZ5SUiIhq7aNo3gBbH1vaee/zuLoQAjg86gPMH10ZRjd3dOcS8V6x6F08AgONqYSIioolghZcuNcwq292dw3zLWtIxMMZN7GDW1vaem7W1wqfppL+aO452DyIiIjqLgZdGIvQM6sTCaP9DJwZ2RFXMg/025r3f8vQhtVEd6CMiIqLLMfDSjZw++GO0hXNAu6XhnB+9NY3+3Vk82Na7ec4aBykFR5PR2Azz7gwR0aJj4KWBXfXkubtzCGMc2k2NuKT8obXU9p0YL/LBtdPVbiE4i5eIiGgSeGiNAHSD6O7OIXrXAIdfh0pu+PjJo+f514bf+9bTF0jafipD+Nlah92dQ7z91n2xtb3n9p4d3/jw2cbmylwGZ3uqwqsiyVm8REREE8AKLwHwW8oevvPUAd0RYgf7bQDA43d3sbtziIfvPHWP393F43d38cabd9FqpNjdOcSTR8+xu3OIk5cJjLZotzSq9ciP3HLdkLe7c4hZP1g2Tr2Bl0GXiIhochh4CQCQdgzefuu+AICH7zx1O9/4CC8+aOLXvvZtNI4SPHvvEL/72/tIOwbVeozH7+6icZRg79kx3v/OEb7x+Ps4Puig09IAkPfvCinw7L3Dad61meFcf/sCQy8REdFkMPASAL8O+OE7T/Ne25OXCXRi86pk4yjJA9oH3z3B+985xve+fYS93z/KD2Md7rfRamrAOQgBKCX7qpobmytnZtEO4sG9dXHV1+3uHGLWVw/3VXiNQ5ow8BIREU0Ce3gJAPB89wTHhx08/a0PoCKJlx+182rtycsEUvmJAjq1cNYhLivo1OLkZYKVtQqSjsHRi7ZvWRAC1XoMa21e1Qw9wF/48uOxndI62G/j7bdme3RZb+9xmm2hIyIiovFihZcAAC8/aiMuKxwddPC93z/C93dPcLjfxsuPfB+vTi1ajRRSCahYQqcWzeMEpYpC8ySFNQ7HLxN02hpRJFBdimE0JxAAvkLde8gvkEpcuXzi9Ng3IiIiGh4rvATAB969bx8hLitEWaDttLQPZccJjPZtCknHQAgAzrdBRLH0fyaB1kmKWyslRLG/DMBPaYjLaupTFcJc3kmEx/OuJ7RkhIOAp0eUcV4qERHR+DDwEgCgcZzgYxtL6LQ1jg40Dj5s5T27USwhpIBSAlZb6MRCSIHmcQKtLWpLMXTHotPWaLcM7nzMB2bnHKz1B+Lo7GY1zuAlIiKaDLY0EABfnbXGQSkJ53wlFwDikv8WCePGmscpjHawxiHt+PDbOPLVS51aSClQv1XKw7I+1adarcdTr/ZOy+mpDEIIaB5cuxCr3kRENCoMvATAtye0TlLo1MJoC2ssShWFTsegeZKi09LdpRIdjZOXHaSJQbulUVuOEcUKzjoYbVGpRVh9rZqPJtPaYmNzpfABpne1sE4slGJr7mWK+sKIiIhGj4GXsLW956xxULGEkMDJoe/Zbbc0nHWo1mPEZQUpBZSSqC2VsPJKBZVahEo1wsnLBO1GCpcVK1snKTpNDSF81Xfcb933ri6+yKxsZzs9Xq13Nm/vJrtFs7W9507/uOpr+CKJiIhGhYGXAPhDVEL4lcCdtoY1Ds46VKpR/uelioKQPqQlHQtrHVqNFJWqQlSScPDV3NpyCYf7bf+WfRZ4w/a2IuttaXDOL+UA0Le+eTq3bDIe3FsX4ce0bwsRERULAy8BQB5e08QgTfyBM6MdmicpjLGIS77CG0W+x1cIQEUSaWKRphZKSQghYLLpDuVq5D82PuQtepgbRO+hNWtcPts4KPoLgvMsctWbiIgmh4GX8OTRc79MoqRQKisA/kDVKx+rYel2GaWyggAQlSSiWKJUVqgtxyhV/OdLKeCyMVta+wC89vFaPqUhuO6mtUXhGNsW0nUC+cN3ng7U1kFERKPBwEsAfBir1mO0WxpJW0NIvwksKklfibS+4mu0hYoERAi5WRtEeHveGIc4ljj8qA2p/OccH3Zu1NKwtb3nqvX40s958ug53njz7rUuf1KE6B/RZq5YOkHePFR5B+1LDg722/n9GvZriYhoeJzDS/jut176nlIBRJGfuSuVr+Za6xDHClJJ39Nbi/xb8w6oLZWQZjN5yxUFIXyf6tFBB69+ou5bGrSFiiQevvPUbWyu4Nl7h9O+u1PRaqQQUkCHcW2p7ZvaQP3mbcNcuK0huA56209/HRERjQcrvITWiW8zSDoGacf38MaxhIoklJKAAEplhSiSqNZjVKoR4rJCqaL8MgrjD2AJKZB2TN6bGtocrHF5RUvr0VQ15+0EvzWur1/XaD+W7PQyCjrfPFR5gcGC7tb2nltdq0zi5hARUYYVXsLhR37dbTiQBucnMizdLqFUVrAOUEpgebWM1kmKdlMD8AfdGkcJ2k3tt68JwFq/me2D754A6Pat3qR3d3fnEIsQEIzpjmizDhBSnFkx3GveqpxFNKq/oxDo+fdNRDQerPASTl52ACDv1QWA6lKM5ZUy4rKC0RalskLrJEX9VgnLK2UIKRCHlcORhDF+UkOo6sZllU9ocM7lvatRJHGw357CvZwua3wP9GnuksC7yOalYjsu8/YOBRHRvGPgJbQbvmIblxU6LQPnfAuDiiSscbh9pwJrHaQUaBwlkEpg6VYJSytlxCWJuCT73q5P2n47W2CNQ1xWU32Cf3BvXUw9aPcEfwD5CwIiIiIaLwZeQpr44OVXB3crvGsfryGKJar1CNWlGLdfqeCVuzUYbRGV/LdOuRKhUo/9ZYhsKUVb+1aILM+FPtVR9fAOMvFhVjarBUbbvrFkzjpIIZAWoIeXb9X32905HPhQGxERjQYDL/kJAtmSCOd83+3yShkAUK5FUJFEHEs0T1JY41BbirHySgVLt0uoLsVQSsA5hyjy305JYpF0DKLIT3lIsqrm1vaeC59zVbW3NyQd7Ldx1ergedBbBQ+tI0VtaSAiIpokBl7KAq//tRCAAFDOJjFIKVCpRVh5tYpyRaGSBeDXf2gFyD4PAOKS8hVMIZC0NKQUEFnF12ibv5Ufl9XIl0/Mw6E2Y5x/LLLQm3YMyrWIo8kKZmt7z1304q3ofc1EROPEwEtoNzWk8iPFjHEQEri1Ws5Darup8ZnPbUBl1VmpfDoulRXqyzGccyhX/YY2OIc0sajUomzig29piMtqploMJs3abtgNoUZKASlFoR8XIiKiSWDgJRhtIYSfCSulAOAXSSQdg9pyjKgk8eTRc0gl0G76/tyNzRW8/kMrKFejrJobSsQ+3J28TPLFFaOavTvPeucSh4BrrctbG3Z3DheibaNILupNZqWWiGj2MPBSPoFBa5tVHQEV+ZXCUSQRRRKtRopS2bc0JB2DJ4+eA/CV4Cj2Ex2EBOAAa6w/2BbLvoNaRWedyw/whceFPbw0avNwSJAvCoho0hh4CS5bgqCzaQ1S+ZXAgN++prMeXK0t2k2NtY/X86+NyyofTRZY6+AcIKW/cJOFvI3Nlb6xXEXiK7z9B9cA/7hPfVwajRSDHBHR7GHgJTjrEEUim9DgIJVEXFb41P07qN8qwRqH139oBZ2mRlSS+QGx8BZ8bSnOq8OAD9BJW0NkHxvjUK3Hhe1VzQNQVtZlwL3cPFQoLzPo9/l5VU5WPomIxoOBt+C2tvecc75SC/jqrFIC9VslAEC1HqNUVnj23iHKte4m6t6pCLXlEqTo9vH2jdwSgpMIMud1L7ClYfFcNAN63oM8EdE8Y+AlP0M3lkgTA2sdopLE+uvLONhvY3WtAq0tbt2p4M5rNVjj+iqU1bo/1BaXlZ9nBgDOV3VFNs3BGjvyUWTBZWOeZonR1j8uuv+xUJHE0Qv/eA6yUCN8HquAREREg2PgpbBcDUIIpB2LciXKw+6z9w7xqft30GqkeOPNu7DGYXWtgo3NFTx+dxeraxXEsYQQQJwdUnMuVHizFolsJfE4Hey3Z3p7lbX+wJq13fXCrO7OL1ZriYjmCwMvwcEfVAtjxEpZe0NwsN9GtR6fCZTVeoy9Z8eo3yqhlC2pEAIw2o/bErIb6tKOyXt+R3FwbdZWBw/C9IxnM8bmPc5EREQ0Xgy8Bffk0XM/Sky7bIyYQ6naDbyht3d1rYIvfuXrLiydOK26FOeLKZzzUxqccQBEPoIrjDIrIp36tc06tflcYilFPqaMrjZPrRwbmyvXntYwT/eTiGheMPAWXOgfdQBUJGBNf4U37Zj8gFpv7+mDe+tida2Caj0G4FcM94ZhnRiEfcXG2Pzr47IaahHF1vaem/W1wYNw1q8WzufwWl/xDY9NERUp2LEFgohouhh4C67d1AB8+KpUIzjrUCpHeRDW2mJjcyVvRyiVFfaeHQMA3n7rvgB8Fbi3FaJ/qYKfPxtU6/GZWbTj8ODeupil8V/GuL7NaqEKfhEGpMXEv1cioulg4C245klWtXWAynp4a8t+ru7bb90XveE0VHOr9Rhb23tua3vPvfHmXbQaKSrVCKWKghAiD3XGOAgh+npXr2veq4HhMeh9PIVA34sBKp55/74mIpoXDLwF18oCr3UOUSQhhMDSrRKiSOKLX/m6621vCCPKelsMdncOEWW9u6WKgoPLpz74KqavZKpI5u0Rk6jwzhpj/LSKTttX1MNj4rh7eerGFToZZomIZgcDb8EdH3YA4UeSJR0DIYVfF1xWePFBE5/9yU8C6G6PCuE2ONhvIy4rRCUJEf4n/OEspfzn6tRCKjFU7+6iscbl4davGfYtIM6h0I/LtNyktYBtCdfDx42IpomBt+Cax77CK+CDqRBAFMu8fQFAPo5s79lxPrWhV7Ue+yCcPZU5+LmzRvvRW9bYsVZ1nzx6jjfevDu2yx8FYyycxZnHQYizv7dIGHKIiGgWMPAW2Nb2nksTky9Iy4YqoLYco9VI+6q5F20zCwsp8q8XyDeKQWSjt7RDu+Xfyh/lQbKNzRU8efQcszTF4aKAZ7QDhH9c0qySbrTNln2YCx/folnEgLyI94mIaN4w8BZcCKIOgNa+zxRAX4U3WH99GcDFSx+iWHW3C1sf8oTwFV4pxdQrmatrlWvPRr2xsH0uW7sM+B5ey21rCyWE29C/O+i66HFhHzERkcfAW3BJ22Q9vECnpfPlEQDOtC9cVoWMywpxKfta4VsanPNVzXAua9qBd5pCyHU9o8kuWuJBi4XVeyKi6WPgLbiwCEFKAZ1YKCUQRfJMm0BvpSq8Pdv7cdoxqNTjvKUB8OEudDkkbTOS8WRzy3XXLOvE5gf7hOiGYVpMbGcgIpo+Bt6CS9oGgK82tlspShWFz/7kJ7H37PjctoZeB/vt/HPiskIc+0kNzvrWiLyqCT+iLFSPhwm+uzuHC1Ehc+hWdkPvbsC2BiIiovFi4C2w3Z1DGOPDlxACSdvkAbZ3pXDQG3ABf2AtfE61HiOKJYREPn4rZDprXD6arHc9cZEY7ecRh2jrnH9REJcUOk19bk80FQP7bImIxo+Bt+BCX62UfkNaqXJ27Nh5Lqy6CgEHQMhuBdM5H3hLZVXcwGssnHN5ddudeqw3Nlemd6COiIhowTHwFtjes+P87XQh/WSFuORDWFxWeai9KIid1/IgpYDVfqmCNd1Da8a4ay1YONhvj6wH8qLpEuP25NHz/NdG+/Afyt+9h9iIiIhoPBh4Cy4/MJX9FPpsP/O5jSu/9rz5t0L48Jz36WaXa3R3+YSKZOHewnfG9zOEhRzIepptVv0uqiK9nc95vERE08PAW3DOOIie0WHVegTg/JPlq2uVMy0Jva0NKpJ5P7AxfgZv7zrdUllBJ8UMd8a4fBKGdcgrvEUe1UYXK9ILASKiSWDgLbgQSMNM2HI1uvZlRSV/aC27ZP+TEH1v2xdpNFlvYLHWZfOJLYz2izjSjvEvCtjSQERENFYMvAXnnP8RJixIKQbqmX1wb12cXhMspa/uhnVrDv5tfOd8JTMssihK6H387m73A9e/gCO80ACA3rzLw2tERESjx8BbUFvbey7tGDjnWxqk8mF10O1fW9t7rreHd3WtAp1aqEhkgc4fggtjyoTwo86KpHGU5L/W2uZj2sIcXmtddliQ+RZgj+uo8YUTEVEXA2+BaW3zqiOcbyutLl2+bOIyURx6eNEzcNb/CBXeIm0V6w34NuvhDRX1vJUkC740H+YplBftYCgR0WUYeAus09TdDwQghMCr6/WBv753bFn4tZ/nm12kzPNuoYJuEO7z0Yu2fxGQ9esmHZNX0q0r3uNCREQ0aQy8BbW7c4g0tXm7QahArr++PPBlnK50KSXyPmBrfVtD+ASddqudKpI43f+7yEIl3WWPiTUWSvl/enFJQaeW1Tgaqd4XoURExMBbaPmIMOH7blV0/Xdqd3cOUa5F4eJyIfRa6/p6Wgdxuk/4tCePnuONN+9eupyid7zTeQftxilp+5AfRo/lq5Ztd1SblJzSQERENG4MvAXWPO4PoL3rgC9SrcfnHoYJ1aRQuXTOQfbO4bWjnTn74N66mPU1xZ1Wt2XEjyXzj0do+bDcsrbQOEuXiGh2MPAW2MlLH3gFgDQxqNSivlaDUDUNb7dvbK6cWTzx4N666H07XshuyBUS2VILl1cxrXWIShJHLxa/paG3khtaGoQQ0Knv4e2t7C5ii8c8HfBaFHzMiYjOx8BbYK1mmk1n8JvRSmV17rrgXtV6fGm/qVICrmfMrt+25n+ddIzv7y3YATajs2UTyt93nViUyiqfS3z63NruzuFAs5CJiIhoMAy8BXWw30bSMT5sZYfWoljiJgddomy1cDipppTMDq91q7ujFvp4Z83W9p6LYomt7T1njK9wh8cjsMZBKQFj/CuE09VyoutglZeI6CwG3oJqNVI0XqaAyKYqGIvq0sXV20GfRMO4rbB0InDW5QGvCBXeJ4+eIy4p7O4cQqcW1jrEZZlvmbPWv8DQaTG2zhUdQygR0XQx8BaYtRbIxpI5AOVKdOXXrK5VLuw3vXWnAhX5xRPGWAgpsh7e7kzauKyQjGjjWrXul2TMYlW01UgRlfz4tTzg9+R8lx1YE9K3gKyuVbgZq8DGccCNh+aIiLoYeAssry5mLQ21G2xZC1Qks+quyN7CRz7nN5jUZIJphsi0YxDHEq1Gmrd0hNAf7n8Uy2w2b7EzyTDBjCGOiIiug4G3wMIc3rAOOLQjDOP0gPuwfAJA3psKdNfnpiOq7k7bIKFLRRJpx+QvLPxIsu6K4V6LOKVhGDyoNxrz9DjyxQsRTRIDb4H5QOqfG6UUkAPM4b2KirI5vNZB5HvWfBXTaJv/udbz3bs6SBtFVJJIOubM4ok0sRf2725srhQ+/BIREY0aA2+BGePyECaEuFaF97Qolnn1MoolrPGzZ432P/e6qLqzCAd82k2NO6/VYI0P+s75qRVCdOfvRnFY0uHbL2axF5mIiGgRMPAWmev5WXSrszehlK8UCyGQpgZCIu9R7bR0HqoXbVLD6fButM2XdISWZRVJ389sQ8VX5H28rOoSERGNDwNvgYUg6uAubWfY2FwZuPoolfRdEj0X51y3fxUYPOzu7hz2zQWe5Z6/8x6f0K8cfpay+1gAvuUBQOEPrREREY0bA28BhdB4eiPaTVoadncOsbpW8euE4Xt4pci6eJ3/4axb2ArvRcKWNTj4iRVZ6DXaorYU5+0fp1c20/yZdivO6QOkRETUxcBbYFkOBRygotE9T4fZsn6LW7aIomcWb1G0m9pPakgsnHOQEj74Oz9/N2y3c3ZxpldcF4MaERGNEwNvQbUaKXpnYwkh8Op6/UaXebDfztYL+zYJIbuTCYyxQ8/fPdhvz82IpfN6cJsnvmprtPWzjnt7poHuAg5x8WUUxbz8PRMR0Xxi4C2g3Z1DWOPgXNZ+AEBGAuuvL9/4suOy8r/IQp0QwleSs9XCUSRH0s6wtb3nVtcqN76cUTmvJSFUbUOPbu/EChVJ2LBtTcz/mDYiIqJZxsBbUKH6mA1ogLigvvbg3roY9MBaq5HmfalCir6KrkNW6YRfcGEWMOCd7uG0Wc+yMd2ZxC57lRFeALgJbZ2j6Zjlg5ZEREXCwFtQrSzwhsQ7iqUT1XqMKM5mzToHZ7PLzZZOCCm6b+NPyTTWDYf1wWEkmbMun1HsnJ9s0WnqoS6TQYqIiGhwDLwF1W7qvNoI51sRhj04dNGpdCH8BAghkZePw0SISU1nGOeJ9a3tPff2W/cvDZzhgF7aMdDa+ikYvYf50D+qDeDyiVl33SkM87Tul4hoUTHwFlSnpeHfW/dF3kotutGTcjhwJYSAkCILvb6qmc/7tW7krQytRjoTJ/zXX1/Gk0fP849DkO20jd8yF/6lZY/H6YkVizbBYtojuoiIiHox8BbQwX47ay3ohqy4pAb++lYjvTAcR6Wz28TC1VhzNugVQW+frn8B0P0zpQT7eOlcbFshIhqdaNo3gCav1UhhtO0LXpXa5d8KG5sree/rs/cOL/y80AsshF+3FvKucw721Fv4iyI8Lgf73Qpv2jH5i4g0MZDSL/aIIolOx/ieZiFQKitYs5iPCxER0axghbegwjIEwEEAWF2rjuyypfSH1uKSzA+tOev7eq3pTi64qb1nx5eOUhtmwsRNnNejqVOLUkXlB9OsdYhKKl/0MYpDgkQBW0iIiC7HwFtQoZc2jBC7yVrhXqWyygKvv9xwHX67mB9JppPJjiSb9FvD4bqU8sE/hN5SWfW1L4TeZojirFqmyZrUiz4iolnHwFtQ7ZbuLoeQ4tKK4zAbz6QS+Zgzk1rIyH+LWesgs2G/iziDt9eTR88RxRLGuLxvWQD5CwHAPwYqkrDO9/Uy8E7XOF8UzcKhSiKiomPgLai0Y3zS8v+/UYV3d+cQYetZKdu0JqWAMT3BNqv4DlrdvWqT2u7OIar1+Nq3eZyOXrT7NqlZ42cQW2OhlF/I4RwQxbKv4ruxuYJn73UfSxqPSb/9z1YDtlwQ0fQx8BaUTm13u5oIh8xuLqwWFhKQUgLoX7gAYOQHtIapzm1srkxk1m3as2DDGpe9AHDd9g7hWx7C4TXnWOGl8eg9cEpEVFQMvAWVJj5o+VkKl+vdTvbg3rrQ2l5asfEH1Xzo9WHOh1ybhTp5au3wogiPU7upEZcVdGKhU+vva9hmly3lAIByLYJO/QdCiL45vkRERDQ6DLwF5d9mB66Ou9eUVY3z3uAs36bJdFcLT4LRFjI7sCalgNEOKpLQutvSAPhVzNa4vNLeaqRTvNVERESLi4G3gFqNFMY4qJ6+3ag0mm+F9deXs01rImubEPm2NaP9Ia64rPre8l90zvrHWqB/6UT+GPS0NMRllW+to2LhogkiovFh4C0oZ7PwJQBc0b87SN/rwX4bq2sVbGyu5BfnrB9F5lx3p1uoft5kKsHW9p6b9ZPv1jgkbeN7l4F8AYeUIntcBJKOgcoOrnFKAxER0fgw8BaQnwvr+oLpq+v1gb8+iuSZANxqpPn4JSllXrHMD8Nl47fS1OZtDos8H9Qal7coOOcgleyOYxPIe3ejuDvNgYiIiMaDgbeA2k0NIZDPhxVSXLqxbFhSdX8ter7DrHF9Y7gWmdE2D7Vhw1wc+01rAr6XOUxvADiHl/qxtYGIaLQYeAsoVBNDq4EacgbvVX2mSkm/PjcSsNrlVV6tLZwDKrUIyRU9vLs7h+cO7J+XzVE2a1MI29WERNbe4fIWEqP9fF4w2tAp1/ke56xbIqKLMfAWUKepIbJeUsBXeIfpiU075tLlCHFJZnN3/cf+0JoPeFEskXbMQld6jXHQqYWKpR9L5nzoj2IFl1Vyo0ii0/ahX8j+7XO9Y+CIiIjo5hh4C2Zre88lHdNdduB8+BqkMnTRKfKD/Xbf1rMwpaH7GwDgA7DIFjAIKW48jaC3b3hQD+6ti3FOQXhwb13orE/ZpBZparMKrsuquwDc2UNqC5z/iYiIpo6Bt4BefNDybQxZyBp2rfB5LQ2tRpqH5jCDVinhwy+yPlbrEGdVz6sqvAf77StDeAjZ06yG9k6MOG+jldE2m8crEUXSv9Do+XOlRF4Jp8FwfBcREQ2LgbdgdncO+8Kmg0MUj/bbQEqRjzyLs/m+Dv1VTSHFwi5aSDt+HJlUoW1EwCH0TfufjXH5IT6pBHRiUK3HCzGfmL2kREQ0axh4C6jTznp4s4+HrfBexbc0+JFkeXuD82EvHJiTUixEuDtPqGCrSMIYB8BBwLdyIO9q8EFXZGuWF/kFAI0XX2AQEV2NgbeArHV5/64QAnGpO0fsvLflh5E/8YrukgWpfLjWev7fu+8NFxdNjLDWIU0tyhWF1okPsSrKHpbsxUXvsgkpRT7CjAi4+b9DIiLqx8BbMAf77bx311ofem/dKed/PoqxXzI7sKbibKNaVnsyafZ2frZtbREC8EV0arMKbzaLN6twy6yy3ju1wvXsG+Zq4dl0VRV1lFVWVmyJiEaPgbdgWo00e5u9q1KLRnodKpYQ8DN4peq2NAjhN4u1TlJIebP1wjcxyrFf5x2uC1MapBKwp0azuayq3tvaAfiK76L08NJsmZfZ1URE48TAW0BpYvKxYQ4Oq2vVgb92d+ewbwTZeULYSxNf5ZT5wgV/oEtF2XzaGwTeJ4+e44037w78+ZM+2Z8v9+iZdRxaPJQSMNoiLit0Wjr/uwg9vKtrlYVeu0xERDRpDLwF1DxOUap0+3ZHPaWhdzKD7+GVfmrDqbhpFrClYXfn0AfarMqrU79dLo5lNqate3hPKpFX23lojYiIaHwYeAso6RjEWcgVEJdOaRikn7DVSM8snoDwCy1szwi00M/q3+ofbbF1VmazPnvvECqS/jEAulVsAVSX4mzmbv86YV8N960Mi9zXTHTarPy7JaLFx8BbQCa1KFV8324YH3aVy06Nn141XFuKYbVDXFJ+NFl28TbbtHbT3t2NzZWZrYaGwGqMRbkWQafW9+9aX0n3j3e35UFk7R8mm9JQrcfYe3Y8tdtPRES0iBh4C8ha110+MeRZ8IP9dl+4PU+lFsHBQUUCxvg+XsD3s0opkIbVu9cIvrN+gr3T1AAApSQq1Sir3PpWhrBS2TmHMJihXFHQiQ+7USR5aI2IiGgMGHgLptVI/cSELHgBQFQa7bdBb8VYZquFAR+0o1guZO9uYIyD0RZ9RXMBwAFZlwOE9IfWZHaQDcDIWzyIiIioi4G3YHrn4gI+nL66Xh/pdUglIIVvXZBS9PWzdtftTsZ1B/jftK8wzNnV2uZBV0UyH0sG+JAbFk4452fwEvVijysR0Wgw8BZMu6khBKBTk7+tvv768kBfu7tziNW1ypU9tLWluDtnVonu4glzs1Fkk3bdoJF0TD75wqQ279NNUwvA5dXf0L4gsgpw2jEMvURERGPAwFswrZMUQgokHZtv/trYXBn59QgpYJ3zVc18Jq2vaqrItzVc9238re09d9Us4MtsbK6MfM5tb2+xTv0GNRWmVDj0TMLwbQxpYvLwr2IJYx3ismIPLxER0Rgw8BZM0jEQgF94AB9MhzkENkhYXF4tw1mHKJKIYpkHuzCWLIplVu08X6gkX6bVSIe63cMI4fWqt5O3tvfc6dtprYPWFpVahKTjQ62Q2TIOAUgJQABGuzzwKyUn2uZB84HtDEREo8PAWzAvvt+E6gmhA0wky51XCQ5PyKf/TMjurN2o5N+mt8bla3fDx7Nu2NBhjct7l0tllT0GAlLJ7pIJ0T0wCIBhl4iIaMwYeAum1dCIIpkFLjFU4A0V1Y3NlUvfeq/WYz+YwMJvF+uZPZtkXxdn0xpOh8mt7T03jhaLSTHa9h1A84fUABX5FwBC+JYGo10e/P3nuXx5xzy3Ncz62LhFEx5vPu5ERJdj4C2Ys32zo3+OXF2rAFnI9csn/O87m83iVQLzVNQcpsqbtA2E8D27Rls/fkyJvG3BOQeVbZrTqe3bcjeryzRoch7cWxej7i8nIiIG3sIJLQU+hLqhKryDChVaIQVKFYXuu/c+5NVvlZB2TD6SaxquO65sENY4VKqRb2EI+z3CDF4hILIwbLNFHNb134y4rHCw3x7HTaMZN+/vcBARzSoG3oJJOwYOgJR+JmxvhfE6dncOLxylVa4opIn1iy5E9pa+FPm63Yveut/dORxqcsQoD/fc9K3hNBtDlnQMSmUV8m5f/7JSfkZx6N2NwjQHgJMaiIiIxoCBt0C2tvdcq5GiUo0gpO8vDfNiR82PHvMhT2RXEa6v09LZ2LKxXPXUuaxdYXm17Ee/KdE3mzcsnjDGoVyL4Jxv92DQJSIiGg8G3oJpNVK8+olss5pziEs3W3Tw7L1DfOZzG2d+X2ari51ziOLsOlx3MoNO7YXTCQ722+eOHOutvlbr8bVbEsbZJ+l6Fm40jhLfs5w9FuVqhCiW2ePiWz4q1SiveGttUa3H0Au8epmIiGgaGHgLZHfnEM4inxTgAESl8XwLSCVgTAjULqsou3wpwzyMJDttkHYHHTarSdFXsQ1jyYQU+ViycKhNKQHnAJ0w6NJ4jLNnnYhoHjDwFoxzDklHIyopOAusXLHg4Toe3FsXyCqYxlhEscqqnN3lE/M2e3bQqnDaMVCRz8ShXQHwY8mk8PdbRQLOOtSWYpy8TM5cxjy+GCAiIpplDLwFsvfsGBACacdXFQGH5ZXyeK6spw4qlYAILQ5ZETMuq3wm77CePHqON968O/TXDbI5bdgDa+dVzqxxfulET3CVotuzrFR2YDAs4HAOyCq+w+AmLgI4+5iIaBAMvAVkjc37RF/5WG0s1xEOZknhN45lU9Bgjc3/bNRV3kkHwN2dwzO9xp22RrkaAUDPNjs/eiy0Lqjs8NrJka/uSiHySnCrkUIqwZm8M4SBkoho/jHwFpC13bB53UNrt+5U8PCdpxeGy1JZwWRzdoUUUJHMWhpc31rdadnYXMGoD6594cuPHeDve+CsQ1ySkEL4A2twfas+Ti8CqdZjtjRQjosoiIhGg4G3gM5uWzvfTSpbYdHCK3drMNkUAuecX8awoNKOgcnaGcKmNef8iLbe5RIqX+3ctbiPChER0fQx8BZIq5H6MWFR9y30Qac0DNsuIFU2iqsW+UNa2e/r1GQzesc3keA6QX3YrzlvI1bjKIGAf0Gx9vE6Om2T9zI72+3ZVbHMq+xSCqjYrx02xmF1rcKWBiIiohFj4C2Qk5cJ4IC4EuWB80evcfhrIMIHPJ1YqEh238Z3wK07ZVjj/Ba2a2g10jO9s7NygMtaX+F98UHTb7Hr2TKXdEweegX8CDNr/Xxezt4dzqz8fRMR0Xxg4C2Q44MOAKB1kmbrgAXefuv+0C0LD+6ti6sqkFIIQCAP1ir2PbwQ2Spd5wZurbiJi3ogH9xbFwf77ZFelzH+PqlIQicWcSz9rONYolxR0Klfs5xlXvbqEoEvXohoMhh4C2T//QZU5N8uj2PVNzpsWNV6jIP9NrS2525FA7IFF8ofWAuTGaJIot3UfkyXGbyqOQ8n5f3GNJGvElaR398sZNbHa/2aYSF8i4d1Dta4PADTdF03eE3re3OY6+XhNyIqOgbeAmkepxBCQIhsNu6Yr0+ILOgZm6/UVUri5GWCUkVN/QDb6lplpNunGkeJXzChBJJ2d8Zwqax8yM82sPlWBwejnd8655DPJ6bxmocXTsNYtPtDRDQuDLwF0m5qQPjFB37xxJhlo7jkOdfnN725kY8Gu45BQ8NF61nDPF6dWgh0Q21YrOEcIKSvAKvI/5MLF7J0u4ROSwPw7RDhINw8tjswfN3Moj5+i3q/iGi+MPAWyNFBG/XlEmQkrlVdPW/RwmWE8NXNW6vZNjfnR5NJJVCuKBjtcJM+2ll6m3Zre88JKeDg8nCvsznE5YpC2jG+shu4bFaxcTCpzadmPLi3LuYx7NLsu+gFGxFRETDwFkjSNqgtxf5A2QgcvWijWo/P/TOpBJQSaJ6kUGG1MJCv1w3TCm46fmuQJ/FJPdGnHQMh/IuJEHLhgFLFb15rHqd5T7NzfiFF0jYoVfwa4hB0pRJzWeElYqAmolnFwFsgDn7r2TicPvBTKis4F/pauy0NSgqcHHb8AS9588A7S9KshUEpgXItgk4tHIA4m3XcbmmoKNu4lj1SYYqFEL6NYWt7z0VjnlNMNC6z8o4LEdFpDLwF0zxJsbRSwtFB+8bhV2t7YYVXZYfUXDaZoFyNAAeYrMSbZNVQfc1ZvLOo09YoVRSaJylCaBUCiMsK1jqkbY24pPItdO2W9ocHs7+HEHLjbDUxq2VERESjwcBbJM7P4P2XfvwT0InFiDobznX7TgVpx8IYh7ikUKooAA46NYjLCkIKGGPzg12jMGxP78bmCp48ej5UXzJw9hDOwX4bD+6ti6RjUF8u+SCvLZonvnodxxI6tYjL/qBeFGcH16yv6saxBCCyw2t+5Nu0J1jQ7JiX3tut7T339lv3rzXajbN4iWjcGHgLJMyB/exPftJXWC+o8L791n3x8J2nN3ryWV4tQ6cWyytltBp+HBqEQPMohTUO1VoEo4e/iq3tPXdRVXlYgyzQGOT2rK5VAPjHVymRH05rHCcQQqDT9hvWRPYjHGarLcdoNbX/fQGk6eJUu2l0ZulwJhHRvGLgLRDnkFd1jbb5wbFx+MObK0g6Bmsfr2ULGfx1Hx/6bW9S+fFdSdvk1avwcwiQ88akDtWlOA+8nZaBEEClFsG5rJpbUnmF1xoHnfgKdwjCuzuH+f1nyKHLDDs1BWAllYiKi4G3QJx1ec+tMd231q8jhLLLwqmUIm9fWLpdhhA+4FaXYuy/34SU3bfxg92dw3wWbTCKOZ6TeKJ32eY0a/zjfPKyAyEFqvUYQoos8Mr8hUerkWJ5pYyTlwnikkSaGOw9Ox7nTaQ5wFBKRDR6DLwF4pyDigS++gvfgADydb/XsbG5gii6/NunVFH4/u6JD9pLsa/oJgZHBx0461fuTvNt/Ou0R1xWVbPWIen40W/Veox2UyOKZL5ZLU0MSmWVrxdOOibv6xVCwKQ2X9lMNE96X5QysBPRLGLgLYjwBKSUROMogTEOS7dLY7u+N968C2RLJpZXymg3/Axao20egJ3FmQpvOAB20eU+efTcX/YFNjZXLm0FuO6TcXhCP32AqLcibbMJFJVahKMXbejEIipJtE5SSCmQZhMpalnbw9EL396xvFqG0RY6m9KwulbJL4uIiIhujoG3IB6/uwtrHX7wn38FgA9nf+T+6o0uU2t7pv2gl5ACr67X4ZyD1jZfqLD6WhWdloY1PvwCi7F+1GqHSi1C0jHQ2vrJDCWFNLWwzle8VSSzFgaFdiNFbclPZHAO+Wze8Jiy0ktERDQaDLxF4oAf/pdf89MZnMPdjeWxXVUIr9V6nPe0RpHvX/3RrELrHNBu6qFOobca6dAHdcbhvLdwnfPrhNc+XgfgZw6rSKBai/LDgmlqEcW+zcEY5yu7iUEUy3wmMQ+rDaZIb53Py2gyIqJZxcBbEN/+5gtAAP/0176He59+FQDwv/3Vzw0VHHuruYOGzjfevJsvUihXI1jrsLG5gko9hook2k19xSVc7qYjm1bXKtcOElvbey48Jn/nf//dfKPa/vsNfOr+HVhtUV3y9zM8WEZbGG1RrigYY3Hy0reXqFjAWodWI+XBtTkyj+9MTOKFwnWuo0gvYIho8hh4C+K9f7afHZYCvvWNjwBc/hx9Xi/teU/slz3ZSynw5NFzfGxjCUu3Sj4QOocH99aFsw5RSeZ9q5N2naBy2dfo1LcwrL5aBQDsPTuGc0C1FuPlizaikoIUflJGuRrlUxsAoFqL4Izr69uVUgy0drnoIWHc939WA23vi61pm9XHiIioFwNvQey/30StHiNNLFpNfVXeHZlwwMxah9pyCSGZ/NF/548gael8Du+onrwf3FsXF/W+nheOrjrkdpneiQ0vP2rnrQpS+VFkzjk457D6ahWlsvLjyLJ5u3FJ+VnISqC2XIKQAmlikHYMqvUYSg0WeGkxDBsarzODl4ioyBh4C8JklVQhgJVXKpPKu3hwb11U6zFeuVtDfbl/BFhcVvntmncHH7ZQqipY43DntRq+9PlPC+d8G4fRFvXlGFpb3L5TQbupUSr7z311vY6Pvt+EEALOOrz+QyvYf78BFcm8AjwPplnlm1aVe9L3uejVfCKim2DgLQhjLCq1LHS9MtlNZm+8eRf1WyWUqxFCifftt+6LOx+r5T288/5k3jhKsHSrDKB/GUcUS8RlhbuvLyNpGzjnR7LFZQlr/fSKO69V/SSLbCZx/VYJRlukHTPQdc/7Y0eLid+XRDRLomnfgFl0+j/S51VxBvmcYa7jPKOsHhntcOduFbfvVPC5P/OD+D/+598e1UVf6cG9dfHwnafuEz9wC//v3wN+4Ef+ums3NX7r730X7abGz/yJr2Hp9s+6n/rMVwEAS7d/1vXuxPiPf+yrWFn7eQcAv/jf/mb+6zDS7L/5qXdx+87PuTAK4eFf+ke4/crP55fx5/61rfxr/txnt/LLvbX6c+7zb/5tAMg/P6wFBoB/96d/BJWa/yfyq7/0Hn7xS3/0wr+PNPHTF6KSxNtv3fefl40a+8ObK2g1UljjUFuKcXTQQRT7iRWfun8Hv/GdZ4hiH4Dffuu++It/5TdcXFZonrClYVAhXIV/M73/vhbprf/dnUNsbe+5WZnkwf5dIpoXDLyZy54gzwung3zOZQZ5krhJqD7viajTNPiBH7mDB/fWxa3VnxvrQR8A+Kv/xT/Ev/UffM0BwK/8tacwxgIC+HCv4T/R+e1vScdg/ZO38tFdQgp88L2TvsvUPRvZhP9SSCnyj4HuHFuc93F2Xb16Vyvns3Ct82PbAGz9r7+De59+Nf/9P//FX3P1WyX8hZ/4FVjr8Nd+/U8BAH78T/5tt/NkH+ufXMan7t/JH4Of/vFfRqms8KXPf1p88Stfd9Y5qEji7sYSDj5swTkfcP+jv/Sus8bBZXcxiiQSY+aqpWFWhO+93u/9835vkMsAugFz1LdzUOG6w+0Iwf66Pe+99+XhO08vvByGWCJaNIUPvIM8GQ7yH/9xPEFcFqovur7e+9P7a2scPvnDq/gf/7PPjPWJrG8+7V/4O24lm1rw1//7nxBf+PJj9+L7Lbzy8Rr+2J/6FF580MSH32vgn/sXX8Ubb97Nt5adDiuXPban72+ofIUn8vDx22/dF1/48mMH+NnAoe0gHHBrNVJ89/de4p/83V1obVG/FeP5H5zgd37z+4hjiTsfq+Fv/vwTOOtQqkSIIomf+rGv4tVP/IL7g51DaG3x9X+whz/YOcTP/A//0D1+dxdwwEp2PW+8eRe/9PCf4bU/tIQvff7T4t9466t5/l77eA3PfvcAaeJbGD77k5/Er/7Se0P1N5+ucBbRRff9vKrvoJdx0WMaLuumL5Qvc/q6t7b33E3C96D3LfzZVV973dtBRDQNhXhyvOw/zvMaEE4H9dMf/3s/8/84APjVv7mTB6dqPe5b5Xt08J9feN+/+JWvuy99/tOXPjZf+PJjd1mA/vNf/LU88FbrMVqNFP/4/36GzR9dQ+NlAsBPN7j9SgXVJb+gIrQU3Lrj+2HD71Xr8flX0mP99e4ijfMmNXz3Wy+hsoUPSgl89Lzpr8MBUvgq78bmbXz4vQa+/c0XSBOLD/dO0DxJYVILFUtIKaAima0KNui0DYQA4pJCtR6h3dSw1kEpiXZL43N/5gfz0P3+s2P85Z/917GxuYJf+K/+CZ784+f4cO8/FQDwb/7pX3bf+p2P8J3tnxbhsTt5meBvPPwTN6rqT8qihu3LAu9VIXCYVqhhHr9Qmb3p4z3Mdd7k3aaH7zx1eZvPiG8XEdGgFrLCe9P+2nkQ7tPDd5723dc/+Wf/T/frX/t9/N2/tQOdbfWq1mMI6Wfw/if/3WeQdgzaTY3/5b++2W34zOc2Lv3z+q1SfvAqjNhSSuLb33yRtxN0WhqN46Q7j9cBEIBJe+6W6PbrXuZsS4P/DSEEnHOIS6r7iULkCzGczdp/hcAf7BwCDnkovvNaDdV6isP9NlZeraBc8auDk7bGK3drOD7ooHmSot3U+QsL54C0k8IB+PWvfTv/OzDa4pd/8Zt4db2ejy0LT+4rr1RgeloYyrUILz5oXXmfaXZc552g61RKRxF2w20ZNFze5PpmZV4wERXbQgXBYXv15tnW9p77jf/rO3loe++39/H3f+XbMNqiVPG/pyKJ23cq+L1v/FnxF//Kb7jQX7qxuYLH7+5e2t4wSIV32NsLIG9bOO06la5hrvuyNomr3rY+rx803I/dnUMc7Lfx//3WB5BK4Mf++EZeXd5/v4Fv/ub38cH3Gkjavie31UixdLuE9U/ewjceP8e/8hN/CAcftiCVwO/9zkf4gR++g4++7yvPacfkf7+nN9KF9ofA9b9eQKd9doNdtdZfJf9X/+3X+z7+D//Lf6Hv45v2jC+Ciyq5076vo7wNl32fX2Sc938WHl8iWjzn/Eflf5rb3qxyVU37JkyMUjI/XAX4v0ghBZZXSvnv/fF/f7Pvaz62sdTXGnBZoL3sQMt1XNVHGd72v2hpxCidXuhw1fiv3m1wUST7fu+8g2WhLSP8WdoxePpPP8T73zkCABwfdKC1RdLOrjc/dTfc/bhM7/dGcLpKfroirtP+x6HTGmwsWrCo//6UOju9UUw5jp3+uxsFY7rf5+fd54s+d9SG/b4jIjrfX+77L/X/D/H/08AObLblAAAAAElFTkSuQmCC'/>"
      ],
      "text/plain": [
       "<xarray.Image (y: 200, x: 700)>\n",
       "array([[0, 0, 0, ..., 0, 0, 0],\n",
       "       [0, 0, 0, ..., 0, 0, 0],\n",
       "       [0, 0, 0, ..., 0, 0, 0],\n",
       "       ...,\n",
       "       [0, 0, 0, ..., 0, 0, 0],\n",
       "       [0, 0, 0, ..., 0, 0, 0],\n",
       "       [0, 0, 0, ..., 0, 0, 0]], dtype=uint32)\n",
       "Coordinates:\n",
       "  * x        (x) float64 -0.8814 -0.6443 -0.4071 -0.17 ... 164.4 164.6 164.9\n",
       "  * y        (y) float64 5.3 15.9 26.5 37.1 ... 2.093e+03 2.104e+03 2.115e+03"
      ]
     },
     "execution_count": 33,
     "metadata": {},
     "output_type": "execute_result"
    }
   ],
   "source": [
    "parts = []\n",
    "separator = pd.DataFrame({ 'x': [np.nan], 'y': [np.nan] })\n",
    "for array in aligned_active_area_data:\n",
    "    part = pd.DataFrame({ 'y': array })\n",
    "    part['x'] = part.index\n",
    "    parts.append(part)\n",
    "    parts.append(separator)\n",
    "temp = pd.concat(parts, ignore_index=True)\n",
    "del parts\n",
    "\n",
    "x_max = max(len(a) for a in aligned_active_area_data)\n",
    "cvs = ds.Canvas(x_range=[-1, x_max], y_range=[0, temp.y.max()], plot_width=700, plot_height=200)\n",
    "agg = cvs.line(temp, 'x', 'y', ds.count())\n",
    "out = ds.transfer_functions.shade(agg)\n",
    "out"
   ]
  },
  {
   "cell_type": "markdown",
   "metadata": {},
   "source": [
    "## Synthesize active areas with multiple runs"
   ]
  },
  {
   "cell_type": "code",
   "execution_count": 34,
   "metadata": {},
   "outputs": [],
   "source": [
    "# When shifting a sequence to synthesize active areas with multiple runs,\n",
    "# keep at least this ratio of the total energy. Any remaining energy may\n",
    "# be lost because the sequence is shifted out of range.\n",
    "synthesize_multi_max_offset_energy_ratio = 0.99\n",
    "\n",
    "# This determines the proportion of runs with different multiples which are used for training. \n",
    "# copy_weights[i] determines the proportion of synthesized runs with i-multiples\n",
    "# copy_weights[0] must be 1, since all true (non-multiplied) active areas are always included\n",
    "copy_weights = [1, 1]\n",
    "\n",
    "# The maximum number of attempts used by multiply_runs_no_overlap to synthesize a valid sequence\n",
    "no_overlap_max_iterations = 10"
   ]
  },
  {
   "cell_type": "code",
   "execution_count": 35,
   "metadata": {},
   "outputs": [],
   "source": [
    "max_power = aligned_active_area_data.max()"
   ]
  },
  {
   "cell_type": "code",
   "execution_count": 36,
   "metadata": {},
   "outputs": [],
   "source": [
    "def multiply_runs(base_true_samples, overlay_true_samples_list):\n",
    "    multiplied_samples = base_true_samples.copy()\n",
    "    for overlay_true_samples in overlay_true_samples_list:\n",
    "        max_offset = np.argwhere(\n",
    "            np.cumsum(overlay_true_samples) >=\n",
    "            overlay_true_samples.sum() * synthesize_multi_max_offset_energy_ratio\n",
    "        )[0][0]\n",
    "        offset = random.randrange(max_offset - 1) + 1\n",
    "        \n",
    "        shifted_samples = np.zeros_like(overlay_true_samples)\n",
    "        shifted_samples[offset:] = overlay_true_samples[:-offset]\n",
    "        \n",
    "        multiplied_samples += shifted_samples\n",
    "        \n",
    "    return multiplied_samples\n",
    "\n",
    "def multiply_runs_no_overlap(base_true_samples, overlay_true_samples_list, max_iterations=no_overlap_max_iterations):\n",
    "    for i in range(no_overlap_max_iterations):\n",
    "        multiplied_samples = multiply_runs(base_true_samples, overlay_true_samples_list)\n",
    "        if multiplied_samples.max() <= base_true_samples.max():\n",
    "            return multiplied_samples\n",
    "    return None"
   ]
  },
  {
   "cell_type": "code",
   "execution_count": 37,
   "metadata": {},
   "outputs": [
    {
     "data": {
      "image/png": "[encoded data removed]",
      "text/plain": [
       "<Figure size 720x216 with 2 Axes>"
      ]
     },
     "metadata": {
      "needs_background": "light"
     },
     "output_type": "display_data"
    }
   ],
   "source": [
    "true_samples = random.choice(aligned_active_area_data)\n",
    "multiplied_samples = multiply_runs_no_overlap(true_samples, [true_samples], max_iterations=100)\n",
    "\n",
    "_, axes = plt.subplots(1, 2, figsize=(10, 3))\n",
    "axes[0].plot(true_samples)\n",
    "axes[1].plot(multiplied_samples);"
   ]
  },
  {
   "cell_type": "code",
   "execution_count": 38,
   "metadata": {},
   "outputs": [
    {
     "data": {
      "image/png": "[encoded data removed]",
      "text/plain": [
       "<Figure size 432x288 with 1 Axes>"
      ]
     },
     "metadata": {
      "needs_background": "light"
     },
     "output_type": "display_data"
    }
   ],
   "source": [
    "temp = list(aligned_active_area_data)\n",
    "multiplied_parts = [\n",
    "    (i, multiply_runs_no_overlap(a, random.sample(temp, i)))\n",
    "    for i, w in enumerate(copy_weights)\n",
    "    for a in random.sample(temp, round(len(temp) * w))\n",
    "]\n",
    "multiplied_parts = [(i, a) for i, a in multiplied_parts if a is not None]\n",
    "\n",
    "plt.hist([i for i, a in multiplied_parts], bins=len(copy_weights));"
   ]
  },
  {
   "cell_type": "markdown",
   "metadata": {},
   "source": [
    "## Prepare features"
   ]
  },
  {
   "cell_type": "code",
   "execution_count": 39,
   "metadata": {},
   "outputs": [
    {
     "name": "stdout",
     "output_type": "stream",
     "text": [
      "(953, 165) (953, 2)\n"
     ]
    }
   ],
   "source": [
    "# Features\n",
    "# - y-scaled(0, 1) data\n",
    "\n",
    "def samples_to_features(samples):\n",
    "    return (samples / max_power).astype('float32')\n",
    "\n",
    "def features_to_samples(features):\n",
    "    return features * max_power\n",
    "\n",
    "parts = []\n",
    "for _, samples in multiplied_parts:\n",
    "    parts.append(samples_to_features(samples))\n",
    "    \n",
    "X = np.stack(parts)\n",
    "y = np.array(keras.utils.to_categorical([i for i, _ in multiplied_parts]))\n",
    "del parts\n",
    "\n",
    "print(X.shape, y.shape)"
   ]
  },
  {
   "cell_type": "code",
   "execution_count": 40,
   "metadata": {},
   "outputs": [],
   "source": [
    "X_train, X_test, y_train, y_test = train_test_split(X, y, test_size = 0.1)"
   ]
  },
  {
   "cell_type": "markdown",
   "metadata": {},
   "source": [
    "## Train a classifier\n",
    "The number of synthetic runs (copies) in an active area are used as its class."
   ]
  },
  {
   "cell_type": "code",
   "execution_count": 41,
   "metadata": {},
   "outputs": [],
   "source": [
    "copy_classifier = keras.models.Sequential([\n",
    "    keras.layers.Reshape((-1, 1), input_shape=(X.shape[1],)),\n",
    "    keras.layers.Conv1D(filters=2, kernel_size=10, padding='same'),\n",
    "    keras.layers.Reshape((-1,)),\n",
    "    keras.layers.Dense(8),\n",
    "    keras.layers.Activation('relu'),\n",
    "    keras.layers.Dropout(0.5),\n",
    "    keras.layers.Dense(y.shape[1]),\n",
    "    keras.layers.Activation('softmax'),\n",
    "])"
   ]
  },
  {
   "cell_type": "code",
   "execution_count": 42,
   "metadata": {
    "scrolled": true
   },
   "outputs": [
    {
     "name": "stdout",
     "output_type": "stream",
     "text": [
      "WARNING:tensorflow:From /home/philippe/src/temp/load-shifting-potential/.venv/lib/python3.6/site-packages/keras/backend/tensorflow_backend.py:422: The name tf.global_variables is deprecated. Please use tf.compat.v1.global_variables instead.\n",
      "\n"
     ]
    },
    {
     "data": {
      "application/vnd.jupyter.widget-view+json": {
       "model_id": "3f69f3600ab54e0491b349785cc7d9ff",
       "version_major": 2,
       "version_minor": 0
      },
      "text/plain": [
       "HBox(children=(FloatProgress(value=0.0, description='Training', style=ProgressStyle(description_width='initial…"
      ]
     },
     "metadata": {},
     "output_type": "display_data"
    },
    {
     "data": {
      "application/vnd.jupyter.widget-view+json": {
       "model_id": "60d263a9003c407da07fdfa743dccee7",
       "version_major": 2,
       "version_minor": 0
      },
      "text/plain": [
       "HBox(children=(FloatProgress(value=0.0, description='Epoch 0', max=857.0, style=ProgressStyle(description_widt…"
      ]
     },
     "metadata": {},
     "output_type": "display_data"
    },
    {
     "name": "stdout",
     "output_type": "stream",
     "text": [
      "\n"
     ]
    },
    {
     "data": {
      "application/vnd.jupyter.widget-view+json": {
       "model_id": "277ea68864e4423297bb768f6f1725ad",
       "version_major": 2,
       "version_minor": 0
      },
      "text/plain": [
       "HBox(children=(FloatProgress(value=0.0, description='Epoch 1', max=857.0, style=ProgressStyle(description_widt…"
      ]
     },
     "metadata": {},
     "output_type": "display_data"
    },
    {
     "name": "stdout",
     "output_type": "stream",
     "text": [
      "\n"
     ]
    },
    {
     "data": {
      "application/vnd.jupyter.widget-view+json": {
       "model_id": "20efa10d402b4ba6a018c9652ef1d2c0",
       "version_major": 2,
       "version_minor": 0
      },
      "text/plain": [
       "HBox(children=(FloatProgress(value=0.0, description='Epoch 2', max=857.0, style=ProgressStyle(description_widt…"
      ]
     },
     "metadata": {},
     "output_type": "display_data"
    },
    {
     "name": "stdout",
     "output_type": "stream",
     "text": [
      "\n"
     ]
    },
    {
     "data": {
      "application/vnd.jupyter.widget-view+json": {
       "model_id": "bb0f7ecb2ace4bf3b170bcc69ce4798b",
       "version_major": 2,
       "version_minor": 0
      },
      "text/plain": [
       "HBox(children=(FloatProgress(value=0.0, description='Epoch 3', max=857.0, style=ProgressStyle(description_widt…"
      ]
     },
     "metadata": {},
     "output_type": "display_data"
    },
    {
     "name": "stdout",
     "output_type": "stream",
     "text": [
      "\n"
     ]
    },
    {
     "data": {
      "application/vnd.jupyter.widget-view+json": {
       "model_id": "d8bed6a07b064068a5c50890fce2214f",
       "version_major": 2,
       "version_minor": 0
      },
      "text/plain": [
       "HBox(children=(FloatProgress(value=0.0, description='Epoch 4', max=857.0, style=ProgressStyle(description_widt…"
      ]
     },
     "metadata": {},
     "output_type": "display_data"
    },
    {
     "name": "stdout",
     "output_type": "stream",
     "text": [
      "\n"
     ]
    },
    {
     "data": {
      "application/vnd.jupyter.widget-view+json": {
       "model_id": "9ecf5e263570470e90cf7f50ca1cb995",
       "version_major": 2,
       "version_minor": 0
      },
      "text/plain": [
       "HBox(children=(FloatProgress(value=0.0, description='Epoch 5', max=857.0, style=ProgressStyle(description_widt…"
      ]
     },
     "metadata": {},
     "output_type": "display_data"
    },
    {
     "name": "stdout",
     "output_type": "stream",
     "text": [
      "\n"
     ]
    },
    {
     "data": {
      "application/vnd.jupyter.widget-view+json": {
       "model_id": "4f35aea1f72141c5ab6f19ee19e145a4",
       "version_major": 2,
       "version_minor": 0
      },
      "text/plain": [
       "HBox(children=(FloatProgress(value=0.0, description='Epoch 6', max=857.0, style=ProgressStyle(description_widt…"
      ]
     },
     "metadata": {},
     "output_type": "display_data"
    },
    {
     "name": "stdout",
     "output_type": "stream",
     "text": [
      "\n"
     ]
    },
    {
     "data": {
      "application/vnd.jupyter.widget-view+json": {
       "model_id": "e56c346632e54dc3b267b1118969c22c",
       "version_major": 2,
       "version_minor": 0
      },
      "text/plain": [
       "HBox(children=(FloatProgress(value=0.0, description='Epoch 7', max=857.0, style=ProgressStyle(description_widt…"
      ]
     },
     "metadata": {},
     "output_type": "display_data"
    },
    {
     "name": "stdout",
     "output_type": "stream",
     "text": [
      "\n"
     ]
    },
    {
     "data": {
      "application/vnd.jupyter.widget-view+json": {
       "model_id": "d98be1f6c8e2427fa70dab2059042c8f",
       "version_major": 2,
       "version_minor": 0
      },
      "text/plain": [
       "HBox(children=(FloatProgress(value=0.0, description='Epoch 8', max=857.0, style=ProgressStyle(description_widt…"
      ]
     },
     "metadata": {},
     "output_type": "display_data"
    },
    {
     "name": "stdout",
     "output_type": "stream",
     "text": [
      "\n"
     ]
    },
    {
     "data": {
      "application/vnd.jupyter.widget-view+json": {
       "model_id": "5e0ade75fbe84622ad2f7718c475695f",
       "version_major": 2,
       "version_minor": 0
      },
      "text/plain": [
       "HBox(children=(FloatProgress(value=0.0, description='Epoch 9', max=857.0, style=ProgressStyle(description_widt…"
      ]
     },
     "metadata": {},
     "output_type": "display_data"
    },
    {
     "name": "stdout",
     "output_type": "stream",
     "text": [
      "\n"
     ]
    },
    {
     "data": {
      "application/vnd.jupyter.widget-view+json": {
       "model_id": "03afa3412d0d4bb4abb2d4ec71a148b8",
       "version_major": 2,
       "version_minor": 0
      },
      "text/plain": [
       "HBox(children=(FloatProgress(value=0.0, description='Epoch 10', max=857.0, style=ProgressStyle(description_wid…"
      ]
     },
     "metadata": {},
     "output_type": "display_data"
    },
    {
     "name": "stdout",
     "output_type": "stream",
     "text": [
      "\n"
     ]
    },
    {
     "data": {
      "application/vnd.jupyter.widget-view+json": {
       "model_id": "bbcb5c836ef342e5a0dd9a16af3629c5",
       "version_major": 2,
       "version_minor": 0
      },
      "text/plain": [
       "HBox(children=(FloatProgress(value=0.0, description='Epoch 11', max=857.0, style=ProgressStyle(description_wid…"
      ]
     },
     "metadata": {},
     "output_type": "display_data"
    },
    {
     "name": "stdout",
     "output_type": "stream",
     "text": [
      "\n"
     ]
    },
    {
     "data": {
      "application/vnd.jupyter.widget-view+json": {
       "model_id": "5bb37636089e4580a75c784862c8dac7",
       "version_major": 2,
       "version_minor": 0
      },
      "text/plain": [
       "HBox(children=(FloatProgress(value=0.0, description='Epoch 12', max=857.0, style=ProgressStyle(description_wid…"
      ]
     },
     "metadata": {},
     "output_type": "display_data"
    },
    {
     "name": "stdout",
     "output_type": "stream",
     "text": [
      "\n"
     ]
    },
    {
     "data": {
      "application/vnd.jupyter.widget-view+json": {
       "model_id": "a5bb17b1a5864c4db47f2e43110ccb10",
       "version_major": 2,
       "version_minor": 0
      },
      "text/plain": [
       "HBox(children=(FloatProgress(value=0.0, description='Epoch 13', max=857.0, style=ProgressStyle(description_wid…"
      ]
     },
     "metadata": {},
     "output_type": "display_data"
    },
    {
     "name": "stdout",
     "output_type": "stream",
     "text": [
      "\n"
     ]
    },
    {
     "data": {
      "application/vnd.jupyter.widget-view+json": {
       "model_id": "ac205c21ba8142bc9836ff4a0efaeaf8",
       "version_major": 2,
       "version_minor": 0
      },
      "text/plain": [
       "HBox(children=(FloatProgress(value=0.0, description='Epoch 14', max=857.0, style=ProgressStyle(description_wid…"
      ]
     },
     "metadata": {},
     "output_type": "display_data"
    },
    {
     "name": "stdout",
     "output_type": "stream",
     "text": [
      "\n"
     ]
    },
    {
     "data": {
      "application/vnd.jupyter.widget-view+json": {
       "model_id": "d2ffb58a0db5449abdf6fd0243f453b7",
       "version_major": 2,
       "version_minor": 0
      },
      "text/plain": [
       "HBox(children=(FloatProgress(value=0.0, description='Epoch 15', max=857.0, style=ProgressStyle(description_wid…"
      ]
     },
     "metadata": {},
     "output_type": "display_data"
    },
    {
     "name": "stdout",
     "output_type": "stream",
     "text": [
      "\n"
     ]
    },
    {
     "data": {
      "application/vnd.jupyter.widget-view+json": {
       "model_id": "c4c2409f962c49e5bad86ad945f07bbc",
       "version_major": 2,
       "version_minor": 0
      },
      "text/plain": [
       "HBox(children=(FloatProgress(value=0.0, description='Epoch 16', max=857.0, style=ProgressStyle(description_wid…"
      ]
     },
     "metadata": {},
     "output_type": "display_data"
    },
    {
     "name": "stdout",
     "output_type": "stream",
     "text": [
      "\n"
     ]
    },
    {
     "data": {
      "application/vnd.jupyter.widget-view+json": {
       "model_id": "007686fea0e840f3993f37bc3857d7a8",
       "version_major": 2,
       "version_minor": 0
      },
      "text/plain": [
       "HBox(children=(FloatProgress(value=0.0, description='Epoch 17', max=857.0, style=ProgressStyle(description_wid…"
      ]
     },
     "metadata": {},
     "output_type": "display_data"
    },
    {
     "name": "stdout",
     "output_type": "stream",
     "text": [
      "\n"
     ]
    },
    {
     "data": {
      "application/vnd.jupyter.widget-view+json": {
       "model_id": "bcf8e192fd724453a35564e9e468a307",
       "version_major": 2,
       "version_minor": 0
      },
      "text/plain": [
       "HBox(children=(FloatProgress(value=0.0, description='Epoch 18', max=857.0, style=ProgressStyle(description_wid…"
      ]
     },
     "metadata": {},
     "output_type": "display_data"
    },
    {
     "name": "stdout",
     "output_type": "stream",
     "text": [
      "\n"
     ]
    },
    {
     "data": {
      "application/vnd.jupyter.widget-view+json": {
       "model_id": "f6a1da0f0d444f8ea563b3ea1a257976",
       "version_major": 2,
       "version_minor": 0
      },
      "text/plain": [
       "HBox(children=(FloatProgress(value=0.0, description='Epoch 19', max=857.0, style=ProgressStyle(description_wid…"
      ]
     },
     "metadata": {},
     "output_type": "display_data"
    },
    {
     "name": "stdout",
     "output_type": "stream",
     "text": [
      "\n"
     ]
    },
    {
     "data": {
      "application/vnd.jupyter.widget-view+json": {
       "model_id": "73a80264c8df40f986cb00b9949dfedf",
       "version_major": 2,
       "version_minor": 0
      },
      "text/plain": [
       "HBox(children=(FloatProgress(value=0.0, description='Epoch 20', max=857.0, style=ProgressStyle(description_wid…"
      ]
     },
     "metadata": {},
     "output_type": "display_data"
    },
    {
     "name": "stdout",
     "output_type": "stream",
     "text": [
      "\n"
     ]
    },
    {
     "data": {
      "application/vnd.jupyter.widget-view+json": {
       "model_id": "52fd2268e1894f098aab17f5ae7c49ea",
       "version_major": 2,
       "version_minor": 0
      },
      "text/plain": [
       "HBox(children=(FloatProgress(value=0.0, description='Epoch 21', max=857.0, style=ProgressStyle(description_wid…"
      ]
     },
     "metadata": {},
     "output_type": "display_data"
    },
    {
     "name": "stdout",
     "output_type": "stream",
     "text": [
      "\n"
     ]
    },
    {
     "data": {
      "application/vnd.jupyter.widget-view+json": {
       "model_id": "3f5e58dea23440eba02a3f3278b9a50b",
       "version_major": 2,
       "version_minor": 0
      },
      "text/plain": [
       "HBox(children=(FloatProgress(value=0.0, description='Epoch 22', max=857.0, style=ProgressStyle(description_wid…"
      ]
     },
     "metadata": {},
     "output_type": "display_data"
    },
    {
     "name": "stdout",
     "output_type": "stream",
     "text": [
      "\n"
     ]
    },
    {
     "data": {
      "application/vnd.jupyter.widget-view+json": {
       "model_id": "d8ea399c98294ea3b1d9c0a6d0a0d1a8",
       "version_major": 2,
       "version_minor": 0
      },
      "text/plain": [
       "HBox(children=(FloatProgress(value=0.0, description='Epoch 23', max=857.0, style=ProgressStyle(description_wid…"
      ]
     },
     "metadata": {},
     "output_type": "display_data"
    },
    {
     "name": "stdout",
     "output_type": "stream",
     "text": [
      "\n"
     ]
    },
    {
     "data": {
      "application/vnd.jupyter.widget-view+json": {
       "model_id": "3ac3267354c843dd9772213592706b92",
       "version_major": 2,
       "version_minor": 0
      },
      "text/plain": [
       "HBox(children=(FloatProgress(value=0.0, description='Epoch 24', max=857.0, style=ProgressStyle(description_wid…"
      ]
     },
     "metadata": {},
     "output_type": "display_data"
    },
    {
     "name": "stdout",
     "output_type": "stream",
     "text": [
      "\n"
     ]
    },
    {
     "data": {
      "application/vnd.jupyter.widget-view+json": {
       "model_id": "33578e309df04e8086042c0fd3bb04af",
       "version_major": 2,
       "version_minor": 0
      },
      "text/plain": [
       "HBox(children=(FloatProgress(value=0.0, description='Epoch 25', max=857.0, style=ProgressStyle(description_wid…"
      ]
     },
     "metadata": {},
     "output_type": "display_data"
    },
    {
     "name": "stdout",
     "output_type": "stream",
     "text": [
      "\n"
     ]
    },
    {
     "data": {
      "application/vnd.jupyter.widget-view+json": {
       "model_id": "719a8e2fe2294cc589dd63bcb9cdb501",
       "version_major": 2,
       "version_minor": 0
      },
      "text/plain": [
       "HBox(children=(FloatProgress(value=0.0, description='Epoch 26', max=857.0, style=ProgressStyle(description_wid…"
      ]
     },
     "metadata": {},
     "output_type": "display_data"
    },
    {
     "name": "stdout",
     "output_type": "stream",
     "text": [
      "\n"
     ]
    },
    {
     "data": {
      "application/vnd.jupyter.widget-view+json": {
       "model_id": "d4490c13520046cfb44adf180e7a0ff1",
       "version_major": 2,
       "version_minor": 0
      },
      "text/plain": [
       "HBox(children=(FloatProgress(value=0.0, description='Epoch 27', max=857.0, style=ProgressStyle(description_wid…"
      ]
     },
     "metadata": {},
     "output_type": "display_data"
    },
    {
     "name": "stdout",
     "output_type": "stream",
     "text": [
      "\n"
     ]
    },
    {
     "data": {
      "application/vnd.jupyter.widget-view+json": {
       "model_id": "4114eedd73fc4b3dba790b4ecd82f91f",
       "version_major": 2,
       "version_minor": 0
      },
      "text/plain": [
       "HBox(children=(FloatProgress(value=0.0, description='Epoch 28', max=857.0, style=ProgressStyle(description_wid…"
      ]
     },
     "metadata": {},
     "output_type": "display_data"
    },
    {
     "name": "stdout",
     "output_type": "stream",
     "text": [
      "\n"
     ]
    },
    {
     "data": {
      "application/vnd.jupyter.widget-view+json": {
       "model_id": "355d8f8bcd8849a19ce66cfdc40e069a",
       "version_major": 2,
       "version_minor": 0
      },
      "text/plain": [
       "HBox(children=(FloatProgress(value=0.0, description='Epoch 29', max=857.0, style=ProgressStyle(description_wid…"
      ]
     },
     "metadata": {},
     "output_type": "display_data"
    },
    {
     "name": "stdout",
     "output_type": "stream",
     "text": [
      "\n"
     ]
    },
    {
     "data": {
      "application/vnd.jupyter.widget-view+json": {
       "model_id": "bb9701d9ae6b4d09bf483665bcd807fc",
       "version_major": 2,
       "version_minor": 0
      },
      "text/plain": [
       "HBox(children=(FloatProgress(value=0.0, description='Epoch 30', max=857.0, style=ProgressStyle(description_wid…"
      ]
     },
     "metadata": {},
     "output_type": "display_data"
    },
    {
     "name": "stdout",
     "output_type": "stream",
     "text": [
      "\n"
     ]
    },
    {
     "data": {
      "application/vnd.jupyter.widget-view+json": {
       "model_id": "4e6d57f25cc14258bb3a068747158628",
       "version_major": 2,
       "version_minor": 0
      },
      "text/plain": [
       "HBox(children=(FloatProgress(value=0.0, description='Epoch 31', max=857.0, style=ProgressStyle(description_wid…"
      ]
     },
     "metadata": {},
     "output_type": "display_data"
    },
    {
     "name": "stdout",
     "output_type": "stream",
     "text": [
      "\n"
     ]
    },
    {
     "data": {
      "application/vnd.jupyter.widget-view+json": {
       "model_id": "93dc2b9987e04744bfc00279d3abb3f8",
       "version_major": 2,
       "version_minor": 0
      },
      "text/plain": [
       "HBox(children=(FloatProgress(value=0.0, description='Epoch 32', max=857.0, style=ProgressStyle(description_wid…"
      ]
     },
     "metadata": {},
     "output_type": "display_data"
    },
    {
     "name": "stdout",
     "output_type": "stream",
     "text": [
      "\n"
     ]
    },
    {
     "data": {
      "application/vnd.jupyter.widget-view+json": {
       "model_id": "160bd9b3a91d490e9a308d12e286d247",
       "version_major": 2,
       "version_minor": 0
      },
      "text/plain": [
       "HBox(children=(FloatProgress(value=0.0, description='Epoch 33', max=857.0, style=ProgressStyle(description_wid…"
      ]
     },
     "metadata": {},
     "output_type": "display_data"
    },
    {
     "name": "stdout",
     "output_type": "stream",
     "text": [
      "\n"
     ]
    },
    {
     "data": {
      "application/vnd.jupyter.widget-view+json": {
       "model_id": "77b08a47d6894177a60799033746b4a0",
       "version_major": 2,
       "version_minor": 0
      },
      "text/plain": [
       "HBox(children=(FloatProgress(value=0.0, description='Epoch 34', max=857.0, style=ProgressStyle(description_wid…"
      ]
     },
     "metadata": {},
     "output_type": "display_data"
    },
    {
     "name": "stdout",
     "output_type": "stream",
     "text": [
      "\n"
     ]
    },
    {
     "data": {
      "application/vnd.jupyter.widget-view+json": {
       "model_id": "7c066cef61f4491dacec3aef7f861c26",
       "version_major": 2,
       "version_minor": 0
      },
      "text/plain": [
       "HBox(children=(FloatProgress(value=0.0, description='Epoch 35', max=857.0, style=ProgressStyle(description_wid…"
      ]
     },
     "metadata": {},
     "output_type": "display_data"
    },
    {
     "name": "stdout",
     "output_type": "stream",
     "text": [
      "\n"
     ]
    },
    {
     "data": {
      "application/vnd.jupyter.widget-view+json": {
       "model_id": "806decba45f74e63bd4919db46cdfc1e",
       "version_major": 2,
       "version_minor": 0
      },
      "text/plain": [
       "HBox(children=(FloatProgress(value=0.0, description='Epoch 36', max=857.0, style=ProgressStyle(description_wid…"
      ]
     },
     "metadata": {},
     "output_type": "display_data"
    },
    {
     "name": "stdout",
     "output_type": "stream",
     "text": [
      "\n"
     ]
    },
    {
     "data": {
      "application/vnd.jupyter.widget-view+json": {
       "model_id": "4f1af5d64d9c4b19b7644cb3291cae02",
       "version_major": 2,
       "version_minor": 0
      },
      "text/plain": [
       "HBox(children=(FloatProgress(value=0.0, description='Epoch 37', max=857.0, style=ProgressStyle(description_wid…"
      ]
     },
     "metadata": {},
     "output_type": "display_data"
    },
    {
     "name": "stdout",
     "output_type": "stream",
     "text": [
      "\n"
     ]
    },
    {
     "data": {
      "application/vnd.jupyter.widget-view+json": {
       "model_id": "2287523f39dc44bfb10a818fdf42c230",
       "version_major": 2,
       "version_minor": 0
      },
      "text/plain": [
       "HBox(children=(FloatProgress(value=0.0, description='Epoch 38', max=857.0, style=ProgressStyle(description_wid…"
      ]
     },
     "metadata": {},
     "output_type": "display_data"
    },
    {
     "name": "stdout",
     "output_type": "stream",
     "text": [
      "\n"
     ]
    },
    {
     "data": {
      "application/vnd.jupyter.widget-view+json": {
       "model_id": "91eb356cbfc549be8bbae0aeaad60e4d",
       "version_major": 2,
       "version_minor": 0
      },
      "text/plain": [
       "HBox(children=(FloatProgress(value=0.0, description='Epoch 39', max=857.0, style=ProgressStyle(description_wid…"
      ]
     },
     "metadata": {},
     "output_type": "display_data"
    },
    {
     "name": "stdout",
     "output_type": "stream",
     "text": [
      "\n"
     ]
    },
    {
     "data": {
      "application/vnd.jupyter.widget-view+json": {
       "model_id": "258ca29610fa4c6da85746e2b9e60a6f",
       "version_major": 2,
       "version_minor": 0
      },
      "text/plain": [
       "HBox(children=(FloatProgress(value=0.0, description='Epoch 40', max=857.0, style=ProgressStyle(description_wid…"
      ]
     },
     "metadata": {},
     "output_type": "display_data"
    },
    {
     "name": "stdout",
     "output_type": "stream",
     "text": [
      "\n"
     ]
    },
    {
     "data": {
      "application/vnd.jupyter.widget-view+json": {
       "model_id": "ddf8b27da13b41cdb6923c255963f77b",
       "version_major": 2,
       "version_minor": 0
      },
      "text/plain": [
       "HBox(children=(FloatProgress(value=0.0, description='Epoch 41', max=857.0, style=ProgressStyle(description_wid…"
      ]
     },
     "metadata": {},
     "output_type": "display_data"
    },
    {
     "name": "stdout",
     "output_type": "stream",
     "text": [
      "\n"
     ]
    },
    {
     "data": {
      "application/vnd.jupyter.widget-view+json": {
       "model_id": "d1cb6842f40e4e229243db3564ff1db0",
       "version_major": 2,
       "version_minor": 0
      },
      "text/plain": [
       "HBox(children=(FloatProgress(value=0.0, description='Epoch 42', max=857.0, style=ProgressStyle(description_wid…"
      ]
     },
     "metadata": {},
     "output_type": "display_data"
    },
    {
     "name": "stdout",
     "output_type": "stream",
     "text": [
      "\n"
     ]
    },
    {
     "data": {
      "application/vnd.jupyter.widget-view+json": {
       "model_id": "3c4fffe4731143ca8c2799be854fe889",
       "version_major": 2,
       "version_minor": 0
      },
      "text/plain": [
       "HBox(children=(FloatProgress(value=0.0, description='Epoch 43', max=857.0, style=ProgressStyle(description_wid…"
      ]
     },
     "metadata": {},
     "output_type": "display_data"
    },
    {
     "name": "stdout",
     "output_type": "stream",
     "text": [
      "\n"
     ]
    },
    {
     "data": {
      "application/vnd.jupyter.widget-view+json": {
       "model_id": "cc3f86a70421496cae9c2a499d6c80c9",
       "version_major": 2,
       "version_minor": 0
      },
      "text/plain": [
       "HBox(children=(FloatProgress(value=0.0, description='Epoch 44', max=857.0, style=ProgressStyle(description_wid…"
      ]
     },
     "metadata": {},
     "output_type": "display_data"
    },
    {
     "name": "stdout",
     "output_type": "stream",
     "text": [
      "\n"
     ]
    },
    {
     "data": {
      "application/vnd.jupyter.widget-view+json": {
       "model_id": "5a4d5fd9b2f94c559eca13353cd4ece5",
       "version_major": 2,
       "version_minor": 0
      },
      "text/plain": [
       "HBox(children=(FloatProgress(value=0.0, description='Epoch 45', max=857.0, style=ProgressStyle(description_wid…"
      ]
     },
     "metadata": {},
     "output_type": "display_data"
    },
    {
     "name": "stdout",
     "output_type": "stream",
     "text": [
      "\n"
     ]
    },
    {
     "data": {
      "application/vnd.jupyter.widget-view+json": {
       "model_id": "ae81959e244a470a9af99e8b44509d89",
       "version_major": 2,
       "version_minor": 0
      },
      "text/plain": [
       "HBox(children=(FloatProgress(value=0.0, description='Epoch 46', max=857.0, style=ProgressStyle(description_wid…"
      ]
     },
     "metadata": {},
     "output_type": "display_data"
    },
    {
     "name": "stdout",
     "output_type": "stream",
     "text": [
      "\n"
     ]
    },
    {
     "data": {
      "application/vnd.jupyter.widget-view+json": {
       "model_id": "12868c84144e4bc3a703c10503ad2332",
       "version_major": 2,
       "version_minor": 0
      },
      "text/plain": [
       "HBox(children=(FloatProgress(value=0.0, description='Epoch 47', max=857.0, style=ProgressStyle(description_wid…"
      ]
     },
     "metadata": {},
     "output_type": "display_data"
    },
    {
     "name": "stdout",
     "output_type": "stream",
     "text": [
      "\n"
     ]
    },
    {
     "data": {
      "application/vnd.jupyter.widget-view+json": {
       "model_id": "000279f9d6634205b4eaa182aecb5d99",
       "version_major": 2,
       "version_minor": 0
      },
      "text/plain": [
       "HBox(children=(FloatProgress(value=0.0, description='Epoch 48', max=857.0, style=ProgressStyle(description_wid…"
      ]
     },
     "metadata": {},
     "output_type": "display_data"
    },
    {
     "name": "stdout",
     "output_type": "stream",
     "text": [
      "\n"
     ]
    },
    {
     "data": {
      "application/vnd.jupyter.widget-view+json": {
       "model_id": "e399882eb52d4341a4e0befde2c711b8",
       "version_major": 2,
       "version_minor": 0
      },
      "text/plain": [
       "HBox(children=(FloatProgress(value=0.0, description='Epoch 49', max=857.0, style=ProgressStyle(description_wid…"
      ]
     },
     "metadata": {},
     "output_type": "display_data"
    },
    {
     "name": "stdout",
     "output_type": "stream",
     "text": [
      "\n"
     ]
    },
    {
     "data": {
      "application/vnd.jupyter.widget-view+json": {
       "model_id": "2ea766b198a94fd7baeea0d7f66a7037",
       "version_major": 2,
       "version_minor": 0
      },
      "text/plain": [
       "HBox(children=(FloatProgress(value=0.0, description='Epoch 50', max=857.0, style=ProgressStyle(description_wid…"
      ]
     },
     "metadata": {},
     "output_type": "display_data"
    },
    {
     "name": "stdout",
     "output_type": "stream",
     "text": [
      "\n"
     ]
    },
    {
     "data": {
      "application/vnd.jupyter.widget-view+json": {
       "model_id": "03822b45d83a4def9d0d3f177862d809",
       "version_major": 2,
       "version_minor": 0
      },
      "text/plain": [
       "HBox(children=(FloatProgress(value=0.0, description='Epoch 51', max=857.0, style=ProgressStyle(description_wid…"
      ]
     },
     "metadata": {},
     "output_type": "display_data"
    },
    {
     "name": "stdout",
     "output_type": "stream",
     "text": [
      "\n"
     ]
    },
    {
     "data": {
      "application/vnd.jupyter.widget-view+json": {
       "model_id": "c163bb58a74f4c5499860275a896261d",
       "version_major": 2,
       "version_minor": 0
      },
      "text/plain": [
       "HBox(children=(FloatProgress(value=0.0, description='Epoch 52', max=857.0, style=ProgressStyle(description_wid…"
      ]
     },
     "metadata": {},
     "output_type": "display_data"
    },
    {
     "name": "stdout",
     "output_type": "stream",
     "text": [
      "\n"
     ]
    },
    {
     "data": {
      "application/vnd.jupyter.widget-view+json": {
       "model_id": "94716ecf652148c29e9403dd2502a197",
       "version_major": 2,
       "version_minor": 0
      },
      "text/plain": [
       "HBox(children=(FloatProgress(value=0.0, description='Epoch 53', max=857.0, style=ProgressStyle(description_wid…"
      ]
     },
     "metadata": {},
     "output_type": "display_data"
    },
    {
     "name": "stdout",
     "output_type": "stream",
     "text": [
      "\n"
     ]
    },
    {
     "data": {
      "application/vnd.jupyter.widget-view+json": {
       "model_id": "93442fbb5b9c469784ecc6305b316b29",
       "version_major": 2,
       "version_minor": 0
      },
      "text/plain": [
       "HBox(children=(FloatProgress(value=0.0, description='Epoch 54', max=857.0, style=ProgressStyle(description_wid…"
      ]
     },
     "metadata": {},
     "output_type": "display_data"
    },
    {
     "name": "stdout",
     "output_type": "stream",
     "text": [
      "\n"
     ]
    },
    {
     "data": {
      "application/vnd.jupyter.widget-view+json": {
       "model_id": "7b0f5767dbaf40ce98cbed4c5928b6ad",
       "version_major": 2,
       "version_minor": 0
      },
      "text/plain": [
       "HBox(children=(FloatProgress(value=0.0, description='Epoch 55', max=857.0, style=ProgressStyle(description_wid…"
      ]
     },
     "metadata": {},
     "output_type": "display_data"
    },
    {
     "name": "stdout",
     "output_type": "stream",
     "text": [
      "\n"
     ]
    },
    {
     "data": {
      "application/vnd.jupyter.widget-view+json": {
       "model_id": "fbdd79ae465b4e19a8113fc1ca1eefef",
       "version_major": 2,
       "version_minor": 0
      },
      "text/plain": [
       "HBox(children=(FloatProgress(value=0.0, description='Epoch 56', max=857.0, style=ProgressStyle(description_wid…"
      ]
     },
     "metadata": {},
     "output_type": "display_data"
    },
    {
     "name": "stdout",
     "output_type": "stream",
     "text": [
      "\n"
     ]
    },
    {
     "data": {
      "application/vnd.jupyter.widget-view+json": {
       "model_id": "3610f1820ef04e18a655b2cc24446eab",
       "version_major": 2,
       "version_minor": 0
      },
      "text/plain": [
       "HBox(children=(FloatProgress(value=0.0, description='Epoch 57', max=857.0, style=ProgressStyle(description_wid…"
      ]
     },
     "metadata": {},
     "output_type": "display_data"
    },
    {
     "name": "stdout",
     "output_type": "stream",
     "text": [
      "\n"
     ]
    },
    {
     "data": {
      "application/vnd.jupyter.widget-view+json": {
       "model_id": "d05d944295ba42dabdacb60c9363bce5",
       "version_major": 2,
       "version_minor": 0
      },
      "text/plain": [
       "HBox(children=(FloatProgress(value=0.0, description='Epoch 58', max=857.0, style=ProgressStyle(description_wid…"
      ]
     },
     "metadata": {},
     "output_type": "display_data"
    },
    {
     "name": "stdout",
     "output_type": "stream",
     "text": [
      "\n"
     ]
    },
    {
     "data": {
      "application/vnd.jupyter.widget-view+json": {
       "model_id": "43833646d57c45bbbcabb81ab77ff5a3",
       "version_major": 2,
       "version_minor": 0
      },
      "text/plain": [
       "HBox(children=(FloatProgress(value=0.0, description='Epoch 59', max=857.0, style=ProgressStyle(description_wid…"
      ]
     },
     "metadata": {},
     "output_type": "display_data"
    },
    {
     "name": "stdout",
     "output_type": "stream",
     "text": [
      "\n"
     ]
    },
    {
     "data": {
      "application/vnd.jupyter.widget-view+json": {
       "model_id": "a2bb7eda252e479b83317194b325ae05",
       "version_major": 2,
       "version_minor": 0
      },
      "text/plain": [
       "HBox(children=(FloatProgress(value=0.0, description='Epoch 60', max=857.0, style=ProgressStyle(description_wid…"
      ]
     },
     "metadata": {},
     "output_type": "display_data"
    },
    {
     "name": "stdout",
     "output_type": "stream",
     "text": [
      "\n"
     ]
    },
    {
     "data": {
      "application/vnd.jupyter.widget-view+json": {
       "model_id": "5fbf4c2953ce4575bfb8b80a5c82732b",
       "version_major": 2,
       "version_minor": 0
      },
      "text/plain": [
       "HBox(children=(FloatProgress(value=0.0, description='Epoch 61', max=857.0, style=ProgressStyle(description_wid…"
      ]
     },
     "metadata": {},
     "output_type": "display_data"
    },
    {
     "name": "stdout",
     "output_type": "stream",
     "text": [
      "\n"
     ]
    },
    {
     "data": {
      "application/vnd.jupyter.widget-view+json": {
       "model_id": "1e5f0931572b48d0ade66b89d687c2ba",
       "version_major": 2,
       "version_minor": 0
      },
      "text/plain": [
       "HBox(children=(FloatProgress(value=0.0, description='Epoch 62', max=857.0, style=ProgressStyle(description_wid…"
      ]
     },
     "metadata": {},
     "output_type": "display_data"
    },
    {
     "name": "stdout",
     "output_type": "stream",
     "text": [
      "\n"
     ]
    },
    {
     "data": {
      "application/vnd.jupyter.widget-view+json": {
       "model_id": "4f3cc865739d467d99fe8c43d29da253",
       "version_major": 2,
       "version_minor": 0
      },
      "text/plain": [
       "HBox(children=(FloatProgress(value=0.0, description='Epoch 63', max=857.0, style=ProgressStyle(description_wid…"
      ]
     },
     "metadata": {},
     "output_type": "display_data"
    },
    {
     "name": "stdout",
     "output_type": "stream",
     "text": [
      "\n"
     ]
    },
    {
     "data": {
      "application/vnd.jupyter.widget-view+json": {
       "model_id": "e60fcb4805f84c7fb4e67568fddedc0f",
       "version_major": 2,
       "version_minor": 0
      },
      "text/plain": [
       "HBox(children=(FloatProgress(value=0.0, description='Epoch 64', max=857.0, style=ProgressStyle(description_wid…"
      ]
     },
     "metadata": {},
     "output_type": "display_data"
    },
    {
     "name": "stdout",
     "output_type": "stream",
     "text": [
      "\n"
     ]
    },
    {
     "data": {
      "application/vnd.jupyter.widget-view+json": {
       "model_id": "4a7f217c85d348aca5ce6cb434960c9e",
       "version_major": 2,
       "version_minor": 0
      },
      "text/plain": [
       "HBox(children=(FloatProgress(value=0.0, description='Epoch 65', max=857.0, style=ProgressStyle(description_wid…"
      ]
     },
     "metadata": {},
     "output_type": "display_data"
    },
    {
     "name": "stdout",
     "output_type": "stream",
     "text": [
      "\n"
     ]
    },
    {
     "data": {
      "application/vnd.jupyter.widget-view+json": {
       "model_id": "b391b0c6b2214d409bd907b8ed5b5f71",
       "version_major": 2,
       "version_minor": 0
      },
      "text/plain": [
       "HBox(children=(FloatProgress(value=0.0, description='Epoch 66', max=857.0, style=ProgressStyle(description_wid…"
      ]
     },
     "metadata": {},
     "output_type": "display_data"
    },
    {
     "name": "stdout",
     "output_type": "stream",
     "text": [
      "\n"
     ]
    },
    {
     "data": {
      "application/vnd.jupyter.widget-view+json": {
       "model_id": "b1fc23947f6c4d2eb84225785f71db70",
       "version_major": 2,
       "version_minor": 0
      },
      "text/plain": [
       "HBox(children=(FloatProgress(value=0.0, description='Epoch 67', max=857.0, style=ProgressStyle(description_wid…"
      ]
     },
     "metadata": {},
     "output_type": "display_data"
    },
    {
     "name": "stdout",
     "output_type": "stream",
     "text": [
      "\n"
     ]
    },
    {
     "data": {
      "application/vnd.jupyter.widget-view+json": {
       "model_id": "308007a404df40748c4f9b498fa1b39f",
       "version_major": 2,
       "version_minor": 0
      },
      "text/plain": [
       "HBox(children=(FloatProgress(value=0.0, description='Epoch 68', max=857.0, style=ProgressStyle(description_wid…"
      ]
     },
     "metadata": {},
     "output_type": "display_data"
    },
    {
     "name": "stdout",
     "output_type": "stream",
     "text": [
      "\n"
     ]
    },
    {
     "data": {
      "application/vnd.jupyter.widget-view+json": {
       "model_id": "7595dae29f314d6e9cb7372424d5fd43",
       "version_major": 2,
       "version_minor": 0
      },
      "text/plain": [
       "HBox(children=(FloatProgress(value=0.0, description='Epoch 69', max=857.0, style=ProgressStyle(description_wid…"
      ]
     },
     "metadata": {},
     "output_type": "display_data"
    },
    {
     "name": "stdout",
     "output_type": "stream",
     "text": [
      "\n"
     ]
    },
    {
     "data": {
      "application/vnd.jupyter.widget-view+json": {
       "model_id": "a4f4264b31624e63ac1a4a83decf3d68",
       "version_major": 2,
       "version_minor": 0
      },
      "text/plain": [
       "HBox(children=(FloatProgress(value=0.0, description='Epoch 70', max=857.0, style=ProgressStyle(description_wid…"
      ]
     },
     "metadata": {},
     "output_type": "display_data"
    },
    {
     "name": "stdout",
     "output_type": "stream",
     "text": [
      "\n"
     ]
    },
    {
     "data": {
      "application/vnd.jupyter.widget-view+json": {
       "model_id": "78704e6866df4f2195aeb54c023a39ab",
       "version_major": 2,
       "version_minor": 0
      },
      "text/plain": [
       "HBox(children=(FloatProgress(value=0.0, description='Epoch 71', max=857.0, style=ProgressStyle(description_wid…"
      ]
     },
     "metadata": {},
     "output_type": "display_data"
    },
    {
     "name": "stdout",
     "output_type": "stream",
     "text": [
      "\n"
     ]
    },
    {
     "data": {
      "application/vnd.jupyter.widget-view+json": {
       "model_id": "bd2c4582523741b380e3b80e271df607",
       "version_major": 2,
       "version_minor": 0
      },
      "text/plain": [
       "HBox(children=(FloatProgress(value=0.0, description='Epoch 72', max=857.0, style=ProgressStyle(description_wid…"
      ]
     },
     "metadata": {},
     "output_type": "display_data"
    },
    {
     "name": "stdout",
     "output_type": "stream",
     "text": [
      "\n"
     ]
    },
    {
     "data": {
      "application/vnd.jupyter.widget-view+json": {
       "model_id": "88b26d3ae82c44a1892cf875eac73e10",
       "version_major": 2,
       "version_minor": 0
      },
      "text/plain": [
       "HBox(children=(FloatProgress(value=0.0, description='Epoch 73', max=857.0, style=ProgressStyle(description_wid…"
      ]
     },
     "metadata": {},
     "output_type": "display_data"
    },
    {
     "name": "stdout",
     "output_type": "stream",
     "text": [
      "\n"
     ]
    },
    {
     "data": {
      "application/vnd.jupyter.widget-view+json": {
       "model_id": "0c20e2c2cb0345bdacc274be04a2d9ce",
       "version_major": 2,
       "version_minor": 0
      },
      "text/plain": [
       "HBox(children=(FloatProgress(value=0.0, description='Epoch 74', max=857.0, style=ProgressStyle(description_wid…"
      ]
     },
     "metadata": {},
     "output_type": "display_data"
    },
    {
     "name": "stdout",
     "output_type": "stream",
     "text": [
      "\n"
     ]
    },
    {
     "data": {
      "application/vnd.jupyter.widget-view+json": {
       "model_id": "83b942ce3d1b4211a674db7ad38a9db0",
       "version_major": 2,
       "version_minor": 0
      },
      "text/plain": [
       "HBox(children=(FloatProgress(value=0.0, description='Epoch 75', max=857.0, style=ProgressStyle(description_wid…"
      ]
     },
     "metadata": {},
     "output_type": "display_data"
    },
    {
     "name": "stdout",
     "output_type": "stream",
     "text": [
      "\n"
     ]
    },
    {
     "data": {
      "application/vnd.jupyter.widget-view+json": {
       "model_id": "3dd6cc166414426087b3f0285e830e81",
       "version_major": 2,
       "version_minor": 0
      },
      "text/plain": [
       "HBox(children=(FloatProgress(value=0.0, description='Epoch 76', max=857.0, style=ProgressStyle(description_wid…"
      ]
     },
     "metadata": {},
     "output_type": "display_data"
    },
    {
     "name": "stdout",
     "output_type": "stream",
     "text": [
      "\n"
     ]
    },
    {
     "data": {
      "application/vnd.jupyter.widget-view+json": {
       "model_id": "8bf26f05762746f0b2cfb890f9e731a0",
       "version_major": 2,
       "version_minor": 0
      },
      "text/plain": [
       "HBox(children=(FloatProgress(value=0.0, description='Epoch 77', max=857.0, style=ProgressStyle(description_wid…"
      ]
     },
     "metadata": {},
     "output_type": "display_data"
    },
    {
     "name": "stdout",
     "output_type": "stream",
     "text": [
      "\n"
     ]
    },
    {
     "data": {
      "application/vnd.jupyter.widget-view+json": {
       "model_id": "92b3cb9a3baa4f1b9c98022f4c08809c",
       "version_major": 2,
       "version_minor": 0
      },
      "text/plain": [
       "HBox(children=(FloatProgress(value=0.0, description='Epoch 78', max=857.0, style=ProgressStyle(description_wid…"
      ]
     },
     "metadata": {},
     "output_type": "display_data"
    },
    {
     "name": "stdout",
     "output_type": "stream",
     "text": [
      "\n"
     ]
    },
    {
     "data": {
      "application/vnd.jupyter.widget-view+json": {
       "model_id": "5ac38ce10b6e45bd867717ac3e78e3b6",
       "version_major": 2,
       "version_minor": 0
      },
      "text/plain": [
       "HBox(children=(FloatProgress(value=0.0, description='Epoch 79', max=857.0, style=ProgressStyle(description_wid…"
      ]
     },
     "metadata": {},
     "output_type": "display_data"
    },
    {
     "name": "stdout",
     "output_type": "stream",
     "text": [
      "\n"
     ]
    },
    {
     "data": {
      "application/vnd.jupyter.widget-view+json": {
       "model_id": "e333ef61bf214b2e9384e6127b75c55d",
       "version_major": 2,
       "version_minor": 0
      },
      "text/plain": [
       "HBox(children=(FloatProgress(value=0.0, description='Epoch 80', max=857.0, style=ProgressStyle(description_wid…"
      ]
     },
     "metadata": {},
     "output_type": "display_data"
    },
    {
     "name": "stdout",
     "output_type": "stream",
     "text": [
      "\n"
     ]
    },
    {
     "data": {
      "application/vnd.jupyter.widget-view+json": {
       "model_id": "e210a6e79a8c4342ad1138a4c09c4923",
       "version_major": 2,
       "version_minor": 0
      },
      "text/plain": [
       "HBox(children=(FloatProgress(value=0.0, description='Epoch 81', max=857.0, style=ProgressStyle(description_wid…"
      ]
     },
     "metadata": {},
     "output_type": "display_data"
    },
    {
     "name": "stdout",
     "output_type": "stream",
     "text": [
      "\n"
     ]
    },
    {
     "data": {
      "application/vnd.jupyter.widget-view+json": {
       "model_id": "02206db18d604ab68fd30f948455d7b3",
       "version_major": 2,
       "version_minor": 0
      },
      "text/plain": [
       "HBox(children=(FloatProgress(value=0.0, description='Epoch 82', max=857.0, style=ProgressStyle(description_wid…"
      ]
     },
     "metadata": {},
     "output_type": "display_data"
    },
    {
     "name": "stdout",
     "output_type": "stream",
     "text": [
      "\n"
     ]
    },
    {
     "data": {
      "application/vnd.jupyter.widget-view+json": {
       "model_id": "71d782b6c94740658c6050da3c788180",
       "version_major": 2,
       "version_minor": 0
      },
      "text/plain": [
       "HBox(children=(FloatProgress(value=0.0, description='Epoch 83', max=857.0, style=ProgressStyle(description_wid…"
      ]
     },
     "metadata": {},
     "output_type": "display_data"
    },
    {
     "name": "stdout",
     "output_type": "stream",
     "text": [
      "\n"
     ]
    },
    {
     "data": {
      "application/vnd.jupyter.widget-view+json": {
       "model_id": "07e125d553ed49dc894f4e55aaa97d7b",
       "version_major": 2,
       "version_minor": 0
      },
      "text/plain": [
       "HBox(children=(FloatProgress(value=0.0, description='Epoch 84', max=857.0, style=ProgressStyle(description_wid…"
      ]
     },
     "metadata": {},
     "output_type": "display_data"
    },
    {
     "name": "stdout",
     "output_type": "stream",
     "text": [
      "\n"
     ]
    },
    {
     "data": {
      "application/vnd.jupyter.widget-view+json": {
       "model_id": "758d727445cc4a07a6121ab117176cfd",
       "version_major": 2,
       "version_minor": 0
      },
      "text/plain": [
       "HBox(children=(FloatProgress(value=0.0, description='Epoch 85', max=857.0, style=ProgressStyle(description_wid…"
      ]
     },
     "metadata": {},
     "output_type": "display_data"
    },
    {
     "name": "stdout",
     "output_type": "stream",
     "text": [
      "\n"
     ]
    },
    {
     "data": {
      "application/vnd.jupyter.widget-view+json": {
       "model_id": "86c580196d9349eb8a7d991c467af947",
       "version_major": 2,
       "version_minor": 0
      },
      "text/plain": [
       "HBox(children=(FloatProgress(value=0.0, description='Epoch 86', max=857.0, style=ProgressStyle(description_wid…"
      ]
     },
     "metadata": {},
     "output_type": "display_data"
    },
    {
     "name": "stdout",
     "output_type": "stream",
     "text": [
      "\n"
     ]
    },
    {
     "data": {
      "application/vnd.jupyter.widget-view+json": {
       "model_id": "5724c90cd2b84d49a46f3ef13868aabc",
       "version_major": 2,
       "version_minor": 0
      },
      "text/plain": [
       "HBox(children=(FloatProgress(value=0.0, description='Epoch 87', max=857.0, style=ProgressStyle(description_wid…"
      ]
     },
     "metadata": {},
     "output_type": "display_data"
    },
    {
     "name": "stdout",
     "output_type": "stream",
     "text": [
      "\n"
     ]
    },
    {
     "data": {
      "application/vnd.jupyter.widget-view+json": {
       "model_id": "ae1229f8020249f7bc0c13cbfd5d1786",
       "version_major": 2,
       "version_minor": 0
      },
      "text/plain": [
       "HBox(children=(FloatProgress(value=0.0, description='Epoch 88', max=857.0, style=ProgressStyle(description_wid…"
      ]
     },
     "metadata": {},
     "output_type": "display_data"
    },
    {
     "name": "stdout",
     "output_type": "stream",
     "text": [
      "\n"
     ]
    },
    {
     "data": {
      "application/vnd.jupyter.widget-view+json": {
       "model_id": "a8dc955892d843edafc22655506f9637",
       "version_major": 2,
       "version_minor": 0
      },
      "text/plain": [
       "HBox(children=(FloatProgress(value=0.0, description='Epoch 89', max=857.0, style=ProgressStyle(description_wid…"
      ]
     },
     "metadata": {},
     "output_type": "display_data"
    },
    {
     "name": "stdout",
     "output_type": "stream",
     "text": [
      "\n"
     ]
    },
    {
     "data": {
      "application/vnd.jupyter.widget-view+json": {
       "model_id": "160bcae7f2be4dce85bdbdf5516ee270",
       "version_major": 2,
       "version_minor": 0
      },
      "text/plain": [
       "HBox(children=(FloatProgress(value=0.0, description='Epoch 90', max=857.0, style=ProgressStyle(description_wid…"
      ]
     },
     "metadata": {},
     "output_type": "display_data"
    },
    {
     "name": "stdout",
     "output_type": "stream",
     "text": [
      "\n"
     ]
    },
    {
     "data": {
      "application/vnd.jupyter.widget-view+json": {
       "model_id": "e334313be6b34d4b9def82b5d695b37c",
       "version_major": 2,
       "version_minor": 0
      },
      "text/plain": [
       "HBox(children=(FloatProgress(value=0.0, description='Epoch 91', max=857.0, style=ProgressStyle(description_wid…"
      ]
     },
     "metadata": {},
     "output_type": "display_data"
    },
    {
     "name": "stdout",
     "output_type": "stream",
     "text": [
      "\n"
     ]
    },
    {
     "data": {
      "application/vnd.jupyter.widget-view+json": {
       "model_id": "0114bfc2c872491bbd8150026af19bf2",
       "version_major": 2,
       "version_minor": 0
      },
      "text/plain": [
       "HBox(children=(FloatProgress(value=0.0, description='Epoch 92', max=857.0, style=ProgressStyle(description_wid…"
      ]
     },
     "metadata": {},
     "output_type": "display_data"
    },
    {
     "name": "stdout",
     "output_type": "stream",
     "text": [
      "\n"
     ]
    },
    {
     "data": {
      "application/vnd.jupyter.widget-view+json": {
       "model_id": "ac8dd531a4e040199ff2b30a0e23ab71",
       "version_major": 2,
       "version_minor": 0
      },
      "text/plain": [
       "HBox(children=(FloatProgress(value=0.0, description='Epoch 93', max=857.0, style=ProgressStyle(description_wid…"
      ]
     },
     "metadata": {},
     "output_type": "display_data"
    },
    {
     "name": "stdout",
     "output_type": "stream",
     "text": [
      "\n"
     ]
    },
    {
     "data": {
      "application/vnd.jupyter.widget-view+json": {
       "model_id": "e4168ccb275446f9a30ec2228fde5a03",
       "version_major": 2,
       "version_minor": 0
      },
      "text/plain": [
       "HBox(children=(FloatProgress(value=0.0, description='Epoch 94', max=857.0, style=ProgressStyle(description_wid…"
      ]
     },
     "metadata": {},
     "output_type": "display_data"
    },
    {
     "name": "stdout",
     "output_type": "stream",
     "text": [
      "\n"
     ]
    },
    {
     "data": {
      "application/vnd.jupyter.widget-view+json": {
       "model_id": "7890a5bb0c1b44859074eddb61d3a0f0",
       "version_major": 2,
       "version_minor": 0
      },
      "text/plain": [
       "HBox(children=(FloatProgress(value=0.0, description='Epoch 95', max=857.0, style=ProgressStyle(description_wid…"
      ]
     },
     "metadata": {},
     "output_type": "display_data"
    },
    {
     "name": "stdout",
     "output_type": "stream",
     "text": [
      "\n"
     ]
    },
    {
     "data": {
      "application/vnd.jupyter.widget-view+json": {
       "model_id": "67d850a7b2414cdda9000b42475cf001",
       "version_major": 2,
       "version_minor": 0
      },
      "text/plain": [
       "HBox(children=(FloatProgress(value=0.0, description='Epoch 96', max=857.0, style=ProgressStyle(description_wid…"
      ]
     },
     "metadata": {},
     "output_type": "display_data"
    },
    {
     "name": "stdout",
     "output_type": "stream",
     "text": [
      "\n"
     ]
    },
    {
     "data": {
      "application/vnd.jupyter.widget-view+json": {
       "model_id": "359e82233d8640408e4600c911f34234",
       "version_major": 2,
       "version_minor": 0
      },
      "text/plain": [
       "HBox(children=(FloatProgress(value=0.0, description='Epoch 97', max=857.0, style=ProgressStyle(description_wid…"
      ]
     },
     "metadata": {},
     "output_type": "display_data"
    },
    {
     "name": "stdout",
     "output_type": "stream",
     "text": [
      "\n"
     ]
    },
    {
     "data": {
      "application/vnd.jupyter.widget-view+json": {
       "model_id": "23b9818f24d1450b83beef71c17a5e43",
       "version_major": 2,
       "version_minor": 0
      },
      "text/plain": [
       "HBox(children=(FloatProgress(value=0.0, description='Epoch 98', max=857.0, style=ProgressStyle(description_wid…"
      ]
     },
     "metadata": {},
     "output_type": "display_data"
    },
    {
     "name": "stdout",
     "output_type": "stream",
     "text": [
      "\n"
     ]
    },
    {
     "data": {
      "application/vnd.jupyter.widget-view+json": {
       "model_id": "c2a9d6ba7bb44cd08d1b31fec6cf0fdd",
       "version_major": 2,
       "version_minor": 0
      },
      "text/plain": [
       "HBox(children=(FloatProgress(value=0.0, description='Epoch 99', max=857.0, style=ProgressStyle(description_wid…"
      ]
     },
     "metadata": {},
     "output_type": "display_data"
    },
    {
     "name": "stdout",
     "output_type": "stream",
     "text": [
      "\n",
      "\n"
     ]
    },
    {
     "data": {
      "text/plain": [
       "<keras.callbacks.callbacks.History at 0x7fa8c5d01dd8>"
      ]
     },
     "execution_count": 42,
     "metadata": {},
     "output_type": "execute_result"
    }
   ],
   "source": [
    "copy_classifier.compile(optimizer='adadelta', loss='categorical_crossentropy', metrics=['accuracy'])\n",
    "\n",
    "copy_classifier.fit(\n",
    "    X_train,\n",
    "    y_train,\n",
    "    validation_data=(X_test, y_test),\n",
    "    shuffle=True,\n",
    "    epochs=100,\n",
    "    verbose=0,\n",
    "    callbacks=[TQDMNotebookCallback(leave_inner=True)]\n",
    ")"
   ]
  },
  {
   "cell_type": "code",
   "execution_count": 43,
   "metadata": {},
   "outputs": [
    {
     "name": "stdout",
     "output_type": "stream",
     "text": [
      "0 0 [[9.9998140e-01 1.8549023e-05]]\n"
     ]
    },
    {
     "data": {
      "image/png": "[encoded data removed]",
      "text/plain": [
       "<Figure size 432x288 with 1 Axes>"
      ]
     },
     "metadata": {
      "needs_background": "light"
     },
     "output_type": "display_data"
    }
   ],
   "source": [
    "temp = random.choice(list(zip(X, y)))\n",
    "multiplied_samples = features_to_samples(temp[0])\n",
    "i = np.argmax(temp[1])\n",
    "\n",
    "temp = copy_classifier.predict(temp[0].reshape((1, -1)))\n",
    "print(i, np.argmax(temp), temp)\n",
    "\n",
    "plt.plot(multiplied_samples);"
   ]
  },
  {
   "cell_type": "code",
   "execution_count": 44,
   "metadata": {},
   "outputs": [
    {
     "data": {
      "image/png": "[encoded data removed]",
      "text/plain": [
       "<Figure size 432x288 with 1 Axes>"
      ]
     },
     "metadata": {
      "needs_background": "light"
     },
     "output_type": "display_data"
    }
   ],
   "source": [
    "predictions = copy_classifier.predict(np.stack([\n",
    "    samples_to_features(a) for a in aligned_active_area_data\n",
    "]))\n",
    "plt.hist(predictions.argmax(axis=1), bins=y.shape[1]);"
   ]
  },
  {
   "cell_type": "code",
   "execution_count": 45,
   "metadata": {},
   "outputs": [
    {
     "data": {
      "image/png": "[encoded data removed]",
      "text/plain": [
       "<Figure size 720x216 with 2 Axes>"
      ]
     },
     "metadata": {
      "needs_background": "light"
     },
     "output_type": "display_data"
    }
   ],
   "source": [
    "_, axes = plt.subplots(1, 2, figsize=(10, 3))\n",
    "for i, f in enumerate([lambda x: x == 0, lambda x: x > 0]):\n",
    "    j = random.choice(np.argwhere(f(predictions.argmax(axis=1))))[0]\n",
    "    axes[i].plot(aligned_active_area_data[j])"
   ]
  },
  {
   "cell_type": "code",
   "execution_count": 46,
   "metadata": {},
   "outputs": [],
   "source": [
    "probably_single_run_mask = predictions.argmax(axis=1) == 0"
   ]
  },
  {
   "cell_type": "code",
   "execution_count": 47,
   "metadata": {},
   "outputs": [
    {
     "data": {
      "image/png": "[encoded data removed]",
      "text/html": [
       "<img style=\"margin: auto; border:1px solid\" src='data:image/png;base64,iVBORw0KGgoAAAANSUhEUgAAArwAAADICAYAAAAKljK9AAA5pElEQVR4nO3dfYxkWZoe9Oecc298ZWZlVVZXbU3m7JYmZxmqPTRejVlTHhnWY2O8NH9gthBGgOQBW8a2cBuEgJGQrdZKSEYrg90rmDUW0iDEInknGQFy45Wx2gsM1E6zs9qp3e3cnnXu1LgzpyarOysjvyLuveeDP849N25EZWZlZMZXxn1+Uquq8iMyIiqr84n3vud9AaJTbGzuuGnfByIiIqJRkNO+AzSbtrfaQ38OQzIRERHNIgZeGpnLhORhXedQPXjfr/NjISIiuk4YeOlamUSoHpfB+36dHwsREdF1wsBLE7GxuePCf8N+3rBf6513Pxj664zDq+7D3m5nUneFiIio0qJp3wGaX++8+4FbW18GADx6sCqA4QPsZaqgO08P8dabr4vwtba32njrzdfF0Dd0Ra+674f7yYTuCRERUbUx8NJLRlUdDcFzFLc1jCwxAHoh++2vfXvq1d7T6MxO+y4QERFVAlsaaGxC8KTTWTOTOZyIiGjuMPDStTJPfa8MvERERJPBwEsjs7a+3NcOMY5L9t2OHvltEhER0Xxj4KWx0Sl7VImIiGj6GHhpJDY2d1w4JBZMqxp7XQ6DGXM97icREdF1x8BLp7rqUoSNzR03zR7Vy8z8nTSjh797s/6YiIiIZhHHktGprvvhsPLc3/ff+2jad2dkuJ2NiIhoeKzw0ljMSjAbbLOYpMFDfERERDQdDLw0FuOoEF8kPDJgEhER0SAGXhoba0efPV+1zOLJ42eIYn5bExERUQ+TAY3NOAIvERER0bAYeKnPaePFZklcV+e2LXQ7GnFdTfIuTczG5o5bW1+e9t0gIiK6dhh46VRvPLyHd9794NIl2m5HQ8rp5OZGM2IvLxERERUYeOklo6jyHrdT1EZQaR2cdNBoRjMzAeKq2PJBREQ0GQy8NDajDnTbW22s3G2O9DbH5SIvGqa5mIOIiKhKGHhpbNJXTFSYFLY4EBERVRsDL42FNQ46szMRNFfuNuemDYKIiIiGx8BLI/XowarY2Nxxxlh0j7Np352ZJpWYiRcERERE846Bl8YmSy2ePH42stvb2+1gnsZysYeXiIhoMhh4aeS2t9pQSsJah25H970vVIAvcjuzPhN4WIMTJwCw1YKIiGgCGHhpLLodDaXEK1cBj8Ms9uwOhvd33v3ASTU3WZ6IiGimMfDSWOjMwkzhkn2WmGvT9qAzO+27QEREVAkMvHRlp7Ue6MxCSjH1UDfr63j3djvTvgtERERzj4GXCqPqmd3b7cBaB6kED2adYW+3gyiWL/U4n2Xe+pmJiIgmiYGXxsJkFoqB90zdjoaUzK9ERESTwMBLZzptqsBFlKuWk5w1u7G54+K6euntjx6sCrYOEBERVRcDL42FMRYqkiOv8F7n8DoY/K1l9ZuIiGgSGHhpLIx2UJGEMZM7tLa91UajGU3s611Eee7w4Kg0a9zQY9uGmWNMREREHgMvjVznKIOKBIzm2K2zTGM+MRERUVUx8FKfUUwDSDoaSvlvLaNZjCQiIqLpYuClkQsh97QKLy/HExER0aQx8NLInRxlqLd8L6217tw+1nG4Lgfb9MALAr4YICIiGg8GXhobqQRS9qqeaXAL3SReDBAREVURAy+N1MbmjrPWFePIymPJxr3md+fpId54eG9stz9qXMpBREQ0GQy8NHLd4wytxRjHB9lLVczL2tjccSt3myO5rVnBKRZERESTwcBLAEYznSEweeUy6WrobPQtDSt3m3PR7+rcxR7CKP9uiIiIqoiBl0bqyeNncLbXzpClvor56MGqYI9qj84slJIjq4ATERHR2WZrLRVdaxubO+799z6CkAIHLxIAgJRiJNXY7a02xtn/Owk7Tw/7HgNXCxMREU0GK7x0rmFW2W5vtf2WNSWQdjWMthPrU93Y3HGztlZ4UOco6/szq7tERESTwcBLIxEmMOjUwhgHYxx0ZnHBNtVX2tvt4Lr3sQ5OZWDgJSIimgwGXrqSwQNVxlg465CcaDjnJxFMo393Fg+2lQOvNQ5CcDQZERHRJDDw0oW9KkBub7VhtEO3oxHXFayx0Nr2zd+t8sE1Y/orukIKBl4iIqIJmO2mR5qYEES3t9oorwEOvw+V3PDnJ4+fFZ8b3vaPfmuv2KyWdDUAAWcctrfaeOvN18XG5o4bPLh1GWvry9cyOBvdX+FVSrwUgomIiGj0WOElAH6CwDvvfuCA3gixvd0OAOD99z7C9lYb77z7gXv/vY/w/nsf4Y2H99DtaGxvtfHk8TNsb7Vx1E6hM4vkRKO5EPse3tLX2N5qY9YPlo1TeSoDgy4REdHkMPASACBLDN5683UBAO+8+4H77nc+wYvnHfyf/9vv4bid4umH+/idX/8YWWLQaEZ4/72PcNxOsfP0EM++f4gnj3+IwxcJko4GADjrYK2DkAJPP9yf5kObGYPtC4btDERERBPBwEsAgO6xxjvvflD02h61U+jUFiHt+CAtqpLPt4/xg+8d4qN/1Mb21kFxqf7Fxx1088NqQgoo1d+jura+jG4eiIfx6MGqeNXnbW+1Meurh/sqvNohS0a/hY6IiIheVt3ry9Tn2T8+xMF+gt/+/3ahlMT+x50inB7tJ1CRhNG2GDUW1/yWsKODFLdeayJNDA72EjQXDIQAmgsxrHXF+tzQA/yVr35rbGXNvd1OUaWeVeXe44xjyYiIiCaCFV4CALQ/7qJWV2jvJdj+vQP88KMj7D/voP1JF4CfGds50VCRRBT7sHtylKHeiHBylMFoi8P9BEnHQMUSrcV4YksnZt2jB6uifMgvUFIUq5fPMjj2jYiIiIbHCi8BAPY/6SLaOkBcywNtapF0DaQSyBIDoy2EEEi7voILAN0TjSj2lV8hBTpHGW7cqiOK/W0Avm81rqupT1UIc3knER7P+jrlRRODa4VnbWYwERHRPGHgJQC+R/fejy0h7RocvEjw4nkHOq/QxjUFIQAVSVhtoVMLIYGTwww6s2gtxtDaIOlodE80Vn6kVbQ+OMte1WBws5qxzLhERESTwMBLAFC0JUgl4ByKebq1uso3pjlkqYbOLJQSkEogTQxUJHB84FBvRdCZhZQCizdqRVgevGTfaEZTr/ZOy2CLhxBcL0xERDQJ7OElACiqs1pbGG1htEO9ESHpGBwfpkg6GmnXH2JLU4OjgxQ6NeieaLSWYsSxhLUOWlvUWxFW7jbhnB9NpjOLtfXlyl+2Lwde/8KB//yIiIgmgT9xCRubO87km7+Ukjhq+xFkSUfDOYfWYoxaQ0EqCRUJtBZj3LzdQKMVo96McHyQoXPsx5EBQOcoQ9LREEIgS83Y1+eWVxefZVa2s4VlHkG5l7e8yY6IiIhGh4GXAORLEaRA0tVIuhrW+OpsoxUV76/VFaQUcBZIuwbWOnSPNepNhajmv5WMdli4UcOL510I4aua1rhie1uVlRdNWOuKw3/l9c1TuWNERERzjoGXAPjDZd3jDGnXIEsMnHMw2uLkMIPRDlFNQioBFUk/Wzc/xJalBlnq+3oBQGe+zaHRiiCkKJZSMMwNTGkwzh8CLIXgqr8gICIiGhceWiM8efwM1jrENQUIAA4QQuD2vRbSxMBZX5EMo8ZU5FsfnE2RpXnVN89tRjvozOC1T90o1gsHa+vL2Hl6OIVHOBscpzJQLrwA5IxlIqLJYIWXAADOAY1WhO6JRpKYvP/WIooVpBKwJhxm84ethBRwzl+WT7oaUvqf20b7z9n/uAupJJx1ONhPrtTSsLG54xrN81+bPXn8DG88vHep258UIUXfamVOaKi20LMd/pv2/SEimmcMvITtrQPAOQgpEEUSUgooJRDFPrDGNYnmQowolli86RdLSAm0lmIfiKVAveFn9RrjcLDXRWsxznt4HaJI4p13P3Br68uVncl7uJ9ASlE8fp1ZGMPAW3WPHqwKVnmJiMaPgZdwcpTBwc/ezVLfwxvVJFTkpzIIIVCrK0SxRLMVod6MENcV6o0ISgnftiBFEehCb6pzDg6+rWFvt4NHD1bFqKqa123Mmc5s31iyUClnlbd6uC6aiGjy2MNLaH/SBQBEkfTb0QDUGgqLy7V88YSDUhJLt+o4OcrQPc4A+DaIo3aCzomGTg2EFEWv7w8/OvJ9vXkkLV/KH9b2Vhsrd5tXfJTTZ40rAm5oBzmvr5fBqDpCewP/vomIxoMVXsLhfgIARa8unENrsYalm3XEdQWjHeK6wslRhsUbNdxYaUDmLQ+hDcJo5z8/D3BxXRUTCGxpvXAUy5dm0VaBNe6lTWtA/xxeIiIiGg8GXkKSV19rdYWka+AcUKtLRLFvTVi+3YC1DlIKHB2kfn3wct0H4ppCXJO94Ob87XWOsuL2rfGBeZotCI8erIppB20HQKf9o8mIiIho/Bh4CWliIJAH3zyDNRdreO1TLd+3uxAV29Veu9eC1rYYUVZvRmguxMjy2wi3V6srWOt8yMsv44+qh/ciEx9mZbNa4Hua+/8spGAPLxER0QQw8BI6RxmEEMVBMwC4casOwI8qU0oirkmcHGWwxmFhKcbN1xpYXK6htRgXyyhU7H/NEoM0McWUh7TrK8gbmzsuBOVXVXvL/Yx7ux28anXwdWBLUxlC+GVLAxER0fgx8BI6x7r4ThD5vtt6UyHOVwk3FiLcvNNEvanQWPAB+P7nbhYfB/ie3bCwIukaCAF/KMv5UWWhhzeuqysdYDvNdTjUZozNnwsfetPEoNGK2NZQMecdTAsH1yZ9n4iIqoCBl9A5ziClQJoaGOOnB9y41ShCavdY4ye/9Gko5b9dZL5GuNZQaC3VYK1DPV8MESq8jYU4n9LgJxPEdTVTLQaTZnTv0FoINeFFQZWfFyIiokngWDKCNf5Amk4tpPRV2npTIe0atJZiAH6TmVQC3WONxkJUtBgc7CWQShSVYSH8pIaj/QRRJGEtYNin6vuZ89pdCLjOoe9t89C2QURENItY4SVYmx+g0hZCCggJKCWL0WNRLNHtaNQavqUh7Ro8efwMAHBjxW9eU5Eo1g1b42CMn8frHK/QBtY6ZPmUhjB/lz28RERE48fAS3C2V+EFAKlkr9e0a6Aziyzxv3aPNW7faxWfG9dVPprM9/KGCq+zfi6vc4DOL+VXebWwNf45GezZlVJUci7xPGMfLhHR7GHgJVjroCJfnYUDlBKIawqf/fwKFpZrsMbh/uduIuloRDVZHBALl+BbizFMZiGlgIOf9JAmpmhzsMah0Ywq26s6GIAYcOfbVb7PeXCNiGg8GHgrbmNzx/lFE75Ca/PK7MJyDQDQaEaoNRSefrhfHEwD0DcVYeFGzbdCCEBAFFXMsD73tA1jVXRa+wJbGubP2vryqVVerg4mIpoeBl7yM3QjiSy1fitarLB6fwl7ux2s3G1CZxZLN+u4dacJa1xfhbLRjBDFfk5v2Dzh0FusgHws2ahHkQUbmzvuOhz20toCeXtH+blQShSrnS+yUCN8HKuAREREF8fASwB8760QQJYa1JuqCLtPP9zHZz+/gm5H442H92CNw8rdJtbWl/H+ex9h5W4TcU1CSIE4VkVbBOB7g53z/cHH7XSs939vt4NZrp5Z48ez2dJMYlZ3iYiIJoOBl+CcPzwVxRLWOr9EomRvt4NGM3opUDaaEXaeHmLhRg21uoKQAISf9mDyCm/IdFlqip7fURxcm7XVwRehS60dYRQcERERjR8Db8WF0GiMzVcBo69XN4TflbtNvP21b7uwdGJQczFGFMl8uCwA56cSCKAYTRZGmVWRzmcR68wWvxei93aaL1dpO2HLChHR6DHwVtzO00P/GweoSMJaWxxgA3w1NhxQK/eePnqwKlbuNtHIw3GjGRUb2CBQzJsFfA9v+Py4roYKeRubO27W1wZfhLMO1jroLG9ncH5WMVcLVwMPrBERTRcDb8WF3lpjLBqtCNb6lcHhIJXOLNbWl4t2hFpDFSH5rTdfF4CvAodWCCFEsVQhbBJzpV7VRjOaSMh79GBVzNL4L2Ns3xzewedlEAMSERHR6DDwVtzJUQbABzC/CthhYakGnVm89ebrohxOy9Xcjc0dt7G54954eA+dowyNZoR6w78/HMYy2kLI0Ywlu+6XeY12AERR7QaQ9zhf24dERER0bTDwVlw58KpYQsDP1Y1iibe/9m1Xa/TaG8KIsnKLwfZWG1Hsv42Kjw1TGlzvP6Vk0R5Rxcv4RltI6TfXAQCsg8o30dF8uu4v0oiI5gkDb8UdvvCtCwJAmhhIKVCrK8R1hRfPO/jiT98H0DvcFsJtsLfbQVxXiGoSIrTwCgGdGSjl5/DqzEIqUekDWsa4Itxa42AdUGtEgHWVfl6IiIgmgYG34o4PUr8vQgAm8y0IUSyL9gUAxTiynaeHL40sA3rLJ4RftQYHB2v9GC4p84A3xqruk8fP8MbDe2O7/VGwxk+tMGYg3EpRyYo3ERHRJDHwVtjG5o5LyzNx8wptaylGt6P7qrlnbTMLCynC5wsBv11NWwghfGW3tF1slAfJ1taX8eTxM8zSFIezDptpbQEhYLRDlhpIEZ6j/hnFNH94AJGIaPoYeCsu6egi6JrMFssQyhXeYPX+EoCzlz6UA7K1rgi9YcnCtCuZK3ebmFpPpXUA/OY5f4DNj4FzrO7OlcFwe9F10URENF4MvBUXDlEJ4au1Mup9Swy2L5xXhYzrCnFNwZd5w1ph/76weGLagXeajPVTGqxxxRSLs5Z40Hxh9Z6IaPoYeCsuS/PAKwV0aqGUXzE82CZQrlSFClb5z1li0FzIq8Ih6FpXHGRLE/Ny/2qVlObu6swCUsCEX3V1XwhUAdsZiIimj4G34tKugRACSkl0TzTqjQhf/On72Hl6eGpbQ9nebqf4mLiuEMUKQvh2BiFFX8C11kEp/+02TPDd3mrPRYXMuV5lV2e2eCEA9OYWExER0Xgw8FbY9la7Fz6Fr8I2F2MA/SuFg3LABXwLRPiYvkkNeX4TQsDBtzKE0WTl9cRVYrQrWjsAP5tYSIE49i802OdJREQ0Pgy8FRc2f0kpYK1D7ZSxY6c5q+oa8m44/CaQH2DLLGoNhU6+6KJq/Grh3tY5Zx3KSz3W1pend6COiIhozjHwVtjebqfoK5VSwFlXHFSL66oItWcFsdNaHqQSMNqiVlf+kFp+7d4Ye6kFC3u7nZH1QJ41XWLctrfaxQE+o321Ozwg59jSQERENG4MvBVntD9Y5pyDA6AiH8V+8kuffuXnnjb/VggBKf3sXQAISc/o3vIJpWTlLuE76+Dg8kqvf66jSPplFNy0RkRENFYMvBUXqouhAtlc8D28p1VVV+42X+rBLbc2+B5e5GPJkB9gQ7GIotZQ0Gk1w53RfsaxTq0/1BfezuouneLRg1XBFhciotFh4K24cJBKKQGB09sULiqKJYT0TbzhdoUArOvN5K3SaLJyYLHWV7+LhRxKIE1MMdWCiIiIxoeBt+JCEA0TFoQUF+qZffRgVQyuCZZSQAg/faB826HCG/qDqxJ633/vo+L3zvWmNBjTewEQ3hfw8BoREdHoMfBW1Mbmjut2dBG2pPLtCBfd/rWxuePKPbwrd5vQmYWKZG8SgfPzeMNc3iwxo38gM+y4nRa/973S/rm1xhWVXSmmv3KZ5hNfOBER9TDwVliWGD9DTACAD6WtfA7vZYQeXiHEqWuF47qq1FaxsMUOAKzxPbxhKkN4foQUfdVeolGp2sFQIqLzMPBWWPdY+7DlAEAAAriztnDhzy+PLQu/l0qU+nd7Syiq0sZQFsL9ztND/1wIP60hTQxUaPtg/y4REdHYMfBW1PZWG2le4RVCFBXI1ftLF76NwV5fFYliLJk11rc0CAAOfTN4lZIY7P+dZ1lifA+v9X281riidSSuK+jMshpHI1V+EUpERAy8lVaEUOFbDqLo8t8O21tt1MOEh7ytAcgPruW3X+5pvYjBPuFBTx4/wxsP7527nKI83um0g3bjlOY9yzqzvnOk6OG1+a+OUxqIiIgmgIG3wo4P+gNomK5wnkYzOvUwTKgmKeXbGKxzRc8q4C/dj/Jw1qMHq2JwJvCs6Z707p+zzrc0uHw2cf429u8SERGNHwNvhR3uJ3DwVcYstWi0or5Wg1A1DZfb19aXX1o88ejBqihfjpdShLbdvvFkoYpprUNUkzjcT8b2uGZF6M+1+Rgym4denRmoSPZVdqvU4kFERDRpDLwV1jnOAPhL7UZb1Orq1HXBZY1mdG6/qcrX5QZC9oJfmpi8v7daZU1r/LIJpSSccdCpRVyTxVziwYNr21vtC81CJiIiooth4K2wpGvgHIo+0iiWuMpBlyiWQCmmSeXDbYhz4+hVDX28s2Zjc8epWGJjc8cZ49cJq0j0PQfh8Fp4ATBYLSe6jI3NHccXTERE/Rh4K2pvt4PjgxQCeYXXOLQW4zOrtxf9Ieq3rQk463t4AeSrhn3AU1E1KrxPHj9Dra6wvdVGllo4C8S13hxi5/wLhPL0CiIiIhoPBt4KC72lQgJwDrWGeuXnrNxtntlvunSzDpVPejDGbxbzSyhcsX0trqliesFVNfKpELNYFe12NKLYj18LAd85B4deP6/NXxRY57Byt8nNWDRS5QklRERVx8BbYb3qor/U3lqqXfk2VeQDrhSi+L0YWJ87qTFc0wyRWWIQ1yS6HZ1vVnN9wRfwFV7LSQ1ERERjx8BbYWH1rZQAIIplCMMYHHCvlMzX5eYBr9QjXP6a191FgrRSEllioDNbrFt2FkXLRxmnNNAosH+XiOh0DLwVZrQrDplJJXo9t1egIgGB3sKJMHvWOUDnkwoAXPve1Yu0UUQ1ibRrirCf752AzuyZ/btr68sMv0RERCPGwFth1voZvGFSw2UqvIPimiou0UexLLaJGW1fCtRnVUnnoUrVPda4dafpR5Jlfs2yVKKv2h3F+T8/63t4Z7EXmYiIaB4w8FZY37xcgSutFg6kEhDS355Obd7e4N/XPdFFqJ63SQ2D4d0YWyzpsNa3dkSRH9sWnncphX9R4NjSQERENE4MvBVWrP11568VXltfvnD10VcxS7flHJBPJihvHruI7a1231zgWT51ftrzk+XTKNLEAKGCnq9dBnoVXsdTa0RERGPFwFtBITSGoCWEP0h1lZaG7a02Vu42IUWvh1dIAYhQ4c3HcM1phfcsxtjeauF8VJuzKOYehxcBgyub6fqZdivOtL8+EdEsY+CtOueD7yjaGQIhRTGKK/z0dQ7FLN6q6B7rYlID8h5eP4fXFSuWo9ivYs5GNJuYiIiIXsbAW1GH+0n/pXQB3FlbuNJt7u12oMJ6Yed7VEPiNdoOPW92b7eD61KxOq0H9+QoA+CnU0CU1grnv4QFHKEFhH28RERE48HAW0HbW23ozK+7DeFUKYHV+0tXvu1a3W9rc+gdzEI+f9ZoWyxbuKqNzR23crd55dsZldNaEkKgDUE/tDQYY/2K5bB0Qlz/MW1ERESzjIG3ok4OffUReeDqO2hW8ujBqrjogbVuR6O5GBfVXWtC7PVtE8b0QrAx8xfwBnsoQ89yuZUjVNWt8Ys5JrV1joiIqMoYeCsqXG7Pj62NZAZvoxkhiqWf7Wt9ZVNKAQe/5EJKgbQ73V7VaawbdtZv3iieF+vnFVvr4KyDkgLJkIfWZnliBRER0axh4K2o7klW6ql1iGuqbwTYRZx1Ktyv0XX59AffNWFLlc1JGFx5POrbfuvN188NnEb3VimHHl6pfDtHqHsXLQ05Lp8gIiIaDwbeiko6xq+69WNy0ViIrnRALBy4ktIvnkBpo1hxGd+6kbcydDt66KA+Dqv3l/Dk8bPiz+GxJx0Do12xVjhstht8HkJAJiIiotFj4K2obkf7OmMexOKaGupzzwrHvqXBz5oFei0NgK/uVjHYhcNqQF79LvXtSiXANl46DdtWiIhGJ5r2HaDJ29vt+DFhpaTVbJ3/rbC2vlz0vj79cP/MjwujyATyg3B5Fdnl/arzeEgrPC/lsWJpYoqJFVlqIKWAlAIqEkgTW/Q01+oK1ti5fF6IiIhmBSu8FVUsOsinNNy8M7oRXzKfORvFEkpJOJdvGnN+MoGfXHD1gLfz9PDcUWrDTJi4iu2t9ksVb51ZH2Ztr50jruX/3BxwxlAMokvhljUiovMx8FaU0a5Y+XvVtcJltboqbkuUvrucc5D515n0zNlJXxoOXyvM2vVLN1xfAAZ6fb5CiMqsWqbJYlsEEZHHwFtR3RONUN4Nl9vPMszGM6l8G4OUPtgqJeDylgaRf415X7Lw5PEzRLGE0a6YtwsAQoliy5oxfp2zc67vgB8RERGNHgNvRWWp6S2bELhShXd7q42w9azW8H2rQvaqlmEygRhio9irNqltb7XRaM5mC/rhfoIo8iPIrHUwedgP7Rxh/m4Uy77K7tr6Mp5+uI9Z2iBHREQ0Dxh4K6ocPAVwboV3GHFdFZvWigkN+SX7YsXuiKuZw1y2XVtfnsis27BWGABsfkAtPAfO+RcEKhIw+QQHVniJiIjGh4G3osLkAACvPEFV3k726MGq0Jk995CMlPniidAq4Zw/uGZ7q4XnMeCF56l7rFGrK+jMwmR+AoMQPuT6bWv+sdebUfHCQ0rRN8eXiIiIRoeBt6KKZQhjOtcthCg2rQEoqrvlyue8MsYWrQtCChhtoSKZ9zTLIuw3F+N8Rq//vO6Q64WJiIjoYhh4K+hwP4G1DjIKf/2+n3QUVu8v+cNpeb9uOKjmnJ9WYI2fVlCF4BtY66BUXt0t7RIOo+EEem0ecV31zfMlIiKiq2PgrShnfTOpL/KeX+a9SN/r3m4HK3ebWFtfLsaROed6bRNhOoHOq59XGMO1sbnjZmGd8HmscUi7pmhfEMJPq5DSb1qTUiDtGn9wzYFjyYiIiMaIgbeCdGbzcVg+jFrncGdt4cKfH8XypQDc7WiEEOr7dv3bwyQIBwD5qLIQgidxeGxarHXoHGcQIeAq39oAoKh+A/65nNcNdERERLOCgbeCko4GIGC1LWbmnrexbFiyaGPoPw9nTXWCnc5sEWqd621a85OPBbLE9PXvssJLREQ0Pgy8FWS0X3bgHPwIsSFn8L6qz1TlCxWUkjDGFlVenVk469BoRb3VxmfY3mrjtLaFSa0Lvipr/cKJWkPlUxpEUe1FPrEhHG4r9/USERHR6DHwVlC3oyFLB6ikFKeGy7NkiTl3OUJck3C2dEBLAHC+fzeKJbLUzHWl12gHk/nHGkK+EL59ITzuKJZIOvmhNVlqd0D/GDgiIiK6OgbeitnY3HFp1+TLDnxvrYrkhVYHn7XgYW+307f1zFcze+8X8OHXudDL6g9tXXUaQblv+KIePVgV45yCEOYUi7xfOUtMaGfOWzz84bVywPXvY74lIiIaFwbeCvrkhydQUV52BaBG0NLQ7egiNEsl4Kz/VUoJ5CHPGoco9gsZXlXh3dvtvDKEh5A9zWpoeWLE2vryS/fFaFtsnosiGdJ/8X6lZDHJgYiIiMaDgbditrfa/QHLAWpEM3gDv1LY961GsSgyXvlglpRibhctpIkpJjOEbFtk3LBeOT/AZ62DVBJZatFovrq3mYiIiIbHwFtBSUf7hRB5+FJqtN8GQgoIiGKdrh/z279eWEgxt+EuVLBVPorMwU+rMCaMg/Oj4GS+ejnM5Z3XFwA0Xuet+SYiIo+Bt4KsdXAurzoKf8gsOO2y/DCKH7yitGRB+XCts+t/6b4cLs6aGOGsg84s6s0IJ0eZr6LnW+2KkW2lEW2h35eIiIjGg4G3glyercJBqRsrjeJ9oxj7JfPvKhVLGOOKsWTG+C+s821r8xzydGahIgmjbbFS2IURcM4X13VmoWLZd2CNq4WvJ1ZZiYhmGwNvxeztdorgGXJWsxWd8xnDiyIJIXyfqlL+9yHSqViic5RByqutF76KUY79Ou1wXZYaCOHDrQ3L1YQA8sq6n5DRGwkH+Ko7e3hpHM6arkJEVCUMvBWUJba3Ac0BN++cPVN30PZWu28E2WmE8r2pWWKgot7CBSHC2/x82qsE3iePn+GNh/cu/PGT/qFfHFYLIVf658WGNcOZRa2ufD91/pcRenhX7jbneu0yERHRpDHwVtDJUYpaXRWhNxrxlIa4pgCg6BPujT3rz5uh0jxPtrfaRaCXRW+uQ1xTUEpChhFtIfjm83ilFOgcZdO980RERHOKgbeC0q4pQinE+auFL9Kb2O3ovqqvlCIfSSb7qrhG55fxlRj57NlZuWz79MN9qLylAwiTGfzvmwsRnHN5T2/vc6TqTayY575mIiKiaWHgrSCdWdQaCvmErKKP9DznTW8YXDXcWoxhjEVc98FPlKuaI+jdXVtfntkRXiGwWuPQaEXQWe/QWlxTRftC0cOrBJQU0Hmlt7kYY+fp4XTuPBER0Zxi4K0g53ojsTDkufK93U5fuD1NvRXlrQx+SoPf6ub7Wf0ILgMhRVHxHcasn4ZP8iAulUCjGUGn1q9aFgLG+JXDDii6O2qNCFkekqNY8tAaERHRGDDwVszhfuLHY+WLJ0LrwSiVK8ahvQHwVc0olpcKuteF0c6PIgvzdku9C/558FVuo22xeALAK1ctExER0eUx8FZMuUfU5WXGO2sLI/0aIciFg1mhn9Ual4/qmly4u+wijav2AzvrYIyF0Q4izCWOZD6WDEWLR/H34fwMXqKyWelNJyK67hh4KyaMwdKZzSu8wOr9pQt97vZWGyt3m6/soW0txkWfbrnCa4yb2uzdy7hs0EgTU1TNw7QGmbdyhOc8fByAosc3SwxDLxER0Rgw8FbM8WEGKX3Y8vNhBdbWl0f+dYT0FUwVCdh8MoG1vndY5eO4Llvp3djcca+aBXyetfXlkc+5LfcW68wiiiWUksUa52IShvDPeZaaIvxHkZ9mEdcVe3iJiIjGgIG3YtKuAYToHa6S4qVNYee5SFhcWqnDWR/k4pqCzXt2bT6JIK6pc8dvhUryebodPdT9HkYIr6+6nLyxueMG76e1DiazaCzESBMDmx9U860doqh4lwP/pNs8iIiIqoaBt2I++cFxUVEEepfXL+K0SnAIhIPvCxVeAIhq/tvMGB8Gw4Gu69DeMGwPpTUOJh+/VqsrWOsHYSjZWzIxOIfXzf7TQEREdK0x8FZM50QjimVpesDFE2+oqK6tL5976b3RjPLZu66obAL+IFfoW41iCa3tS32yG5s7bhwtFpOitQWsQ60ets35YcfhwFpoaQhTGgLnUCzvYFsDXdSsj+kjIpoVDLwVM1hVHabCe1HhMr8QIl+24N9eXqnrrlFZc5gqb9o1QN7CEKY0KCV6bQv5quUwoaG85W5Wl2kQERFddwy8FeOXPgBDb5wYQqjQCoFioxvgq506s1i8UUPaNVNdo3vZcWUXYY1DoxnBaFcE+9DGIQTyObwOLm99GFyzHNcV9nY747hrRERElcTAWzFp4kOmVAIOvS1ol7W91T59lJYA6s3IX553DkIIWIt8PJfv4z3r0v32VnuoyRGjnFV61UvEOjOQwk/BqJWeF2t6FV2V91CHHmcVy+L3nNRAREQ0egy8FbKxueM6RxnqzQj50q+Rb1kLokjCaAsdto4JAM5vWut2tK9sXqO2hmFY50eT+WkVDlLJvtm8vsXDb2RrtCI466u9DLpERETjwcBbMZ3jDHc/vZgfKvMjwq7i6Yf7+Mkvffqlt4dJBK4Uqh1QTCrQmT1zSsPebufUkWPl6mujGV26JeHRg1Ux6jm8QbFwQwkct9PSZjXf5hAOr4XZvI1m5F8U5MtAGs1oqq0eRERE84iBt0K2t9qw1hV9pC6vuI6Dyiu8cVHV9L2qYSlDCL7XyUXaHXRmIfPnN0sNQiJX0h9i83N4feA12q8fVspPzdDp9XtO6HrgimIiqjoG3qpxfpJAVPOVxpt3zl/wcBmPHqwK53zos8aHaj+ZoVcBvW7dDBetCmephYr8P6t607crCOH7dn0fs/NVXuvQXIxxuJ++dBvXYT4xERHRdcLAWyF7ux1AAFlqoJQAHHDjZn0sX6s87kwqAZn3DNs86cY1ieySFc0nj5/hjYf3hv68i2xOG/bA2mnTHkw+h7ccXEWpZ1kqv245zOENUxqMGe75YNWOiIjoYhh4KyhMDACAlXutsXyNsGxC5BvHhPBTIazpBb1Rr9OddADc3mq/1GucdHWxQKIIvMKHWqVkcVBQADg+8NVdH4b9h3Y7GlIJzuQlIiIaIQbeCrLGFQGrdtpIsQtYulnHO+9+cGa4jGsSJhzgkgIq6rU0jDroXsba+jJGfXDtK1/9lgP8Yw+cc6jVFIQUULHMD7H1MvLgc9FoRmxpICIiGjEG3gq6aOC8ykzasGjh9r1WMYUAzl3Lw2oXlSUGRjvUGlGxac05QEb9yyVUJDD4VzCvI9qIiIhmAQNvhRzuJ3DWHyILAeuiUxqGbReQ0h/QarQiP4Ugf3uWWT+jd4xVzMsE9WE/Z2Nzxw0uxzg+SP0EButw+14LSccU++zKPbtRfmjN5pvWotj/2WiHlbtNSCXQOcqGuftERER0DgbeCjnYS+Dg2xiM9oHz939x+MNfFyJ6W9VCz6pz8AflVuqwxiFLL7doodvRL/XOzsoBLmsc4rrCi+cdSOXvopQCzvjFEuFtQD6L2DrUmwo6m/pdJyIimlsMvBVy8CIBAJwcZUWf6Vtvvj50y8KjB6viVYeqwrzZcDgujOqCQFHRdBPoVT1rnNijB6tib7cz0q9ltK/aRrGETi3ifPRbFEnUmpGfy+tc0e7BXl0iIqLJYOCtkOc7x1BKonOsEdcVcKnuXK/RjLC324HO7Klb0QB/OEsqAaUEhEQR/rrHGkIKmCEOr12ln3hSdGaLpR5pYopWDiH9c+AcoJQsRrY566dWlA+x0fUzre/N6/BvgohoVjDwVsjJoe8xDaFs3D8phfAB1+RVTzgHFQkcHaSoNXptFdOycrd56fXEpzk+SKEiv2QjTfJ2Dedn8nY72j/vSkAqmW9as0U/NQ+tERERjQ8Db4V0jn3oUpHo6yUdG+EPZCkp+g6uAX50l7Nu5KPBLuOilbLTlkwAvXm8WWqKFxOhygvhF05I4fuZVRTKu/5mlm7WkHR8OLbWIRyEY7sDERHR6DDwVkh7r4uFGzVIKS8VqE5btHAeIfwBuaVbvW1uYeVwrRHBGIur9NFedN3vJGxs7riwPjmEWmsd4BzqzQhpanp9zAAcgDg/PKgzW8xFfvRgVTDs0jjMysFOIqJpYOCtkKxr0FyMIcLf+hWLvIf7CZqL8anv88smJE6OMqhI+oNarrdGN4zouupGsbOqrsN+zCikXQMpBYz2kxdCW0Ot4Zd7HB+mxRIOOB9408Sg1lCwxhYvQqQSrPASERGNEANvhTj0ZsGO2mD1qNZQcM4Vfa1KCTj4MHe4n+QHvOZr3myWhokUAvVmVEyoiGs+8CYnGiqSfg5vXtINHyOEn1u8sbnjoljCmPld0EFERDRpDLwVc3KUYelmHQcvkitPB9CZRaMZnfq+vuUKygdAoNebmnZ9P7FO5yfYJV2NWl3h+DBDFEuYPMzW6grWOKSJQVxXxViytOvn8oYXIUVAztc98/IzERHRaDDwVohzPvD+M19aQzhgNS7LtxvIUgujLWp15S/rO79pLa6rfPWu600zGIFhe3rX1pfx5PGzofqSgZcPue3tdvDowapIuwatpbhYuHFylEHkB/d0ZhHXVGnTXW8sWRRLQABJ3t7RaEZTn2BBREQ0Txh4K8RZByUFvvjT9/3WrzPaG95683XxzrsfXClxLd2qI0sNbqw00DnKfLgWfjSaNQ6NVgyjh6/ubmzuuLOqysO6yAKNi9yflbtNAP6Qmopk8bwetZMiyEopIPL/QiW3tRSje5K9tKSDqIyHzYiIro6Bt0KcQ3E5XWd2rKPJfvTHl5ElFq99qpVXk32oC9vewqX8NDHFpfvwawiQ143JLJqLcfG8Jh1fRW8uxHDOwRqLOJa+ogvAGFf0/Yp8bNn2Vrt4/LMygYLmB8MzEVUVA2+FWOvQWOj10obgdRkhlJ0XToVE0b6wuFyDEAJp16C1GOPjnWNIJdA96a+wbm+1i1m0wSg2Sk3iB70Ptf6/5mKMw/0EUgofgqU/lBbXfVuDEAKdY99PfbifIK5JZInBztPDcd5FIiKiSmLgrZJ8te/Xf+E3AYErHVpbW19+ZWCu1RWebx/DGud7W5VAlhgcvOj6arMQ0NnoeniHdZn2iPNmEVsLZIkP9I1mhG4+lUFKP583SwxqdeXHtAl/aK1WV73nQttiZTMRERGNDgNvRWxs7jgHPzHh+MD30S4s18b29d54eA+An7d7Y6WBzrHvYzWhAroQwTlXbBkLwgGws273yeNnxW2fZm19+dxWgMtWekOVeXCmb7kiHSZQNBYiHO4nyFKDuKZwcpT5sJ+3L4S2h4M9395x41YdWtuih3flbtMvrSAiIqKRYOCtiCePn8Eah3/in34NgA9nn/19K1e6TZ3Zl9oPyoQQuP2pFgDf36qUgDUWKz/SQtI1/vJ/HuxG0bYwbdZa1FsR0q6Bzmw+mUFCZwbOOtQavrp7tJ+gVlfoHGdoLcZ+5q4rtg0XzykrvURERKPBwFslDnj9D9wpLrHfu780ti8VwmujGcFa39OqYglrgd//RV+hdQ7onuihxol1O3roMWLjUA7ooWrsnH8RcPueD/nW+KkNjVaMMANOZwZRLPOxbBbGWGSpzUeX+Wo3D6sRERGNFgNvRXzwa88BAfzaP9zGgz9wB4DDf/9f/LGhgmO5mnvR0PnGw3uo5YsUGs0IzjqsrS+juRBBRQLdk6ttWht29u6glbvNSy942NjcceE5+Xu/+GHR0/zJsxN89vMrMMaiuRAjimUx89hoB2Mc6g0/a/dw37eXqFjCGoduR/Pg2jVyHa9McFIDEVURA29F/M6vP4dSEkIK/O53PsGrtk6c1kt72g/2837YSyXw5PEz3FlbwNKtOqKaX6n76MGq8FMi1NRmz14mqJz3OTrzSzZW7vipFTtPD+Ec0FyM0P6kiziWxaSGRjOCkIDN1wc3WlGxlS6QUuAiM4IZXqrpOgZtIqJpYuCtiOc7x2guxsgSg+6JxqR+UoYDZtY4LCz1Dsl96V9dR9rVSLumr1J6VY8erIqzel9PC4evOuR2nvLEhv2PO34igxKQSviVyw5wFrh1p+nHkTkfZMNhNq39IcKFG35kW5ZYZIlBo+mr352jq1W/iYiIyGPgrYiw1UxIgeXbjYl93UcPVkWjGWHlbhMLN/qnQsQ1dalta7No/+Mu6s0I1jjcutPE21/+gnDOodGKoLXFwo0adGaxfLuB7on248iMw921BXzy7ARC+jm+9z93E588O4FSspj6QLOJVVYiouuDgbcijPbhy2QWNycYeAFf5V1YrqHR6s28fevN18Xtey108sUT1/3S/FE7xWI+5i0s43AOULFEra7wqftLSLsa1vqZxHFdwRgHnVncutuEs73VwgvLtfww28VmFF/3546IiGjchpu6XxGD4eG0Ks5FPmaYr3GaUVaPjPbTA5ZvN/BHH30W/8Nf//VR3fQrPXqwKt559wO3+pkbcAA++/n/znU7Gt/6Bx+he5Lh3/8T/ysWl/+m+9P/7C8BABaX/6YrL8X48sOv4+ZrP+8A4Bf+yq/63wvfLgAAf+Xf/j+wfPvni+fzv/qPvonl2z/vwk38mT+8UXzOn/nnNgAHQAA3Vt5x/84f+joAFB+vot5rwJ/5c58vQvrf/zvfxS/81Z868+8jSw2iSCKqSbz15uu9j7MOP/rjy+h2dN7WEePwRYIo9v3Mn/38Cn7wvaeI8kNrb735uvjLP/dNF+b3EhER0dUx8ObKAXQwaJ4WTi/yMee5SJi9Sqg+7XJrcqKx/k+t4NGDVXFj5Z2xVQTD/f7r/+H/hX/p3/pfHAD8z//tb8FoBwHfTxy+uHMOWWKw+pkbxTk6IQWebx/nHwBAALpc7RQCcPm5O5F/zCnc4NtLh8Ic0LcpzhoH5/yvIn/zL331CV7/wl0459/353/2V9zCjRr+vS99A9Y6/O1f+RkAwB/5k193H/7Gx1j9zA189vMrxXPw537qG4jrCm9/+Qvi7a9921nroJTEvR9bxN5uB875Svef/k//gbPWweV3OIolUmPY0kBjE64KsCWDiKqi8oE3hLPz/sd/kR8K4/jBcV6oPuvrlR9P+ffGOHzm993CX/sLf3CsP+DKP0T/tb/wv7tb+dSCv/2zf0R85avfcns/PMHtTy3gj/7MOl4872B3+xj/5E+8hjce3iu2lpUf26t+KA8+3nAALRyCC39+683XxVe++i0H+PFooe0gHHDrdjT+8XfbePzL3/c9t0s1PPv+IX7zV58hihVu32vhF//Gb8BZh3ozQhRLfPnhL+Hu2n/jnn64D505fPtXtvH9D/fxl/7a/+3ef+8jODjczB//Gw/v4Rf/xm/gztoC3v7yF8RP/StfdyGRv/apFr63+QJp4kP9F3/6Pv7+3/ku9BD9zQwwkzXp53rw3/Okvi4R0byoxP84z6u+XtcfHoM//Ab//Kf+0i87APjl/+lDH5ycX2mblEZdHey9deZjf/tr33Zvf/kL5z43X/nqt9x5AfrP/+yvuBD4Gs0I3Y7GN//uU3zuJ17DUTsFALQ/6WL5dgOtxRjWOkjpb+7GSh2Ar7hKJdBcjF/xjACrpUUap01q2N46gIoEjHZQkcDHPzgB4KvMQggYbfFjn7uJ3e1j/N5v7yFNDHa3j3FymMJohyiSEBLFNIYsMUi6BlIKRLFEcyFG9ySDtX7hRHKi8cf/1I/j+x/uAxD4wdMD/Cc//89jbX0ZX/2rv4rf+OYP8Hz7LwoA+Bf+9W+43/3OJ/je5p8V4bk73E/xP/6Xf/xKVX0aj2k+16MKvvx+IaIqmcsK71X7a6+D8JjeefeDvsf6J//s33X/8BtbRdCN8yAmpYAQwF/8zx/60WTHGv/1f3a1+/CTX/r0ue9fuFFDllctw4gtFQls/dYeVN5OkJxoHB+kvWpm3sJgyvN5S/2653EDPQzhj0L438e1/jOaYSGGtT7wCgF8/7ttOOeKoH37R1poLcR48byDW3eaqDWVD7odg9v3Wjh8keDkMCt6dEP7Q5ZoAA7vfWMLUazQWvSLJjb+1m/hzuoCmvns3RA6bt5uFHN5AaDejLD3Q64WppeN6v9nvCpARFUyV/+jq9Ilv43NHff//L2niPPQ9jvffo73vrEFnVnUm/51jFICN2438Lvf+XfFX/65b7rQX7q2voz33/vo3PaGi1R4h72/AIq2hUHlSvWo//4Gb/NVfx68z4MfW34c21tt7O128MGvPYdUAn/oX/zRorr8ybMT/Oa3fojdj46RdjWMcegeZ1hcrmP1M0v4zv/7DH/wj/0oXjzvQEqB333yCdY/v4JPnvnKc5qYIpR3jvsPsGVp/ysAZ/vDftp9ecJDY6H/9e0f/pfv9/353/wPfqLvz1X4d3QZ8xYSz/s+P8s8PX4iqoZT/qf1c9f2pExzYS4L1qcqTxMIhBBYutWbdfsn/o3P9b3/R35s0S9EyJ0XaN9594ORLYMAXm69GBR6bc9aGjFKgxvMQhX6LOVtcOGgW3jbaQfLpBJ978tSg99+fxc73/Mrgw9edKEzW/Tshr+Elw7ZDWPgb1KesknP2vO/wOBM5M7xqze9VdU8/r+m/Pf9qsfH7w0imn3/cd8Pwv8fcKyAf7T0XkwAAAAASUVORK5CYII='/>"
      ],
      "text/plain": [
       "<xarray.Image (y: 200, x: 700)>\n",
       "array([[0, 0, 0, ..., 0, 0, 0],\n",
       "       [0, 0, 0, ..., 0, 0, 0],\n",
       "       [0, 0, 0, ..., 0, 0, 0],\n",
       "       ...,\n",
       "       [0, 0, 0, ..., 0, 0, 0],\n",
       "       [0, 0, 0, ..., 0, 0, 0],\n",
       "       [0, 0, 0, ..., 0, 0, 0]], dtype=uint32)\n",
       "Coordinates:\n",
       "  * x        (x) float64 -0.8814 -0.6443 -0.4071 -0.17 ... 164.4 164.6 164.9\n",
       "  * y        (y) float64 5.3 15.9 26.5 37.1 ... 2.093e+03 2.104e+03 2.115e+03"
      ]
     },
     "execution_count": 47,
     "metadata": {},
     "output_type": "execute_result"
    }
   ],
   "source": [
    "parts = []\n",
    "separator = pd.DataFrame({ 'x': [np.nan], 'y': [np.nan] })\n",
    "for array in aligned_active_area_data[probably_single_run_mask]:\n",
    "    part = pd.DataFrame({ 'y': array })\n",
    "    part['x'] = part.index\n",
    "    parts.append(part)\n",
    "    parts.append(separator)\n",
    "temp = pd.concat(parts, ignore_index=True)\n",
    "del parts\n",
    "\n",
    "x_max = max(len(a) for a in aligned_active_area_data)\n",
    "cvs = ds.Canvas(x_range=[-1, x_max], y_range=[0, temp.y.max()], plot_width=700, plot_height=200)\n",
    "agg = cvs.line(temp, 'x', 'y', ds.count())\n",
    "out = ds.transfer_functions.shade(agg)\n",
    "out"
   ]
  },
  {
   "cell_type": "markdown",
   "metadata": {},
   "source": [
    "## Preparing data for start detection"
   ]
  },
  {
   "cell_type": "code",
   "execution_count": 48,
   "metadata": {},
   "outputs": [],
   "source": [
    "# Similar to (1 - synthesize_multi_max_offset_energy_ratio), but used\n",
    "# for detecting starts and ends points in an active area\n",
    "# to provide initial labels for training start/end detection\n",
    "start_end_index_energy_ratio = 0.01\n",
    "\n",
    "window_len_factor = 3"
   ]
  },
  {
   "cell_type": "code",
   "execution_count": 49,
   "metadata": {},
   "outputs": [],
   "source": [
    "def estimate_start_end_indices(samples):\n",
    "    start_index = np.argwhere(\n",
    "        np.cumsum(samples) <=\n",
    "        samples.sum() * start_end_index_energy_ratio\n",
    "    )[-1][0]\n",
    "    end_index = np.argwhere(\n",
    "        np.cumsum(samples) >=\n",
    "        samples.sum() * (1 - start_end_index_energy_ratio)\n",
    "    )[0][0] + 1\n",
    "    return start_index, end_index"
   ]
  },
  {
   "cell_type": "code",
   "execution_count": 50,
   "metadata": {},
   "outputs": [
    {
     "data": {
      "image/png": "[encoded data removed]",
      "text/plain": [
       "<Figure size 432x288 with 1 Axes>"
      ]
     },
     "metadata": {
      "needs_background": "light"
     },
     "output_type": "display_data"
    }
   ],
   "source": [
    "samples = random.choice(aligned_active_area_data[probably_single_run_mask])\n",
    "\n",
    "start_end_indices = estimate_start_end_indices(samples)\n",
    "\n",
    "plt.plot(samples)\n",
    "plt.axvspan(start_end_indices[0], start_end_indices[1], alpha=0.2);"
   ]
  },
  {
   "cell_type": "code",
   "execution_count": 51,
   "metadata": {},
   "outputs": [
    {
     "data": {
      "text/plain": [
       "23"
      ]
     },
     "execution_count": 51,
     "metadata": {},
     "output_type": "execute_result"
    }
   ],
   "source": [
    "start_end_indices_for_single_runs = [\n",
    "    estimate_start_end_indices(samples)\n",
    "    for samples in aligned_active_area_data[probably_single_run_mask]\n",
    "]\n",
    "temp = np.array([end - start for start, end in start_end_indices_for_single_runs])\n",
    "median_start_end_len = int(round(np.median(temp)))\n",
    "median_start_end_len"
   ]
  },
  {
   "cell_type": "code",
   "execution_count": 52,
   "metadata": {},
   "outputs": [],
   "source": [
    "window_len = median_start_end_len * window_len_factor\n",
    "center = window_len // 2\n",
    "marker_stddev = max(median_start_end_len / 8, 1)"
   ]
  },
  {
   "cell_type": "code",
   "execution_count": 53,
   "metadata": {},
   "outputs": [],
   "source": [
    "def add_shifted_arrays(parts, output_length):\n",
    "    out = np.zeros(output_length)\n",
    "    for offset, array in parts:\n",
    "        a = max(offset, 0)\n",
    "        b = min(offset + len(array), output_length)\n",
    "        out[a:b] = out[a:b] + array[a-offset:b-offset]\n",
    "    return out"
   ]
  },
  {
   "cell_type": "code",
   "execution_count": 54,
   "metadata": {},
   "outputs": [
    {
     "name": "stdout",
     "output_type": "stream",
     "text": [
      "y_start: 0.00\n",
      "y_end: 0.00\n"
     ]
    },
    {
     "data": {
      "image/png": "[encoded data removed]",
      "text/plain": [
       "<Figure size 432x288 with 1 Axes>"
      ]
     },
     "metadata": {
      "needs_background": "light"
     },
     "output_type": "display_data"
    }
   ],
   "source": [
    "def fill_window_with_random_data():\n",
    "    pool = aligned_active_area_data[probably_single_run_mask]\n",
    "    \n",
    "    scale = random.uniform(0, 1)\n",
    "    \n",
    "    starts = []\n",
    "    ends = []\n",
    "    parts = []\n",
    "    i = None\n",
    "    while i is None or i < window_len:\n",
    "        j = random.randrange(len(pool))\n",
    "        samples = pool[j]\n",
    "        start_end_indices = start_end_indices_for_single_runs[j]\n",
    "        samples_len = start_end_indices[1] - start_end_indices[0]\n",
    "        \n",
    "        if i is None:\n",
    "            i = random.randrange(-samples_len, round(window_len * scale))\n",
    "            \n",
    "        parts.append((i - start_end_indices[0], samples))\n",
    "        starts.append(i)\n",
    "        i += samples_len\n",
    "        ends.append(i)\n",
    "        \n",
    "        # TODO This is total guesswork, but the results seem kind of acceptable\n",
    "        temp = window_len if np.random.rand() < 0.8 else 2\n",
    "        i += int(round(np.random.exponential(1 / (3 / 2)) * temp))\n",
    "        if np.random.rand() < 0.5:\n",
    "            i -= 1\n",
    "    \n",
    "    return add_shifted_arrays(parts, window_len), np.array(starts), np.array(ends)\n",
    "\n",
    "def markers_to_y_label(markers, mean = center, stddev = marker_stddev):\n",
    "    norm = scipy.stats.norm(mean, stddev)\n",
    "    return norm.pdf(markers).sum() / norm.pdf(center)\n",
    "\n",
    "temp, starts, ends = fill_window_with_random_data()\n",
    "plt.plot(temp)\n",
    "for i in starts:\n",
    "    if i >= 0:\n",
    "        plt.axvline(i, color='green')\n",
    "for i in ends:\n",
    "    if i < len(temp):\n",
    "        plt.axvline(i, color='red')\n",
    "plt.axvline(center, color='black');\n",
    "print(\"y_start: {:.2f}\".format(markers_to_y_label(starts)))\n",
    "print(\"y_end: {:.2f}\".format(markers_to_y_label(ends)))"
   ]
  },
  {
   "cell_type": "code",
   "execution_count": 55,
   "metadata": {},
   "outputs": [
    {
     "name": "stdout",
     "output_type": "stream",
     "text": [
      "(30000, 69) (30000, 2)\n"
     ]
    }
   ],
   "source": [
    "def samples_to_features(samples):\n",
    "    return (samples / max_power).astype('float32')\n",
    "\n",
    "norm = scipy.stats.norm(0, 5)\n",
    "\n",
    "X = []\n",
    "y = []\n",
    "for i in range(30000):\n",
    "    samples, starts, ends = fill_window_with_random_data()\n",
    "    X.append(samples_to_features(samples))\n",
    "    y.append([markers_to_y_label(m) for m in [starts, ends]])\n",
    "    \n",
    "X = np.stack(X)\n",
    "y = np.array(y)\n",
    "\n",
    "print(X.shape, y.shape)"
   ]
  },
  {
   "cell_type": "code",
   "execution_count": 56,
   "metadata": {},
   "outputs": [
    {
     "name": "stdout",
     "output_type": "stream",
     "text": [
      "y = (0.0007, 0.0000)\n"
     ]
    },
    {
     "data": {
      "image/png": "[encoded data removed]",
      "text/plain": [
       "<Figure size 432x288 with 1 Axes>"
      ]
     },
     "metadata": {
      "needs_background": "light"
     },
     "output_type": "display_data"
    }
   ],
   "source": [
    "i = random.randrange(len(X))\n",
    "print(\"y = ({:.4f}, {:.4f})\".format(y[i][0], y[i][1]))\n",
    "plt.plot(X[i])\n",
    "plt.axvline(center, color='black');"
   ]
  },
  {
   "cell_type": "code",
   "execution_count": 57,
   "metadata": {},
   "outputs": [],
   "source": [
    "X_train, X_test, y_train, y_test = train_test_split(X, y, test_size = 0.1)"
   ]
  },
  {
   "cell_type": "code",
   "execution_count": 58,
   "metadata": {},
   "outputs": [],
   "source": [
    "start_classifier = keras.models.Sequential([\n",
    "    keras.layers.Reshape((X.shape[1], 1), input_shape=(X.shape[1],)),\n",
    "    keras.layers.Bidirectional(keras.layers.LSTM(20, unroll=True)),\n",
    "    keras.layers.Reshape((-1,)),\n",
    "    keras.layers.Dense(y.shape[1]),\n",
    "    keras.layers.Activation('sigmoid'),\n",
    "    # keras.layers.Dense(1),\n",
    "    # keras.layers.Activation('softmax'),\n",
    "])"
   ]
  },
  {
   "cell_type": "code",
   "execution_count": 59,
   "metadata": {
    "scrolled": true
   },
   "outputs": [
    {
     "data": {
      "application/vnd.jupyter.widget-view+json": {
       "model_id": "f241d20f9d6c41879492dbff1883edf6",
       "version_major": 2,
       "version_minor": 0
      },
      "text/plain": [
       "HBox(children=(FloatProgress(value=0.0, description='Training', max=30.0, style=ProgressStyle(description_widt…"
      ]
     },
     "metadata": {},
     "output_type": "display_data"
    },
    {
     "data": {
      "application/vnd.jupyter.widget-view+json": {
       "model_id": "5e7f7fc5b21741f7940d9fb8edfab8f5",
       "version_major": 2,
       "version_minor": 0
      },
      "text/plain": [
       "HBox(children=(FloatProgress(value=0.0, description='Epoch 0', max=27000.0, style=ProgressStyle(description_wi…"
      ]
     },
     "metadata": {},
     "output_type": "display_data"
    },
    {
     "name": "stdout",
     "output_type": "stream",
     "text": [
      "\n"
     ]
    },
    {
     "data": {
      "application/vnd.jupyter.widget-view+json": {
       "model_id": "47e8aed48307422ebbd5fa737e3e2a55",
       "version_major": 2,
       "version_minor": 0
      },
      "text/plain": [
       "HBox(children=(FloatProgress(value=0.0, description='Epoch 1', max=27000.0, style=ProgressStyle(description_wi…"
      ]
     },
     "metadata": {},
     "output_type": "display_data"
    },
    {
     "name": "stdout",
     "output_type": "stream",
     "text": [
      "\n"
     ]
    },
    {
     "data": {
      "application/vnd.jupyter.widget-view+json": {
       "model_id": "80c5f827725b48bfba57f718e15257da",
       "version_major": 2,
       "version_minor": 0
      },
      "text/plain": [
       "HBox(children=(FloatProgress(value=0.0, description='Epoch 2', max=27000.0, style=ProgressStyle(description_wi…"
      ]
     },
     "metadata": {},
     "output_type": "display_data"
    },
    {
     "name": "stdout",
     "output_type": "stream",
     "text": [
      "\n"
     ]
    },
    {
     "data": {
      "application/vnd.jupyter.widget-view+json": {
       "model_id": "a7114451f44c435ab0fbac26f9a37c60",
       "version_major": 2,
       "version_minor": 0
      },
      "text/plain": [
       "HBox(children=(FloatProgress(value=0.0, description='Epoch 3', max=27000.0, style=ProgressStyle(description_wi…"
      ]
     },
     "metadata": {},
     "output_type": "display_data"
    },
    {
     "name": "stdout",
     "output_type": "stream",
     "text": [
      "\n"
     ]
    },
    {
     "data": {
      "application/vnd.jupyter.widget-view+json": {
       "model_id": "c1a27369a47a4d6ba0273e133432e517",
       "version_major": 2,
       "version_minor": 0
      },
      "text/plain": [
       "HBox(children=(FloatProgress(value=0.0, description='Epoch 4', max=27000.0, style=ProgressStyle(description_wi…"
      ]
     },
     "metadata": {},
     "output_type": "display_data"
    },
    {
     "name": "stdout",
     "output_type": "stream",
     "text": [
      "\n"
     ]
    },
    {
     "data": {
      "application/vnd.jupyter.widget-view+json": {
       "model_id": "5406c11005424eabb359fe7eec3728f5",
       "version_major": 2,
       "version_minor": 0
      },
      "text/plain": [
       "HBox(children=(FloatProgress(value=0.0, description='Epoch 5', max=27000.0, style=ProgressStyle(description_wi…"
      ]
     },
     "metadata": {},
     "output_type": "display_data"
    },
    {
     "name": "stdout",
     "output_type": "stream",
     "text": [
      "\n"
     ]
    },
    {
     "data": {
      "application/vnd.jupyter.widget-view+json": {
       "model_id": "017e5c5ba0a047ecbcadc5fd6a5322b3",
       "version_major": 2,
       "version_minor": 0
      },
      "text/plain": [
       "HBox(children=(FloatProgress(value=0.0, description='Epoch 6', max=27000.0, style=ProgressStyle(description_wi…"
      ]
     },
     "metadata": {},
     "output_type": "display_data"
    },
    {
     "name": "stdout",
     "output_type": "stream",
     "text": [
      "\n"
     ]
    },
    {
     "data": {
      "application/vnd.jupyter.widget-view+json": {
       "model_id": "b1b892e437164934bd3e814a5d985787",
       "version_major": 2,
       "version_minor": 0
      },
      "text/plain": [
       "HBox(children=(FloatProgress(value=0.0, description='Epoch 7', max=27000.0, style=ProgressStyle(description_wi…"
      ]
     },
     "metadata": {},
     "output_type": "display_data"
    },
    {
     "name": "stdout",
     "output_type": "stream",
     "text": [
      "\n"
     ]
    },
    {
     "data": {
      "application/vnd.jupyter.widget-view+json": {
       "model_id": "9b6b985f6e5744ea86132f8b4025145f",
       "version_major": 2,
       "version_minor": 0
      },
      "text/plain": [
       "HBox(children=(FloatProgress(value=0.0, description='Epoch 8', max=27000.0, style=ProgressStyle(description_wi…"
      ]
     },
     "metadata": {},
     "output_type": "display_data"
    },
    {
     "name": "stdout",
     "output_type": "stream",
     "text": [
      "\n"
     ]
    },
    {
     "data": {
      "application/vnd.jupyter.widget-view+json": {
       "model_id": "360e6ab8722844fd8c19ad9c17a7414c",
       "version_major": 2,
       "version_minor": 0
      },
      "text/plain": [
       "HBox(children=(FloatProgress(value=0.0, description='Epoch 9', max=27000.0, style=ProgressStyle(description_wi…"
      ]
     },
     "metadata": {},
     "output_type": "display_data"
    },
    {
     "name": "stdout",
     "output_type": "stream",
     "text": [
      "\n"
     ]
    },
    {
     "data": {
      "application/vnd.jupyter.widget-view+json": {
       "model_id": "cb1c32ae626b4629a377078360393f15",
       "version_major": 2,
       "version_minor": 0
      },
      "text/plain": [
       "HBox(children=(FloatProgress(value=0.0, description='Epoch 10', max=27000.0, style=ProgressStyle(description_w…"
      ]
     },
     "metadata": {},
     "output_type": "display_data"
    },
    {
     "name": "stdout",
     "output_type": "stream",
     "text": [
      "\n"
     ]
    },
    {
     "data": {
      "application/vnd.jupyter.widget-view+json": {
       "model_id": "dd586c81683c46a8bbdfee8795d9e972",
       "version_major": 2,
       "version_minor": 0
      },
      "text/plain": [
       "HBox(children=(FloatProgress(value=0.0, description='Epoch 11', max=27000.0, style=ProgressStyle(description_w…"
      ]
     },
     "metadata": {},
     "output_type": "display_data"
    },
    {
     "name": "stdout",
     "output_type": "stream",
     "text": [
      "\n"
     ]
    },
    {
     "data": {
      "application/vnd.jupyter.widget-view+json": {
       "model_id": "a745b10d05df480aadc4af319e9a08d4",
       "version_major": 2,
       "version_minor": 0
      },
      "text/plain": [
       "HBox(children=(FloatProgress(value=0.0, description='Epoch 12', max=27000.0, style=ProgressStyle(description_w…"
      ]
     },
     "metadata": {},
     "output_type": "display_data"
    },
    {
     "name": "stdout",
     "output_type": "stream",
     "text": [
      "\n"
     ]
    },
    {
     "data": {
      "application/vnd.jupyter.widget-view+json": {
       "model_id": "9350297cbfef4da5882787328006a3f1",
       "version_major": 2,
       "version_minor": 0
      },
      "text/plain": [
       "HBox(children=(FloatProgress(value=0.0, description='Epoch 13', max=27000.0, style=ProgressStyle(description_w…"
      ]
     },
     "metadata": {},
     "output_type": "display_data"
    },
    {
     "name": "stdout",
     "output_type": "stream",
     "text": [
      "\n"
     ]
    },
    {
     "data": {
      "application/vnd.jupyter.widget-view+json": {
       "model_id": "77a7c9463db04fa3b6a1fba446b8a262",
       "version_major": 2,
       "version_minor": 0
      },
      "text/plain": [
       "HBox(children=(FloatProgress(value=0.0, description='Epoch 14', max=27000.0, style=ProgressStyle(description_w…"
      ]
     },
     "metadata": {},
     "output_type": "display_data"
    },
    {
     "name": "stdout",
     "output_type": "stream",
     "text": [
      "\n"
     ]
    },
    {
     "data": {
      "application/vnd.jupyter.widget-view+json": {
       "model_id": "da200dcfa2a74d7e9933639b03069210",
       "version_major": 2,
       "version_minor": 0
      },
      "text/plain": [
       "HBox(children=(FloatProgress(value=0.0, description='Epoch 15', max=27000.0, style=ProgressStyle(description_w…"
      ]
     },
     "metadata": {},
     "output_type": "display_data"
    },
    {
     "name": "stdout",
     "output_type": "stream",
     "text": [
      "\n"
     ]
    },
    {
     "data": {
      "application/vnd.jupyter.widget-view+json": {
       "model_id": "449d6480e8fc4b989e09ac722598c81e",
       "version_major": 2,
       "version_minor": 0
      },
      "text/plain": [
       "HBox(children=(FloatProgress(value=0.0, description='Epoch 16', max=27000.0, style=ProgressStyle(description_w…"
      ]
     },
     "metadata": {},
     "output_type": "display_data"
    },
    {
     "name": "stdout",
     "output_type": "stream",
     "text": [
      "\n"
     ]
    },
    {
     "data": {
      "application/vnd.jupyter.widget-view+json": {
       "model_id": "e5c7d9c1d4cf4a1ab9219c9b8547d014",
       "version_major": 2,
       "version_minor": 0
      },
      "text/plain": [
       "HBox(children=(FloatProgress(value=0.0, description='Epoch 17', max=27000.0, style=ProgressStyle(description_w…"
      ]
     },
     "metadata": {},
     "output_type": "display_data"
    },
    {
     "name": "stdout",
     "output_type": "stream",
     "text": [
      "\n"
     ]
    },
    {
     "data": {
      "application/vnd.jupyter.widget-view+json": {
       "model_id": "183afdd72edc4c75beb8cd5dbad75f1f",
       "version_major": 2,
       "version_minor": 0
      },
      "text/plain": [
       "HBox(children=(FloatProgress(value=0.0, description='Epoch 18', max=27000.0, style=ProgressStyle(description_w…"
      ]
     },
     "metadata": {},
     "output_type": "display_data"
    },
    {
     "name": "stdout",
     "output_type": "stream",
     "text": [
      "\n"
     ]
    },
    {
     "data": {
      "application/vnd.jupyter.widget-view+json": {
       "model_id": "ae39b90cc1c84dd9b3e6a24e14a2b043",
       "version_major": 2,
       "version_minor": 0
      },
      "text/plain": [
       "HBox(children=(FloatProgress(value=0.0, description='Epoch 19', max=27000.0, style=ProgressStyle(description_w…"
      ]
     },
     "metadata": {},
     "output_type": "display_data"
    },
    {
     "name": "stdout",
     "output_type": "stream",
     "text": [
      "\n"
     ]
    },
    {
     "data": {
      "application/vnd.jupyter.widget-view+json": {
       "model_id": "6235785ae8f94607b278766bc397cdf5",
       "version_major": 2,
       "version_minor": 0
      },
      "text/plain": [
       "HBox(children=(FloatProgress(value=0.0, description='Epoch 20', max=27000.0, style=ProgressStyle(description_w…"
      ]
     },
     "metadata": {},
     "output_type": "display_data"
    },
    {
     "name": "stdout",
     "output_type": "stream",
     "text": [
      "\n"
     ]
    },
    {
     "data": {
      "application/vnd.jupyter.widget-view+json": {
       "model_id": "0743d89b8cd347538d1e1f140c9b913f",
       "version_major": 2,
       "version_minor": 0
      },
      "text/plain": [
       "HBox(children=(FloatProgress(value=0.0, description='Epoch 21', max=27000.0, style=ProgressStyle(description_w…"
      ]
     },
     "metadata": {},
     "output_type": "display_data"
    },
    {
     "name": "stdout",
     "output_type": "stream",
     "text": [
      "\n"
     ]
    },
    {
     "data": {
      "application/vnd.jupyter.widget-view+json": {
       "model_id": "f1a08845ae154801b80062f2a7a1da17",
       "version_major": 2,
       "version_minor": 0
      },
      "text/plain": [
       "HBox(children=(FloatProgress(value=0.0, description='Epoch 22', max=27000.0, style=ProgressStyle(description_w…"
      ]
     },
     "metadata": {},
     "output_type": "display_data"
    },
    {
     "name": "stdout",
     "output_type": "stream",
     "text": [
      "\n"
     ]
    },
    {
     "data": {
      "application/vnd.jupyter.widget-view+json": {
       "model_id": "1029a0b70c544782a5b610a12c061d06",
       "version_major": 2,
       "version_minor": 0
      },
      "text/plain": [
       "HBox(children=(FloatProgress(value=0.0, description='Epoch 23', max=27000.0, style=ProgressStyle(description_w…"
      ]
     },
     "metadata": {},
     "output_type": "display_data"
    },
    {
     "name": "stdout",
     "output_type": "stream",
     "text": [
      "\n"
     ]
    },
    {
     "data": {
      "application/vnd.jupyter.widget-view+json": {
       "model_id": "fbc054a9f7874048937927d4f4ff93f9",
       "version_major": 2,
       "version_minor": 0
      },
      "text/plain": [
       "HBox(children=(FloatProgress(value=0.0, description='Epoch 24', max=27000.0, style=ProgressStyle(description_w…"
      ]
     },
     "metadata": {},
     "output_type": "display_data"
    },
    {
     "name": "stdout",
     "output_type": "stream",
     "text": [
      "\n"
     ]
    },
    {
     "data": {
      "application/vnd.jupyter.widget-view+json": {
       "model_id": "8fa0a36d752b4dbf91afe3021163200e",
       "version_major": 2,
       "version_minor": 0
      },
      "text/plain": [
       "HBox(children=(FloatProgress(value=0.0, description='Epoch 25', max=27000.0, style=ProgressStyle(description_w…"
      ]
     },
     "metadata": {},
     "output_type": "display_data"
    },
    {
     "name": "stdout",
     "output_type": "stream",
     "text": [
      "\n"
     ]
    },
    {
     "data": {
      "application/vnd.jupyter.widget-view+json": {
       "model_id": "b3b2a467bfbb4f128de3d3b60f806efb",
       "version_major": 2,
       "version_minor": 0
      },
      "text/plain": [
       "HBox(children=(FloatProgress(value=0.0, description='Epoch 26', max=27000.0, style=ProgressStyle(description_w…"
      ]
     },
     "metadata": {},
     "output_type": "display_data"
    },
    {
     "name": "stdout",
     "output_type": "stream",
     "text": [
      "\n"
     ]
    },
    {
     "data": {
      "application/vnd.jupyter.widget-view+json": {
       "model_id": "d00f73d258984f8d86e10b2b76642d0e",
       "version_major": 2,
       "version_minor": 0
      },
      "text/plain": [
       "HBox(children=(FloatProgress(value=0.0, description='Epoch 27', max=27000.0, style=ProgressStyle(description_w…"
      ]
     },
     "metadata": {},
     "output_type": "display_data"
    },
    {
     "name": "stdout",
     "output_type": "stream",
     "text": [
      "\n"
     ]
    },
    {
     "data": {
      "application/vnd.jupyter.widget-view+json": {
       "model_id": "60f9fadab57649fa8980bdb7b6207ca9",
       "version_major": 2,
       "version_minor": 0
      },
      "text/plain": [
       "HBox(children=(FloatProgress(value=0.0, description='Epoch 28', max=27000.0, style=ProgressStyle(description_w…"
      ]
     },
     "metadata": {},
     "output_type": "display_data"
    },
    {
     "name": "stdout",
     "output_type": "stream",
     "text": [
      "\n"
     ]
    },
    {
     "data": {
      "application/vnd.jupyter.widget-view+json": {
       "model_id": "53e7a649dad240f686b56ae678fe5785",
       "version_major": 2,
       "version_minor": 0
      },
      "text/plain": [
       "HBox(children=(FloatProgress(value=0.0, description='Epoch 29', max=27000.0, style=ProgressStyle(description_w…"
      ]
     },
     "metadata": {},
     "output_type": "display_data"
    },
    {
     "name": "stdout",
     "output_type": "stream",
     "text": [
      "\n",
      "\n"
     ]
    },
    {
     "data": {
      "text/plain": [
       "<keras.callbacks.callbacks.History at 0x7fa8cbedbf98>"
      ]
     },
     "execution_count": 59,
     "metadata": {},
     "output_type": "execute_result"
    }
   ],
   "source": [
    "start_classifier.compile(optimizer='adam', loss='mse')\n",
    "\n",
    "start_classifier.fit(\n",
    "    X_train,\n",
    "    y_train,\n",
    "    validation_data=(X_test, y_test),\n",
    "    shuffle=True,\n",
    "    epochs=30,\n",
    "    batch_size=128,\n",
    "    verbose=0,\n",
    "    callbacks=[TQDMNotebookCallback(leave_inner=True)]\n",
    ")"
   ]
  },
  {
   "cell_type": "code",
   "execution_count": 60,
   "metadata": {},
   "outputs": [
    {
     "name": "stdout",
     "output_type": "stream",
     "text": [
      "y_true = (0.0000, 0.0000), y_pred = (0.0023, 0.0056)\n"
     ]
    },
    {
     "data": {
      "image/png": "[encoded data removed]",
      "text/plain": [
       "<Figure size 432x288 with 1 Axes>"
      ]
     },
     "metadata": {
      "needs_background": "light"
     },
     "output_type": "display_data"
    }
   ],
   "source": [
    "i = random.randrange(len(X))\n",
    "y_true = y[i]\n",
    "y_pred = start_classifier.predict(np.stack([X[i]]))[0]\n",
    "\n",
    "print(\"y_true = ({:.4f}, {:.4f}), y_pred = ({:.4f}, {:.4f})\".format(y_true[0], y_true[1], y_pred[0], y_pred[1]))\n",
    "plt.plot(X[i])\n",
    "plt.axvline(center, color='red');"
   ]
  },
  {
   "cell_type": "code",
   "execution_count": 61,
   "metadata": {},
   "outputs": [
    {
     "data": {
      "image/png": "[encoded data removed]",
      "text/plain": [
       "<Figure size 432x288 with 1 Axes>"
      ]
     },
     "metadata": {
      "needs_background": "light"
     },
     "output_type": "display_data"
    }
   ],
   "source": [
    "original_sequence = random.choice(X_test)\n",
    "\n",
    "min_offset = -center\n",
    "max_offset = len(original_sequence) - center\n",
    "\n",
    "shifted_sequences = []\n",
    "index_of_pred_for_0 = None\n",
    "for j, offset in enumerate(range(min_offset, max_offset + 1)):\n",
    "    if center - offset == 0:\n",
    "        index_of_pred_for_0 = j\n",
    "    \n",
    "    shifted_sequence = np.roll(original_sequence, offset)\n",
    "    if offset >= 0:\n",
    "        shifted_sequence[:offset] = np.zeros(offset)\n",
    "    else:\n",
    "        shifted_sequence[offset:] = np.zeros(-offset)\n",
    "    shifted_sequences.append(shifted_sequence)\n",
    "shifted_sequences = np.stack(shifted_sequences)\n",
    "\n",
    "y_pred = start_classifier.predict(np.stack(shifted_sequences))\n",
    "y_pred = np.flip(y_pred[:(index_of_pred_for_0 + 1)])[:len(original_sequence)]\n",
    "plt.plot(original_sequence)\n",
    "plt.plot(y_pred);"
   ]
  },
  {
   "cell_type": "markdown",
   "metadata": {},
   "source": [
    "## Slice data with start classifier"
   ]
  },
  {
   "cell_type": "code",
   "execution_count": 62,
   "metadata": {},
   "outputs": [],
   "source": [
    "def determine_peak_positions(data, threshold=0.5):\n",
    "    parts = np.split(data, np.where(np.diff(data >= threshold))[0] + 1)\n",
    "    \n",
    "    peak_positions = []\n",
    "    j = 0\n",
    "    for p in parts:\n",
    "        if p.max() >= threshold:\n",
    "            peak_positions.append(j + p.argmax())\n",
    "        j += len(p)\n",
    "    \n",
    "    return peak_positions"
   ]
  },
  {
   "cell_type": "code",
   "execution_count": 63,
   "metadata": {},
   "outputs": [
    {
     "data": {
      "image/png": "[encoded data removed]",
      "text/plain": [
       "<Figure size 432x288 with 1 Axes>"
      ]
     },
     "metadata": {
      "needs_background": "light"
     },
     "output_type": "display_data"
    }
   ],
   "source": [
    "starts = determine_peak_positions(y_pred[:, 1])\n",
    "ends = determine_peak_positions(y_pred[:, 0])\n",
    "\n",
    "plt.plot(original_sequence)\n",
    "for i in starts:\n",
    "    if i >= 0:\n",
    "        plt.axvline(i, color='green')\n",
    "for i in ends:\n",
    "    if i < len(original_sequence):\n",
    "        plt.axvline(i, color='red')\n",
    "plt.axvline(center, color='black');"
   ]
  },
  {
   "cell_type": "code",
   "execution_count": 64,
   "metadata": {},
   "outputs": [],
   "source": [
    "def sliding_apply_start_classifier(samples):\n",
    "    out = np.full((len(samples), y.shape[1]), np.nan)\n",
    "    if len(samples) < window_len:\n",
    "        return out\n",
    "    \n",
    "    features = samples_to_features(samples)\n",
    "    out[center:(len(samples) - window_len + center + 1)] = start_classifier.predict(np.stack([\n",
    "        features[i:i+window_len]\n",
    "        for i in range(len(samples) - window_len + 1)\n",
    "    ]))\n",
    "    \n",
    "    return out"
   ]
  },
  {
   "cell_type": "code",
   "execution_count": 65,
   "metadata": {},
   "outputs": [],
   "source": [
    "samples = chosen_input_array\n",
    "y_pred = sliding_apply_start_classifier(samples)"
   ]
  },
  {
   "cell_type": "code",
   "execution_count": 66,
   "metadata": {},
   "outputs": [],
   "source": [
    "starts = determine_peak_positions(y_pred[:, 0])\n",
    "ends = determine_peak_positions(y_pred[:, 1])"
   ]
  },
  {
   "cell_type": "code",
   "execution_count": 67,
   "metadata": {},
   "outputs": [],
   "source": [
    "intervals = []\n",
    "i_s = 0\n",
    "i_e = 0\n",
    "while i_s < len(starts) and i_e < len(ends):\n",
    "    s, e = starts[i_s], ends[i_e]\n",
    "    if e <= s:\n",
    "        i_e += 1\n",
    "        continue\n",
    "    if e - s > window_len:\n",
    "        i_s += 1\n",
    "        continue\n",
    "    intervals.append((s, e))\n",
    "    i_s += 1\n",
    "    i_e += 1\n",
    "intervals = np.array(intervals)"
   ]
  },
  {
   "cell_type": "code",
   "execution_count": 68,
   "metadata": {},
   "outputs": [
    {
     "data": {
      "image/png": "[encoded data removed]",
      "text/plain": [
       "<Figure size 432x288 with 1 Axes>"
      ]
     },
     "metadata": {
      "needs_background": "light"
     },
     "output_type": "display_data"
    }
   ],
   "source": [
    "plt.hist(np.diff(intervals, axis=1), bins=100);"
   ]
  },
  {
   "cell_type": "code",
   "execution_count": 100,
   "metadata": {},
   "outputs": [
    {
     "data": {
      "text/plain": [
       "<matplotlib.patches.Polygon at 0x7fa83d731710>"
      ]
     },
     "execution_count": 100,
     "metadata": {},
     "output_type": "execute_result"
    },
    {
     "data": {
      "image/png": "[encoded data removed]",
      "text/plain": [
       "<Figure size 432x288 with 1 Axes>"
      ]
     },
     "metadata": {
      "needs_background": "light"
     },
     "output_type": "display_data"
    }
   ],
   "source": [
    "padding = 10\n",
    "interval = random.choice(intervals)\n",
    "samples = chosen_input_array[(interval[0] - padding):(interval[1] + padding)]\n",
    "\n",
    "plt.plot(samples)\n",
    "plt.axvspan(padding, interval[1] - interval[0] + padding, alpha=0.2)"
   ]
  },
  {
   "cell_type": "code",
   "execution_count": null,
   "metadata": {},
   "outputs": [],
   "source": []
  }
 ],
 "metadata": {
  "kernelspec": {
   "display_name": "Python 3",
   "language": "python",
   "name": "python3"
  },
  "language_info": {
   "codemirror_mode": {
    "name": "ipython",
    "version": 3
   },
   "file_extension": ".py",
   "mimetype": "text/x-python",
   "name": "python",
   "nbconvert_exporter": "python",
   "pygments_lexer": "ipython3",
   "version": "3.6.9"
  }
 },
 "nbformat": 4,
 "nbformat_minor": 4
}
