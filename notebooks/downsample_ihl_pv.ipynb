{
 "cells": [
  {
   "cell_type": "code",
   "execution_count": 1,
   "metadata": {},
   "outputs": [],
   "source": [
    "import pandas as pd\n",
    "import numpy as np\n",
    "from pathlib import Path"
   ]
  },
  {
   "cell_type": "code",
   "execution_count": 32,
   "metadata": {},
   "outputs": [],
   "source": [
    "def downsample_and_interpolate_series(series, keep_minute):\n",
    "    new_series = series.copy()\n",
    "    new_series[series.index.minute != keep_minute] = np.nan\n",
    "    new_series.iloc[-1] = series.iloc[-1]\n",
    "    \n",
    "    new_series = new_series.asfreq('5T')\n",
    "    new_series = new_series.interpolate(limit=11, limit_area='inside', limit_direction='both')\n",
    "    \n",
    "    new_series = new_series[series.index]\n",
    "    \n",
    "    return new_series\n",
    "\n",
    "# downsample_and_interpolate_series(\n",
    "#     pd.Series(\n",
    "#         [1.0, 2.3, 3.0],\n",
    "#         index=pd.DatetimeIndex(['2020-05-07 10:05', '2020-05-07 10:10', '2020-05-07 10:15']),\n",
    "#     ),\n",
    "#     5,\n",
    "# )\n",
    "# downsample_and_interpolate_series(\n",
    "#     pd.Series(\n",
    "#         [1.0, 2.3, 3.0, 4.7, 5.0],\n",
    "#         index=pd.DatetimeIndex(['2020-05-07 06:05', '2020-05-07 06:10', '2020-05-07 10:05', '2020-05-07 10:10', '2020-05-07 10:15']),\n",
    "#     ),\n",
    "#     5,\n",
    "# )"
   ]
  },
  {
   "cell_type": "code",
   "execution_count": 39,
   "metadata": {},
   "outputs": [],
   "source": [
    "input_path = Path('../data/published_data_vs01/data')\n",
    "output_path = Path('../data/published_data_vs01/downsampled_pv')\n",
    "input_files = [\n",
    "    (\"dfA_300s.hdf\", \"A_exp_power\"),\n",
    "    (\"dfD_300s.hdf\", \"D_exp_power\"),\n",
    "    (\"dfE_300s.hdf\", \"E_prod_power\"),\n",
    "    \n",
    "    # These houses don't have the appliances that we're interested in\n",
    "    # (\"dfB_300s.hdf\", \"B_pv_prod_power\"),\n",
    "    # (\"dfC_300s.hdf\", \"C_pv_prod_power\"),\n",
    "]\n",
    "\n",
    "output_path.mkdir(exist_ok=True)\n",
    "\n",
    "for filename, pv_column in input_files:\n",
    "    df = pd.read_hdf(input_path / filename)\n",
    "    df[pv_column] = downsample_and_interpolate_series(\n",
    "        df[pv_column],\n",
    "        keep_minute=10, # PVGIS data is usually not sampled at minute 0, so we use an arbitrary minute here to have similar behavior\n",
    "    )\n",
    "    df.to_hdf(\n",
    "        output_path / filename,\n",
    "        key='/data',\n",
    "        mode='w',\n",
    "        format='table',\n",
    "        complevel=9,\n",
    "        complib='blosc:snappy',\n",
    "    )"
   ]
  },
  {
   "cell_type": "code",
   "execution_count": null,
   "metadata": {},
   "outputs": [],
   "source": []
  }
 ],
 "metadata": {
  "kernelspec": {
   "display_name": "Python 3",
   "language": "python",
   "name": "python3"
  },
  "language_info": {
   "codemirror_mode": {
    "name": "ipython",
    "version": 3
   },
   "file_extension": ".py",
   "mimetype": "text/x-python",
   "name": "python",
   "nbconvert_exporter": "python",
   "pygments_lexer": "ipython3",
   "version": "3.6.9"
  }
 },
 "nbformat": 4,
 "nbformat_minor": 4
}
