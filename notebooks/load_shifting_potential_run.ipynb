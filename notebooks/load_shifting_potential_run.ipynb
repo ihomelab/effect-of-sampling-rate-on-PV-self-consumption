{
 "cells": [
  {
   "cell_type": "code",
   "execution_count": 1,
   "metadata": {},
   "outputs": [],
   "source": [
    "%load_ext autoreload\n",
    "%autoreload 2"
   ]
  },
  {
   "cell_type": "code",
   "execution_count": 2,
   "metadata": {},
   "outputs": [],
   "source": [
    "import pandas as pd\n",
    "import numpy as np\n",
    "import os\n",
    "import matplotlib.pyplot as plt\n",
    "import itertools\n",
    "import random\n",
    "import seaborn as sns\n",
    "import re\n",
    "import sys\n",
    "from pathlib import Path\n",
    "import tempfile\n",
    "import cProfile"
   ]
  },
  {
   "cell_type": "code",
   "execution_count": 3,
   "metadata": {},
   "outputs": [],
   "source": [
    "sys.path.insert(0, '..')\n",
    "from src.shift import calc_load_shifting_potential"
   ]
  },
  {
   "cell_type": "code",
   "execution_count": 4,
   "metadata": {},
   "outputs": [],
   "source": [
    "data_dir = '../data/refit'\n",
    "frequency_string = '1T'"
   ]
  },
  {
   "cell_type": "markdown",
   "metadata": {},
   "source": [
    "# Shift"
   ]
  },
  {
   "cell_type": "code",
   "execution_count": null,
   "metadata": {},
   "outputs": [],
   "source": [
    "param_df = pd.read_csv('../refit_thresholds.csv')\n",
    "param_df = param_df[~param_df.min_power_threshold.isna()]\n",
    "\n",
    "result_df_all = calc_load_shifting_potential(data_dir, frequency_string, param_df)"
   ]
  },
  {
   "cell_type": "code",
   "execution_count": null,
   "metadata": {},
   "outputs": [],
   "source": [
    "path = Path(tempfile.gettempdir()) / 'load_shifting_all.csv'\n",
    "result_df_all.to_csv(path)\n",
    "path"
   ]
  },
  {
   "cell_type": "code",
   "execution_count": null,
   "metadata": {},
   "outputs": [],
   "source": [
    "plt.hist((result_df_all.naive - result_df_all.before).values, bins=10);"
   ]
  },
  {
   "cell_type": "code",
   "execution_count": null,
   "metadata": {},
   "outputs": [],
   "source": [
    "result_df_all.mean()"
   ]
  },
  {
   "cell_type": "markdown",
   "metadata": {},
   "source": [
    "# Check shifts"
   ]
  },
  {
   "cell_type": "code",
   "execution_count": null,
   "metadata": {},
   "outputs": [],
   "source": [
    "house = 7\n",
    "machine = 'washing_machine'\n",
    "\n",
    "raw_input_df = pd.read_hdf(f'../data/refit/house_{house}_{frequency_string}.hdf')\n",
    "input_df = map_columns(raw_input_df)\n",
    "input_df = input_df.asfreq(frequency_string)\n",
    "appliance_column = f'{machine}_power'\n",
    "\n",
    "param_df = pd.read_csv('../refit_thresholds.csv')\n",
    "param_df = param_df[~param_df.min_power_threshold.isna()]\n",
    "params = param_df[(param_df.house == house) & (param_df.machine == machine)]\n",
    "if len(params) != 1:\n",
    "    raise ValueError(f'No parameters defined for house {house} {machine}')\n",
    "params = params.to_dict('records')[0]\n",
    "params['frequency_string'] = frequency_string\n",
    "\n",
    "# calculate active areas\n",
    "all_appliance_active_areas = detect_active_areas(input_df[appliance_column], params)\n",
    "print(\"Appliance {} used {} times in {} days\".format(appliance_column,len(all_appliance_active_areas), (input_df.index[-1] - input_df.index[0]).days))\n",
    "\n",
    "# get start, end and gap\n",
    "temp = (x for a in all_appliance_active_areas for x in a)\n",
    "next(temp)\n",
    "washes_df = pd.DataFrame(data={\n",
    "    'start': (a for a, b in all_appliance_active_areas[:-1]),\n",
    "    'end': (b for a, b in all_appliance_active_areas[:-1]),\n",
    "    'trailing_gap': (b - a for a, b in grouper(temp, n=2) if b is not None),\n",
    "})\n",
    "\n",
    "#calculate shift\n",
    "shift_df_naive = washes_df.assign(shift_periods=get_naive_forward_shifts(input_df,washes_df))\n",
    "shift_df_educated_forward = washes_df.assign(shift_periods=get_educated_forward_shifts(input_df,washes_df,appliance_column))\n",
    "print(\"{} usages will be shifted (naive)\".format((shift_df_naive.shift_periods > 0).sum()))\n",
    "print(\"{} usages will be shifted (educated_forward)\".format((shift_df_educated_forward.shift_periods > 0).sum()))\n",
    "\n",
    "# shift loads\n",
    "modified_df_naive = apply_shift(input_df, shift_df_naive, 'total_cons_power', appliance_column)\n",
    "modified_df_educated_forward = apply_shift(input_df, shift_df_educated_forward, 'total_cons_power', appliance_column)"
   ]
  },
  {
   "cell_type": "code",
   "execution_count": null,
   "metadata": {},
   "outputs": [],
   "source": [
    "input_df[appliance_column].describe()"
   ]
  },
  {
   "cell_type": "code",
   "execution_count": null,
   "metadata": {},
   "outputs": [],
   "source": [
    "fig, ax = plt.subplots(3, 1, figsize=(12, 9), sharex=True, sharey=True)\n",
    "for i, df in enumerate([input_df, modified_df_naive, modified_df_educated_forward]):\n",
    "    temp = df.loc['2013-11-03':'2013-11-04', ['exp_power', 'total_cons_power', 'washing_machine_power']]\n",
    "    print(calc_self_consumption(temp))\n",
    "    temp = temp.tz_localize(None)\n",
    "    temp.plot(ax=ax[i], legend=None);\n",
    "    \n",
    "    row = washes_df.iloc[1]\n",
    "    ax[i].axvspan(input_df.index[row.start], input_df.index[row.end - 1], alpha=0.1)"
   ]
  },
  {
   "cell_type": "code",
   "execution_count": null,
   "metadata": {},
   "outputs": [],
   "source": []
  }
 ],
 "metadata": {
  "kernelspec": {
   "display_name": "Python 3",
   "language": "python",
   "name": "python3"
  },
  "language_info": {
   "codemirror_mode": {
    "name": "ipython",
    "version": 3
   },
   "file_extension": ".py",
   "mimetype": "text/x-python",
   "name": "python",
   "nbconvert_exporter": "python",
   "pygments_lexer": "ipython3",
   "version": "3.6.9"
  }
 },
 "nbformat": 4,
 "nbformat_minor": 4
}
