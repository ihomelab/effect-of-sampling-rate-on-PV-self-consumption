{
 "cells": [
  {
   "cell_type": "code",
   "execution_count": 1080,
   "metadata": {},
   "outputs": [],
   "source": [
    "%load_ext autoreload\n",
    "%autoreload 2"
   ]
  },
  {
   "cell_type": "code",
   "execution_count": 1082,
   "metadata": {},
   "outputs": [],
   "source": [
    "import pandas as pd\n",
    "import numpy as np\n",
    "import glob\n",
    "import random\n",
    "from matplotlib import pyplot as plt\n",
    "import itertools\n",
    "import sys"
   ]
  },
  {
   "cell_type": "code",
   "execution_count": 1083,
   "metadata": {},
   "outputs": [],
   "source": [
    "sys.path.insert(0, '..')\n",
    "from src.run_detection import detect_active_areas as detect_active_areas_final"
   ]
  },
  {
   "cell_type": "markdown",
   "metadata": {},
   "source": [
    "# Load data"
   ]
  },
  {
   "cell_type": "code",
   "execution_count": 5,
   "metadata": {},
   "outputs": [
    {
     "data": {
      "text/html": [
       "<div>\n",
       "<style scoped>\n",
       "    .dataframe tbody tr th:only-of-type {\n",
       "        vertical-align: middle;\n",
       "    }\n",
       "\n",
       "    .dataframe tbody tr th {\n",
       "        vertical-align: top;\n",
       "    }\n",
       "\n",
       "    .dataframe thead th {\n",
       "        text-align: right;\n",
       "    }\n",
       "</style>\n",
       "<table border=\"1\" class=\"dataframe\">\n",
       "  <thead>\n",
       "    <tr style=\"text-align: right;\">\n",
       "      <th></th>\n",
       "      <th>house</th>\n",
       "      <th>machine</th>\n",
       "      <th>min_power_threshold</th>\n",
       "      <th>summed_power_min</th>\n",
       "      <th>summed_power_max</th>\n",
       "      <th>typical_duration</th>\n",
       "      <th>comment</th>\n",
       "    </tr>\n",
       "  </thead>\n",
       "  <tbody>\n",
       "    <tr>\n",
       "      <th>26</th>\n",
       "      <td>9</td>\n",
       "      <td>tumble_dryer</td>\n",
       "      <td>500.0</td>\n",
       "      <td>5000.0</td>\n",
       "      <td>30000.0</td>\n",
       "      <td>1.8</td>\n",
       "      <td>NaN</td>\n",
       "    </tr>\n",
       "    <tr>\n",
       "      <th>8</th>\n",
       "      <td>3</td>\n",
       "      <td>tumble_dryer</td>\n",
       "      <td>500.0</td>\n",
       "      <td>6000.0</td>\n",
       "      <td>28000.0</td>\n",
       "      <td>1.2</td>\n",
       "      <td>NaN</td>\n",
       "    </tr>\n",
       "    <tr>\n",
       "      <th>1</th>\n",
       "      <td>1</td>\n",
       "      <td>washing_machine</td>\n",
       "      <td>500.0</td>\n",
       "      <td>2000.0</td>\n",
       "      <td>6000.0</td>\n",
       "      <td>0.7</td>\n",
       "      <td>NaN</td>\n",
       "    </tr>\n",
       "    <tr>\n",
       "      <th>13</th>\n",
       "      <td>5</td>\n",
       "      <td>washing_machine</td>\n",
       "      <td>500.0</td>\n",
       "      <td>2000.0</td>\n",
       "      <td>8000.0</td>\n",
       "      <td>1.0</td>\n",
       "      <td>problematic noise floor</td>\n",
       "    </tr>\n",
       "  </tbody>\n",
       "</table>\n",
       "</div>"
      ],
      "text/plain": [
       "    house          machine  min_power_threshold  summed_power_min  \\\n",
       "26      9     tumble_dryer                500.0            5000.0   \n",
       "8       3     tumble_dryer                500.0            6000.0   \n",
       "1       1  washing_machine                500.0            2000.0   \n",
       "13      5  washing_machine                500.0            2000.0   \n",
       "\n",
       "    summed_power_max  typical_duration                  comment  \n",
       "26           30000.0               1.8                      NaN  \n",
       "8            28000.0               1.2                      NaN  \n",
       "1             6000.0               0.7                      NaN  \n",
       "13            8000.0               1.0  problematic noise floor  "
      ]
     },
     "execution_count": 5,
     "metadata": {},
     "output_type": "execute_result"
    }
   ],
   "source": [
    "param_df = pd.read_csv('../refit_thresholds.csv')\n",
    "param_df = param_df[~param_df.min_power_threshold.isna()]\n",
    "param_df.sample(4)"
   ]
  },
  {
   "cell_type": "code",
   "execution_count": 1303,
   "metadata": {},
   "outputs": [
    {
     "data": {
      "text/plain": [
       "{'house': 3,\n",
       " 'machine': 'tumble_dryer',\n",
       " 'min_power_threshold': 500.0,\n",
       " 'summed_power_min': 6000.0,\n",
       " 'summed_power_max': 28000.0,\n",
       " 'typical_duration': 1.2,\n",
       " 'comment': nan}"
      ]
     },
     "execution_count": 1303,
     "metadata": {},
     "output_type": "execute_result"
    }
   ],
   "source": [
    "params = random.choice(param_df.to_dict('records'))\n",
    "params"
   ]
  },
  {
   "cell_type": "code",
   "execution_count": 1304,
   "metadata": {},
   "outputs": [
    {
     "data": {
      "text/plain": [
       "count    157172.000000\n",
       "mean         55.141896\n",
       "std         308.177335\n",
       "min           0.000000\n",
       "25%           0.000000\n",
       "50%           0.000000\n",
       "75%           0.000000\n",
       "max        2579.071429\n",
       "Name: X_tumble_dryer_power, dtype: float64"
      ]
     },
     "execution_count": 1304,
     "metadata": {},
     "output_type": "execute_result"
    }
   ],
   "source": [
    "machine_series = pd.read_hdf(f'../data/refit/house_{params[\"house\"]}_300s.hdf')[f'X_{params[\"machine\"]}_power']\n",
    "machine_series.describe()"
   ]
  },
  {
   "cell_type": "markdown",
   "metadata": {},
   "source": [
    "# Experiment"
   ]
  },
  {
   "cell_type": "code",
   "execution_count": 1305,
   "metadata": {},
   "outputs": [
    {
     "data": {
      "text/plain": [
       "count     288.000000\n",
       "mean      131.183373\n",
       "std       475.161350\n",
       "min         0.000000\n",
       "25%         0.000000\n",
       "50%         0.000000\n",
       "75%         0.000000\n",
       "max      2336.520000\n",
       "Name: X_tumble_dryer_power, dtype: float64"
      ]
     },
     "execution_count": 1305,
     "metadata": {},
     "output_type": "execute_result"
    }
   ],
   "source": [
    "temp = list(machine_series.groupby(machine_series.index.date))\n",
    "while True:\n",
    "    _, day_series = random.choice(temp)\n",
    "    if day_series.max() >= params['min_power_threshold']:\n",
    "        break\n",
    "day_series.describe()"
   ]
  },
  {
   "cell_type": "code",
   "execution_count": 1306,
   "metadata": {},
   "outputs": [
    {
     "data": {
      "image/png": "[encoded data removed]",
      "text/plain": [
       "<Figure size 432x288 with 1 Axes>"
      ]
     },
     "metadata": {
      "needs_background": "light"
     },
     "output_type": "display_data"
    }
   ],
   "source": [
    "def grouper(iterable, n, fillvalue=None):\n",
    "    \"Collect data into fixed-length chunks or blocks\"\n",
    "    # grouper('ABCDEFG', 3, 'x') --> ABC DEF Gxx\"\n",
    "    args = [iter(iterable)] * n\n",
    "    return itertools.zip_longest(*args, fillvalue=fillvalue)\n",
    "\n",
    "def narrow_active_area(active_mask, active_area):\n",
    "    start, end = active_area\n",
    "    active_mask = active_mask[start:end]\n",
    "    return active_mask[active_mask == True].index[0], active_mask[active_mask == True].index[-1]\n",
    "\n",
    "def detect_active_areas(input_series, window_size = 12, greater_than=0, narrow=True):\n",
    "    active_mask = input_series > greater_than\n",
    "    temp = active_mask.rolling(window_size, center=True).sum()\n",
    "    temp = (temp > 0) & (np.isfinite(input_series))\n",
    "    temp = temp.astype('int8').diff()\n",
    "    areas = grouper(temp.index[(temp == 1) | (temp == -1)], n=2)\n",
    "    areas = [\n",
    "        (start, end)\n",
    "        for start, end in areas\n",
    "        if active_mask[start:end].any()\n",
    "    ]\n",
    "    if not narrow:\n",
    "        return list(areas)\n",
    "    areas = (narrow_active_area(active_mask, a) for a in areas)\n",
    "    areas = ((a, b) for a, b in areas if a != b)\n",
    "    return list(areas)\n",
    "\n",
    "def plot_active_areas(day_series, active_areas, ax=None):\n",
    "    day_series.plot(ax=ax)\n",
    "    for start, end in active_areas:\n",
    "        ax.axvspan(start, end, alpha=0.15, color='red')\n",
    "        \n",
    "active_areas = detect_active_areas(\n",
    "    day_series,\n",
    "    window_size=int(params['typical_duration'] * 12 // 2),\n",
    "    greater_than=params['min_power_threshold'] / 10,\n",
    ")\n",
    "plot_active_areas(day_series, active_areas, ax=plt.gca())"
   ]
  },
  {
   "cell_type": "code",
   "execution_count": 1307,
   "metadata": {},
   "outputs": [
    {
     "data": {
      "text/html": [
       "<div>\n",
       "<style scoped>\n",
       "    .dataframe tbody tr th:only-of-type {\n",
       "        vertical-align: middle;\n",
       "    }\n",
       "\n",
       "    .dataframe tbody tr th {\n",
       "        vertical-align: top;\n",
       "    }\n",
       "\n",
       "    .dataframe thead th {\n",
       "        text-align: right;\n",
       "    }\n",
       "</style>\n",
       "<table border=\"1\" class=\"dataframe\">\n",
       "  <thead>\n",
       "    <tr style=\"text-align: right;\">\n",
       "      <th></th>\n",
       "      <th>summed_power</th>\n",
       "      <th>duration_hours</th>\n",
       "    </tr>\n",
       "  </thead>\n",
       "  <tbody>\n",
       "    <tr>\n",
       "      <th>count</th>\n",
       "      <td>637.000000</td>\n",
       "      <td>637.000000</td>\n",
       "    </tr>\n",
       "    <tr>\n",
       "      <th>mean</th>\n",
       "      <td>13567.920645</td>\n",
       "      <td>0.844322</td>\n",
       "    </tr>\n",
       "    <tr>\n",
       "      <th>std</th>\n",
       "      <td>9792.176617</td>\n",
       "      <td>0.619842</td>\n",
       "    </tr>\n",
       "    <tr>\n",
       "      <th>min</th>\n",
       "      <td>181.115563</td>\n",
       "      <td>0.083333</td>\n",
       "    </tr>\n",
       "    <tr>\n",
       "      <th>25%</th>\n",
       "      <td>8017.994186</td>\n",
       "      <td>0.500000</td>\n",
       "    </tr>\n",
       "    <tr>\n",
       "      <th>50%</th>\n",
       "      <td>12228.863690</td>\n",
       "      <td>0.750000</td>\n",
       "    </tr>\n",
       "    <tr>\n",
       "      <th>75%</th>\n",
       "      <td>16818.751398</td>\n",
       "      <td>0.916667</td>\n",
       "    </tr>\n",
       "    <tr>\n",
       "      <th>max</th>\n",
       "      <td>127831.506820</td>\n",
       "      <td>5.333333</td>\n",
       "    </tr>\n",
       "  </tbody>\n",
       "</table>\n",
       "</div>"
      ],
      "text/plain": [
       "        summed_power  duration_hours\n",
       "count     637.000000      637.000000\n",
       "mean    13567.920645        0.844322\n",
       "std      9792.176617        0.619842\n",
       "min       181.115563        0.083333\n",
       "25%      8017.994186        0.500000\n",
       "50%     12228.863690        0.750000\n",
       "75%     16818.751398        0.916667\n",
       "max    127831.506820        5.333333"
      ]
     },
     "execution_count": 1307,
     "metadata": {},
     "output_type": "execute_result"
    }
   ],
   "source": [
    "all_active_areas = []\n",
    "for _, day_series in list(machine_series.groupby(machine_series.index.date)):\n",
    "    if day_series.max() < params['min_power_threshold']:\n",
    "        continue\n",
    "    active_areas = detect_active_areas(\n",
    "        day_series,\n",
    "        window_size=int(params['typical_duration'] * 12 // 2),\n",
    "        greater_than=params['min_power_threshold'] / 10,\n",
    "    )\n",
    "    for a in active_areas:\n",
    "        all_active_areas.append(a)\n",
    "\n",
    "def calc_active_area_stats(machine_series, active_areas):\n",
    "    active_area_stats = []\n",
    "    for start, end in active_areas:\n",
    "        active_area_series = machine_series[start:end]\n",
    "        active_area_stats.append({\n",
    "            'summed_power': active_area_series.sum(),\n",
    "            'duration_hours': (end - start) / np.timedelta64(1, 'h'),\n",
    "        })\n",
    "    return pd.DataFrame(active_area_stats)\n",
    "\n",
    "active_area_stats = calc_active_area_stats(machine_series, all_active_areas)\n",
    "active_area_stats.describe()"
   ]
  },
  {
   "cell_type": "code",
   "execution_count": 1308,
   "metadata": {},
   "outputs": [
    {
     "name": "stdout",
     "output_type": "stream",
     "text": [
      "0.9419152276295133\n"
     ]
    },
    {
     "data": {
      "image/png": "[encoded data removed]",
      "text/plain": [
       "<Figure size 432x288 with 1 Axes>"
      ]
     },
     "metadata": {
      "needs_background": "light"
     },
     "output_type": "display_data"
    }
   ],
   "source": [
    "good_mask = (\n",
    "    (active_area_stats.summed_power >= params['summed_power_min'] / 2)\n",
    "    # (active_area_stats.summed_power <= params['summed_power_max']) &\n",
    "    # (active_area_stats.duration_hours >= params['typical_duration'] * 0.1)\n",
    "    # (active_area_stats.duration_hours <= params['typical_duration'] * 3)\n",
    ")\n",
    "print(good_mask.mean())\n",
    "\n",
    "fig, ax = plt.subplots()\n",
    "active_area_stats[~good_mask].plot.scatter('duration_hours', 'summed_power', alpha=0.1, ax=ax)\n",
    "active_area_stats[good_mask].plot.scatter('duration_hours', 'summed_power', alpha=0.1, c='C1', ax=ax);"
   ]
  },
  {
   "cell_type": "code",
   "execution_count": 1309,
   "metadata": {},
   "outputs": [
    {
     "data": {
      "text/plain": [
       "0.006484708138555357"
      ]
     },
     "execution_count": 1309,
     "metadata": {},
     "output_type": "execute_result"
    }
   ],
   "source": [
    "active_area_stats[~good_mask].summed_power.sum() / active_area_stats.summed_power.sum()"
   ]
  },
  {
   "cell_type": "code",
   "execution_count": 1310,
   "metadata": {},
   "outputs": [
    {
     "name": "stderr",
     "output_type": "stream",
     "text": [
      "/home/philippe/src/git.ihomelab.ch/SccerPhase2/load-shifting-potential/.venv/lib/python3.6/site-packages/pandas/core/arrays/datetimes.py:1102: UserWarning: Converting to PeriodArray/Index representation will drop timezone information.\n",
      "  UserWarning,\n"
     ]
    },
    {
     "data": {
      "image/png": "[encoded data removed]",
      "text/plain": [
       "<Figure size 1008x288 with 2 Axes>"
      ]
     },
     "metadata": {
      "needs_background": "light"
     },
     "output_type": "display_data"
    }
   ],
   "source": [
    "def plot_day_with_active_area(machine_series, active_area, ax=None):\n",
    "    start, end = active_area\n",
    "    day_series = machine_series[str(start.date())]\n",
    "    plot_active_areas(day_series, [active_area], ax=ax)\n",
    "    \n",
    "i_good, i_bad = [\n",
    "    active_area_stats[m].sample().index.values.item()\n",
    "    for m in [good_mask, ~good_mask]\n",
    "]\n",
    "\n",
    "fig, ax = plt.subplots(1, 2, figsize=(14, 4))\n",
    "for i_ax, i_active in enumerate([i_good, i_bad]):\n",
    "    plot_day_with_active_area(machine_series, all_active_areas[i_active], ax=ax[i_ax])"
   ]
  },
  {
   "cell_type": "code",
   "execution_count": 1317,
   "metadata": {},
   "outputs": [
    {
     "name": "stdout",
     "output_type": "stream",
     "text": [
      "0.6907378335949764\n",
      "[([(0, 38)], 0.32725601777003976), ([(0, 19), (19, 38)], 0.02117442569107359), ([(0, 12), (12, 25), (25, 38)], 0.013557007703423496), ([(0, 9), (9, 19), (19, 28), (28, 38)], 0.15693463882641415), ([(0, 7), (7, 15), (15, 22), (22, 30), (30, 38)], 0.015444638322306909), ([(0, 6), (6, 12), (12, 19), (19, 25), (25, 31), (31, 38)], inf)]\n"
     ]
    },
    {
     "name": "stderr",
     "output_type": "stream",
     "text": [
      "/home/philippe/src/git.ihomelab.ch/SccerPhase2/load-shifting-potential/.venv/lib/python3.6/site-packages/pandas/core/arrays/datetimes.py:1102: UserWarning: Converting to PeriodArray/Index representation will drop timezone information.\n",
      "  UserWarning,\n"
     ]
    },
    {
     "data": {
      "image/png": "[encoded data removed]",
      "text/plain": [
       "<Figure size 432x288 with 1 Axes>"
      ]
     },
     "metadata": {
      "needs_background": "light"
     },
     "output_type": "display_data"
    }
   ],
   "source": [
    "def force_split_active_area(active_area_series, n):\n",
    "    ind = active_area_series.index\n",
    "    borders = np.linspace(0, len(ind), n + 1).astype(np.int32)\n",
    "    borders[-1] = len(ind)\n",
    "    if len(set(borders)) != n + 1:\n",
    "        return None\n",
    "    return list(zip(borders, borders[1:]))\n",
    "\n",
    "def rate_active_area_split(active_area_series, split, params):\n",
    "    split_series = [active_area_series.iloc[start:end] for start, end in split]\n",
    "    \n",
    "    if any(s.max() < params['min_power_threshold'] for s in split_series):\n",
    "        return np.inf\n",
    "    \n",
    "    summed_power_values = np.array([s.sum() for s in split_series])\n",
    "    \n",
    "    undershoot = (params['summed_power_min'] - summed_power_values).clip(min=0).sum()\n",
    "    overshoot = (summed_power_values - params['summed_power_max']).clip(min=0).sum()\n",
    "    \n",
    "    power_limit_loss = (overshoot + undershoot) / (params['summed_power_min'] + params['summed_power_max'])\n",
    "    \n",
    "    balance_loss = summed_power_values.std() / summed_power_values.mean() if len(split) > 1 else 0\n",
    "    \n",
    "    return power_limit_loss + 0.1 * balance_loss\n",
    "\n",
    "def get_rated_active_area_splits(active_area_series, params):\n",
    "    active_area_series = active_area_series.asfreq('5T')\n",
    "    rated_splits = []\n",
    "    max_n = min(10, int(active_area_series.sum() / params['summed_power_min']) + 1)\n",
    "    for n in range(1, max_n):\n",
    "        split = force_split_active_area(active_area_series, n)\n",
    "        if split is None:\n",
    "            continue\n",
    "        rating = rate_active_area_split(active_area_series, split, params)\n",
    "        rated_splits.append((split, rating))\n",
    "    return rated_splits\n",
    "\n",
    "temp = active_area_stats.summed_power >= params['summed_power_min'] * 1.5\n",
    "print(temp.mean())\n",
    "i_active = active_area_stats[temp].sample().index.values.item()\n",
    "active_area = all_active_areas[i_active]\n",
    "active_area_series = machine_series[active_area[0]:active_area[1]]\n",
    "print(get_rated_active_area_splits(active_area_series, params))\n",
    "plot_day_with_active_area(machine_series, all_active_areas[i_active], ax=plt.gca())"
   ]
  },
  {
   "cell_type": "code",
   "execution_count": 1261,
   "metadata": {},
   "outputs": [
    {
     "data": {
      "text/html": [
       "<div>\n",
       "<style scoped>\n",
       "    .dataframe tbody tr th:only-of-type {\n",
       "        vertical-align: middle;\n",
       "    }\n",
       "\n",
       "    .dataframe tbody tr th {\n",
       "        vertical-align: top;\n",
       "    }\n",
       "\n",
       "    .dataframe thead th {\n",
       "        text-align: right;\n",
       "    }\n",
       "</style>\n",
       "<table border=\"1\" class=\"dataframe\">\n",
       "  <thead>\n",
       "    <tr style=\"text-align: right;\">\n",
       "      <th></th>\n",
       "      <th>summed_power</th>\n",
       "      <th>duration_hours</th>\n",
       "    </tr>\n",
       "  </thead>\n",
       "  <tbody>\n",
       "    <tr>\n",
       "      <th>count</th>\n",
       "      <td>230.000000</td>\n",
       "      <td>230.000000</td>\n",
       "    </tr>\n",
       "    <tr>\n",
       "      <th>mean</th>\n",
       "      <td>8767.779403</td>\n",
       "      <td>1.235507</td>\n",
       "    </tr>\n",
       "    <tr>\n",
       "      <th>std</th>\n",
       "      <td>2807.320352</td>\n",
       "      <td>0.323970</td>\n",
       "    </tr>\n",
       "    <tr>\n",
       "      <th>min</th>\n",
       "      <td>4176.573660</td>\n",
       "      <td>0.333333</td>\n",
       "    </tr>\n",
       "    <tr>\n",
       "      <th>25%</th>\n",
       "      <td>6469.377825</td>\n",
       "      <td>1.083333</td>\n",
       "    </tr>\n",
       "    <tr>\n",
       "      <th>50%</th>\n",
       "      <td>8348.725763</td>\n",
       "      <td>1.166667</td>\n",
       "    </tr>\n",
       "    <tr>\n",
       "      <th>75%</th>\n",
       "      <td>10683.424874</td>\n",
       "      <td>1.250000</td>\n",
       "    </tr>\n",
       "    <tr>\n",
       "      <th>max</th>\n",
       "      <td>17295.093040</td>\n",
       "      <td>2.750000</td>\n",
       "    </tr>\n",
       "  </tbody>\n",
       "</table>\n",
       "</div>"
      ],
      "text/plain": [
       "       summed_power  duration_hours\n",
       "count    230.000000      230.000000\n",
       "mean    8767.779403        1.235507\n",
       "std     2807.320352        0.323970\n",
       "min     4176.573660        0.333333\n",
       "25%     6469.377825        1.083333\n",
       "50%     8348.725763        1.166667\n",
       "75%    10683.424874        1.250000\n",
       "max    17295.093040        2.750000"
      ]
     },
     "execution_count": 1261,
     "metadata": {},
     "output_type": "execute_result"
    }
   ],
   "source": [
    "final_active_areas = detect_active_areas_final(machine_series, params)\n",
    "active_area_stats = calc_active_area_stats(machine_series, final_active_areas)\n",
    "active_area_stats.describe()"
   ]
  },
  {
   "cell_type": "code",
   "execution_count": 1262,
   "metadata": {},
   "outputs": [
    {
     "data": {
      "image/png": "[encoded data removed]",
      "text/plain": [
       "<Figure size 432x288 with 1 Axes>"
      ]
     },
     "metadata": {
      "needs_background": "light"
     },
     "output_type": "display_data"
    }
   ],
   "source": [
    "active_area_stats.plot.scatter('duration_hours', 'summed_power', alpha=0.1, c='C1');"
   ]
  },
  {
   "cell_type": "code",
   "execution_count": 1271,
   "metadata": {},
   "outputs": [
    {
     "data": {
      "image/png": "[encoded data removed]",
      "text/plain": [
       "<Figure size 432x288 with 1 Axes>"
      ]
     },
     "metadata": {
      "needs_background": "light"
     },
     "output_type": "display_data"
    }
   ],
   "source": [
    "plot_day_with_active_area(machine_series, random.choice(final_active_areas), ax=plt.gca())"
   ]
  },
  {
   "cell_type": "code",
   "execution_count": 1273,
   "metadata": {},
   "outputs": [
    {
     "data": {
      "text/plain": [
       "0.9663126282124322"
      ]
     },
     "execution_count": 1273,
     "metadata": {},
     "output_type": "execute_result"
    }
   ],
   "source": [
    "sum(machine_series[start:end].sum() for start, end in final_active_areas) / machine_series.sum()"
   ]
  },
  {
   "cell_type": "code",
   "execution_count": null,
   "metadata": {},
   "outputs": [],
   "source": []
  }
 ],
 "metadata": {
  "kernelspec": {
   "display_name": "Python 3",
   "language": "python",
   "name": "python3"
  },
  "language_info": {
   "codemirror_mode": {
    "name": "ipython",
    "version": 3
   },
   "file_extension": ".py",
   "mimetype": "text/x-python",
   "name": "python",
   "nbconvert_exporter": "python",
   "pygments_lexer": "ipython3",
   "version": "3.6.9"
  }
 },
 "nbformat": 4,
 "nbformat_minor": 4
}
